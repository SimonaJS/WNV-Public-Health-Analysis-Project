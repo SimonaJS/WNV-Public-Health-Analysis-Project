{
 "cells": [
  {
   "cell_type": "markdown",
   "id": "e7232b7a",
   "metadata": {},
   "source": [
    "## West Nile Virus (WNV) Public Health Analysis Project 1"
   ]
  },
  {
   "cell_type": "markdown",
   "id": "97d4b62f",
   "metadata": {},
   "source": [
    "### Part 1: Data Cleaning and EDA"
   ]
  },
  {
   "cell_type": "markdown",
   "id": "de995b16",
   "metadata": {},
   "source": [
    "##### Preliminaries: <span style=\"font-size:14px; font-weight:normal;\">Importing libraries and data, peaking at the data, and cleaning up column names </span>"
   ]
  },
  {
   "cell_type": "code",
   "execution_count": 1,
   "id": "07f9de9b",
   "metadata": {},
   "outputs": [],
   "source": [
    "# Importing all required libraries: \n",
    "\n",
    "import numpy as np\n",
    "import pandas as pd\n",
    "import seaborn as sns\n",
    "import matplotlib.pyplot as plt\n",
    "from matplotlib.ticker import FuncFormatter\n",
    "%matplotlib inline"
   ]
  },
  {
   "cell_type": "code",
   "execution_count": 2,
   "id": "1163aa80",
   "metadata": {},
   "outputs": [],
   "source": [
    "# Importing the data and creating new dataframe: \n",
    "\n",
    "df=pd.read_csv('C:/Users/simon/Downloads/mosquito_data.csv')"
   ]
  },
  {
   "cell_type": "code",
   "execution_count": 3,
   "id": "f286b5df",
   "metadata": {},
   "outputs": [
    {
     "data": {
      "text/html": [
       "<div>\n",
       "<style scoped>\n",
       "    .dataframe tbody tr th:only-of-type {\n",
       "        vertical-align: middle;\n",
       "    }\n",
       "\n",
       "    .dataframe tbody tr th {\n",
       "        vertical-align: top;\n",
       "    }\n",
       "\n",
       "    .dataframe thead th {\n",
       "        text-align: right;\n",
       "    }\n",
       "</style>\n",
       "<table border=\"1\" class=\"dataframe\">\n",
       "  <thead>\n",
       "    <tr style=\"text-align: right;\">\n",
       "      <th></th>\n",
       "      <th>Year</th>\n",
       "      <th>Week</th>\n",
       "      <th>Address Block</th>\n",
       "      <th>Block</th>\n",
       "      <th>Trap</th>\n",
       "      <th>Trap type</th>\n",
       "      <th>Date</th>\n",
       "      <th>Mosquito number</th>\n",
       "      <th>Mosquito ID</th>\n",
       "      <th>WNV Present</th>\n",
       "      <th>Species</th>\n",
       "      <th>Lat</th>\n",
       "      <th>Lon</th>\n",
       "    </tr>\n",
       "  </thead>\n",
       "  <tbody>\n",
       "    <tr>\n",
       "      <th>0</th>\n",
       "      <td>2019</td>\n",
       "      <td>39</td>\n",
       "      <td>100XX W OHARE AIRPORT</td>\n",
       "      <td>100</td>\n",
       "      <td>T910</td>\n",
       "      <td>GRAVID</td>\n",
       "      <td>2019-09-26 00:09:00</td>\n",
       "      <td>2</td>\n",
       "      <td>Res</td>\n",
       "      <td>negative</td>\n",
       "      <td>CULEX RESTUANS</td>\n",
       "      <td>NaN</td>\n",
       "      <td>NaN</td>\n",
       "    </tr>\n",
       "    <tr>\n",
       "      <th>1</th>\n",
       "      <td>2019</td>\n",
       "      <td>39</td>\n",
       "      <td>52XX S KOLMAR AVE</td>\n",
       "      <td>52</td>\n",
       "      <td>T114</td>\n",
       "      <td>GRAVID</td>\n",
       "      <td>2019-09-26 00:09:00</td>\n",
       "      <td>1</td>\n",
       "      <td>Res</td>\n",
       "      <td>negative</td>\n",
       "      <td>CULEX RESTUANS</td>\n",
       "      <td>41.798211</td>\n",
       "      <td>-87.736925</td>\n",
       "    </tr>\n",
       "    <tr>\n",
       "      <th>2</th>\n",
       "      <td>2019</td>\n",
       "      <td>39</td>\n",
       "      <td>58XX N WESTERN AVE</td>\n",
       "      <td>58</td>\n",
       "      <td>T028</td>\n",
       "      <td>GRAVID</td>\n",
       "      <td>2019-09-26 00:09:00</td>\n",
       "      <td>2</td>\n",
       "      <td>Res</td>\n",
       "      <td>negative</td>\n",
       "      <td>CULEX RESTUANS</td>\n",
       "      <td>41.987245</td>\n",
       "      <td>-87.689417</td>\n",
       "    </tr>\n",
       "    <tr>\n",
       "      <th>3</th>\n",
       "      <td>2019</td>\n",
       "      <td>39</td>\n",
       "      <td>39XX N SPRINGFIELD AVE</td>\n",
       "      <td>39</td>\n",
       "      <td>T228</td>\n",
       "      <td>GRAVID</td>\n",
       "      <td>2019-09-26 00:09:00</td>\n",
       "      <td>1</td>\n",
       "      <td>Res</td>\n",
       "      <td>negative</td>\n",
       "      <td>CULEX RESTUANS</td>\n",
       "      <td>41.953664</td>\n",
       "      <td>-87.724987</td>\n",
       "    </tr>\n",
       "    <tr>\n",
       "      <th>4</th>\n",
       "      <td>2019</td>\n",
       "      <td>39</td>\n",
       "      <td>131XX S BRANDON AVE</td>\n",
       "      <td>131</td>\n",
       "      <td>T209</td>\n",
       "      <td>GRAVID</td>\n",
       "      <td>2019-09-26 00:09:00</td>\n",
       "      <td>9</td>\n",
       "      <td>Res</td>\n",
       "      <td>negative</td>\n",
       "      <td>CULEX RESTUANS</td>\n",
       "      <td>41.657069</td>\n",
       "      <td>-87.546049</td>\n",
       "    </tr>\n",
       "  </tbody>\n",
       "</table>\n",
       "</div>"
      ],
      "text/plain": [
       "   Year  Week           Address Block  Block  Trap Trap type  \\\n",
       "0  2019    39   100XX W OHARE AIRPORT    100  T910    GRAVID   \n",
       "1  2019    39       52XX S KOLMAR AVE     52  T114    GRAVID   \n",
       "2  2019    39      58XX N WESTERN AVE     58  T028    GRAVID   \n",
       "3  2019    39  39XX N SPRINGFIELD AVE     39  T228    GRAVID   \n",
       "4  2019    39     131XX S BRANDON AVE    131  T209    GRAVID   \n",
       "\n",
       "                  Date  Mosquito number Mosquito ID WNV Present  \\\n",
       "0  2019-09-26 00:09:00                2         Res    negative   \n",
       "1  2019-09-26 00:09:00                1         Res    negative   \n",
       "2  2019-09-26 00:09:00                2         Res    negative   \n",
       "3  2019-09-26 00:09:00                1         Res    negative   \n",
       "4  2019-09-26 00:09:00                9         Res    negative   \n",
       "\n",
       "          Species        Lat        Lon  \n",
       "0  CULEX RESTUANS        NaN        NaN  \n",
       "1  CULEX RESTUANS  41.798211 -87.736925  \n",
       "2  CULEX RESTUANS  41.987245 -87.689417  \n",
       "3  CULEX RESTUANS  41.953664 -87.724987  \n",
       "4  CULEX RESTUANS  41.657069 -87.546049  "
      ]
     },
     "execution_count": 3,
     "metadata": {},
     "output_type": "execute_result"
    }
   ],
   "source": [
    "# Looking at the first 5 entries:\n",
    "\n",
    "df.head()"
   ]
  },
  {
   "cell_type": "code",
   "execution_count": 4,
   "id": "34507f19",
   "metadata": {},
   "outputs": [
    {
     "data": {
      "text/html": [
       "<div>\n",
       "<style scoped>\n",
       "    .dataframe tbody tr th:only-of-type {\n",
       "        vertical-align: middle;\n",
       "    }\n",
       "\n",
       "    .dataframe tbody tr th {\n",
       "        vertical-align: top;\n",
       "    }\n",
       "\n",
       "    .dataframe thead th {\n",
       "        text-align: right;\n",
       "    }\n",
       "</style>\n",
       "<table border=\"1\" class=\"dataframe\">\n",
       "  <thead>\n",
       "    <tr style=\"text-align: right;\">\n",
       "      <th></th>\n",
       "      <th>Year</th>\n",
       "      <th>Week</th>\n",
       "      <th>Address Block</th>\n",
       "      <th>Block</th>\n",
       "      <th>Trap</th>\n",
       "      <th>Trap type</th>\n",
       "      <th>Date</th>\n",
       "      <th>Mosquito number</th>\n",
       "      <th>Mosquito ID</th>\n",
       "      <th>WNV Present</th>\n",
       "      <th>Species</th>\n",
       "      <th>Lat</th>\n",
       "      <th>Lon</th>\n",
       "    </tr>\n",
       "  </thead>\n",
       "  <tbody>\n",
       "    <tr>\n",
       "      <th>18490</th>\n",
       "      <td>2016</td>\n",
       "      <td>36</td>\n",
       "      <td>3XX W 18TH ST</td>\n",
       "      <td>3</td>\n",
       "      <td>T043</td>\n",
       "      <td>GRAVID</td>\n",
       "      <td>2016-09-09 00:09:00</td>\n",
       "      <td>4</td>\n",
       "      <td>Pip</td>\n",
       "      <td>positive</td>\n",
       "      <td>CULEX PIPIENS</td>\n",
       "      <td>41.857843</td>\n",
       "      <td>-87.635858</td>\n",
       "    </tr>\n",
       "    <tr>\n",
       "      <th>18491</th>\n",
       "      <td>2007</td>\n",
       "      <td>34</td>\n",
       "      <td>46XX N MILWAUKEE AVE</td>\n",
       "      <td>46</td>\n",
       "      <td>T003</td>\n",
       "      <td>GRAVID</td>\n",
       "      <td>2007-08-24 00:08:00</td>\n",
       "      <td>19</td>\n",
       "      <td>Pip</td>\n",
       "      <td>positive</td>\n",
       "      <td>CULEX PIPIENS</td>\n",
       "      <td>41.965376</td>\n",
       "      <td>-87.758403</td>\n",
       "    </tr>\n",
       "    <tr>\n",
       "      <th>18492</th>\n",
       "      <td>2016</td>\n",
       "      <td>30</td>\n",
       "      <td>127XX S DOTY AVE</td>\n",
       "      <td>127</td>\n",
       "      <td>T115</td>\n",
       "      <td>GRAVID</td>\n",
       "      <td>2016-07-27 00:07:00</td>\n",
       "      <td>34</td>\n",
       "      <td>Res</td>\n",
       "      <td>positive</td>\n",
       "      <td>CULEX RESTUANS</td>\n",
       "      <td>41.662395</td>\n",
       "      <td>-87.590176</td>\n",
       "    </tr>\n",
       "    <tr>\n",
       "      <th>18493</th>\n",
       "      <td>2017</td>\n",
       "      <td>33</td>\n",
       "      <td>20XX N DOMINICK ST</td>\n",
       "      <td>20</td>\n",
       "      <td>T240B</td>\n",
       "      <td>SENTINEL</td>\n",
       "      <td>2017-08-17 00:08:00</td>\n",
       "      <td>50</td>\n",
       "      <td>Res</td>\n",
       "      <td>positive</td>\n",
       "      <td>CULEX RESTUANS</td>\n",
       "      <td>41.919197</td>\n",
       "      <td>-87.664758</td>\n",
       "    </tr>\n",
       "    <tr>\n",
       "      <th>18494</th>\n",
       "      <td>2015</td>\n",
       "      <td>33</td>\n",
       "      <td>100XX W OHARE AIRPORT</td>\n",
       "      <td>100</td>\n",
       "      <td>T902</td>\n",
       "      <td>GRAVID</td>\n",
       "      <td>2015-08-20 00:08:00</td>\n",
       "      <td>6</td>\n",
       "      <td>Res</td>\n",
       "      <td>positive</td>\n",
       "      <td>CULEX RESTUANS</td>\n",
       "      <td>NaN</td>\n",
       "      <td>NaN</td>\n",
       "    </tr>\n",
       "  </tbody>\n",
       "</table>\n",
       "</div>"
      ],
      "text/plain": [
       "       Year  Week          Address Block  Block   Trap Trap type  \\\n",
       "18490  2016    36          3XX W 18TH ST      3   T043    GRAVID   \n",
       "18491  2007    34   46XX N MILWAUKEE AVE     46   T003    GRAVID   \n",
       "18492  2016    30       127XX S DOTY AVE    127   T115    GRAVID   \n",
       "18493  2017    33     20XX N DOMINICK ST     20  T240B  SENTINEL   \n",
       "18494  2015    33  100XX W OHARE AIRPORT    100   T902    GRAVID   \n",
       "\n",
       "                      Date  Mosquito number Mosquito ID WNV Present  \\\n",
       "18490  2016-09-09 00:09:00                4         Pip    positive   \n",
       "18491  2007-08-24 00:08:00               19         Pip    positive   \n",
       "18492  2016-07-27 00:07:00               34         Res    positive   \n",
       "18493  2017-08-17 00:08:00               50         Res    positive   \n",
       "18494  2015-08-20 00:08:00                6         Res    positive   \n",
       "\n",
       "              Species        Lat        Lon  \n",
       "18490   CULEX PIPIENS  41.857843 -87.635858  \n",
       "18491   CULEX PIPIENS  41.965376 -87.758403  \n",
       "18492  CULEX RESTUANS  41.662395 -87.590176  \n",
       "18493  CULEX RESTUANS  41.919197 -87.664758  \n",
       "18494  CULEX RESTUANS        NaN        NaN  "
      ]
     },
     "execution_count": 4,
     "metadata": {},
     "output_type": "execute_result"
    }
   ],
   "source": [
    "# Looking at the last 5 entries:\n",
    "\n",
    "df.tail()"
   ]
  },
  {
   "cell_type": "code",
   "execution_count": 5,
   "id": "dcfa66b6",
   "metadata": {},
   "outputs": [
    {
     "name": "stdout",
     "output_type": "stream",
     "text": [
      "<class 'pandas.core.frame.DataFrame'>\n",
      "RangeIndex: 18495 entries, 0 to 18494\n",
      "Data columns (total 13 columns):\n",
      " #   Column           Non-Null Count  Dtype  \n",
      "---  ------           --------------  -----  \n",
      " 0   Year             18495 non-null  int64  \n",
      " 1   Week             18495 non-null  int64  \n",
      " 2   Address Block    18495 non-null  object \n",
      " 3   Block            18495 non-null  int64  \n",
      " 4   Trap             18495 non-null  object \n",
      " 5   Trap type        18495 non-null  object \n",
      " 6   Date             18495 non-null  object \n",
      " 7   Mosquito number  18495 non-null  int64  \n",
      " 8   Mosquito ID      18495 non-null  object \n",
      " 9   WNV Present      18495 non-null  object \n",
      " 10  Species          18495 non-null  object \n",
      " 11  Lat              15571 non-null  float64\n",
      " 12  Lon              15571 non-null  float64\n",
      "dtypes: float64(2), int64(4), object(7)\n",
      "memory usage: 1.8+ MB\n"
     ]
    }
   ],
   "source": [
    "# Checking which data types and how many null values are stored: \n",
    "\n",
    "df.info()"
   ]
  },
  {
   "cell_type": "code",
   "execution_count": 6,
   "id": "2061de28",
   "metadata": {},
   "outputs": [
    {
     "data": {
      "text/html": [
       "<div>\n",
       "<style scoped>\n",
       "    .dataframe tbody tr th:only-of-type {\n",
       "        vertical-align: middle;\n",
       "    }\n",
       "\n",
       "    .dataframe tbody tr th {\n",
       "        vertical-align: top;\n",
       "    }\n",
       "\n",
       "    .dataframe thead th {\n",
       "        text-align: right;\n",
       "    }\n",
       "</style>\n",
       "<table border=\"1\" class=\"dataframe\">\n",
       "  <thead>\n",
       "    <tr style=\"text-align: right;\">\n",
       "      <th></th>\n",
       "      <th>Year</th>\n",
       "      <th>Week</th>\n",
       "      <th>Block</th>\n",
       "      <th>Mosquito number</th>\n",
       "      <th>Lat</th>\n",
       "      <th>Lon</th>\n",
       "    </tr>\n",
       "  </thead>\n",
       "  <tbody>\n",
       "    <tr>\n",
       "      <th>count</th>\n",
       "      <td>18495.000000</td>\n",
       "      <td>18495.000000</td>\n",
       "      <td>18495.000000</td>\n",
       "      <td>18495.000000</td>\n",
       "      <td>15571.000000</td>\n",
       "      <td>15571.000000</td>\n",
       "    </tr>\n",
       "    <tr>\n",
       "      <th>mean</th>\n",
       "      <td>2012.905812</td>\n",
       "      <td>31.004001</td>\n",
       "      <td>54.314788</td>\n",
       "      <td>10.879913</td>\n",
       "      <td>41.839963</td>\n",
       "      <td>-87.691642</td>\n",
       "    </tr>\n",
       "    <tr>\n",
       "      <th>std</th>\n",
       "      <td>3.725857</td>\n",
       "      <td>4.332020</td>\n",
       "      <td>36.712796</td>\n",
       "      <td>13.475066</td>\n",
       "      <td>0.111374</td>\n",
       "      <td>0.076545</td>\n",
       "    </tr>\n",
       "    <tr>\n",
       "      <th>min</th>\n",
       "      <td>2007.000000</td>\n",
       "      <td>20.000000</td>\n",
       "      <td>1.000000</td>\n",
       "      <td>1.000000</td>\n",
       "      <td>41.644720</td>\n",
       "      <td>-87.854473</td>\n",
       "    </tr>\n",
       "    <tr>\n",
       "      <th>25%</th>\n",
       "      <td>2010.000000</td>\n",
       "      <td>28.000000</td>\n",
       "      <td>22.000000</td>\n",
       "      <td>2.000000</td>\n",
       "      <td>41.742670</td>\n",
       "      <td>-87.747459</td>\n",
       "    </tr>\n",
       "    <tr>\n",
       "      <th>50%</th>\n",
       "      <td>2013.000000</td>\n",
       "      <td>31.000000</td>\n",
       "      <td>51.000000</td>\n",
       "      <td>5.000000</td>\n",
       "      <td>41.845715</td>\n",
       "      <td>-87.691698</td>\n",
       "    </tr>\n",
       "    <tr>\n",
       "      <th>75%</th>\n",
       "      <td>2016.000000</td>\n",
       "      <td>34.000000</td>\n",
       "      <td>89.000000</td>\n",
       "      <td>14.000000</td>\n",
       "      <td>41.945961</td>\n",
       "      <td>-87.637873</td>\n",
       "    </tr>\n",
       "    <tr>\n",
       "      <th>max</th>\n",
       "      <td>2019.000000</td>\n",
       "      <td>40.000000</td>\n",
       "      <td>132.000000</td>\n",
       "      <td>50.000000</td>\n",
       "      <td>42.017801</td>\n",
       "      <td>-87.531051</td>\n",
       "    </tr>\n",
       "  </tbody>\n",
       "</table>\n",
       "</div>"
      ],
      "text/plain": [
       "               Year          Week         Block  Mosquito number  \\\n",
       "count  18495.000000  18495.000000  18495.000000     18495.000000   \n",
       "mean    2012.905812     31.004001     54.314788        10.879913   \n",
       "std        3.725857      4.332020     36.712796        13.475066   \n",
       "min     2007.000000     20.000000      1.000000         1.000000   \n",
       "25%     2010.000000     28.000000     22.000000         2.000000   \n",
       "50%     2013.000000     31.000000     51.000000         5.000000   \n",
       "75%     2016.000000     34.000000     89.000000        14.000000   \n",
       "max     2019.000000     40.000000    132.000000        50.000000   \n",
       "\n",
       "                Lat           Lon  \n",
       "count  15571.000000  15571.000000  \n",
       "mean      41.839963    -87.691642  \n",
       "std        0.111374      0.076545  \n",
       "min       41.644720    -87.854473  \n",
       "25%       41.742670    -87.747459  \n",
       "50%       41.845715    -87.691698  \n",
       "75%       41.945961    -87.637873  \n",
       "max       42.017801    -87.531051  "
      ]
     },
     "execution_count": 6,
     "metadata": {},
     "output_type": "execute_result"
    }
   ],
   "source": [
    "# Getting some descriptive statistics:\n",
    "\n",
    "df.describe()"
   ]
  },
  {
   "cell_type": "markdown",
   "id": "7969a9be",
   "metadata": {},
   "source": [
    "We are now going to convert all the capital letters to lower letters and remove the white spaces in the column names. This will make our dataframe more accessible and a little less complicated for coding purposes. For clarity reasons, we are also going to rename the column *mosquito_number* to *mosquito_count*.  "
   ]
  },
  {
   "cell_type": "code",
   "execution_count": 7,
   "id": "e32659e7",
   "metadata": {},
   "outputs": [],
   "source": [
    "# Renaming the 'Mosquito number' column:\n",
    "\n",
    "df.rename(columns={'Mosquito number': 'Mosquito count'}, inplace=True)"
   ]
  },
  {
   "cell_type": "code",
   "execution_count": 8,
   "id": "81184703",
   "metadata": {},
   "outputs": [],
   "source": [
    "# Eliminating capital letters and white space in column names:\n",
    "\n",
    "df.columns=df.columns.str.strip().str.lower().str.replace(' ', '_', regex=False).str.replace('(', '', regex=False).str.replace(')', '', regex=False)"
   ]
  },
  {
   "cell_type": "code",
   "execution_count": 9,
   "id": "4d21be98",
   "metadata": {},
   "outputs": [
    {
     "data": {
      "text/html": [
       "<div>\n",
       "<style scoped>\n",
       "    .dataframe tbody tr th:only-of-type {\n",
       "        vertical-align: middle;\n",
       "    }\n",
       "\n",
       "    .dataframe tbody tr th {\n",
       "        vertical-align: top;\n",
       "    }\n",
       "\n",
       "    .dataframe thead th {\n",
       "        text-align: right;\n",
       "    }\n",
       "</style>\n",
       "<table border=\"1\" class=\"dataframe\">\n",
       "  <thead>\n",
       "    <tr style=\"text-align: right;\">\n",
       "      <th></th>\n",
       "      <th>year</th>\n",
       "      <th>week</th>\n",
       "      <th>address_block</th>\n",
       "      <th>block</th>\n",
       "      <th>trap</th>\n",
       "      <th>trap_type</th>\n",
       "      <th>date</th>\n",
       "      <th>mosquito_count</th>\n",
       "      <th>mosquito_id</th>\n",
       "      <th>wnv_present</th>\n",
       "      <th>species</th>\n",
       "      <th>lat</th>\n",
       "      <th>lon</th>\n",
       "    </tr>\n",
       "  </thead>\n",
       "  <tbody>\n",
       "    <tr>\n",
       "      <th>0</th>\n",
       "      <td>2019</td>\n",
       "      <td>39</td>\n",
       "      <td>100XX W OHARE AIRPORT</td>\n",
       "      <td>100</td>\n",
       "      <td>T910</td>\n",
       "      <td>GRAVID</td>\n",
       "      <td>2019-09-26 00:09:00</td>\n",
       "      <td>2</td>\n",
       "      <td>Res</td>\n",
       "      <td>negative</td>\n",
       "      <td>CULEX RESTUANS</td>\n",
       "      <td>NaN</td>\n",
       "      <td>NaN</td>\n",
       "    </tr>\n",
       "  </tbody>\n",
       "</table>\n",
       "</div>"
      ],
      "text/plain": [
       "   year  week          address_block  block  trap trap_type  \\\n",
       "0  2019    39  100XX W OHARE AIRPORT    100  T910    GRAVID   \n",
       "\n",
       "                  date  mosquito_count mosquito_id wnv_present  \\\n",
       "0  2019-09-26 00:09:00               2         Res    negative   \n",
       "\n",
       "          species  lat  lon  \n",
       "0  CULEX RESTUANS  NaN  NaN  "
      ]
     },
     "execution_count": 9,
     "metadata": {},
     "output_type": "execute_result"
    }
   ],
   "source": [
    "# Checking to see that it was done correctly:\n",
    "\n",
    "df.head(1)"
   ]
  },
  {
   "cell_type": "markdown",
   "id": "20080245",
   "metadata": {},
   "source": [
    "### Part 1 - Basic Data Wrangling\n",
    "\n",
    "#### Question 1:<span style=\"font-size:14px; font-weight:normal;\"> ***Dataframe Shape*** </span> "
   ]
  },
  {
   "cell_type": "code",
   "execution_count": 10,
   "id": "ed14d35d",
   "metadata": {},
   "outputs": [
    {
     "data": {
      "text/plain": [
       "(18495, 13)"
      ]
     },
     "execution_count": 10,
     "metadata": {},
     "output_type": "execute_result"
    }
   ],
   "source": [
    "# Getting the dataframe shape:\n",
    "\n",
    "df.shape"
   ]
  },
  {
   "cell_type": "markdown",
   "id": "51e14a75",
   "metadata": {},
   "source": [
    "The dataframe has 18,495 rows and 13 columns. The shape of the dataframe is 18,495 x 13.\n"
   ]
  },
  {
   "cell_type": "markdown",
   "id": "da73aebe",
   "metadata": {},
   "source": [
    "#### Question 2: <span style=\"font-size:14px; font-weight:normal;\"> ***Converting the date Column to a Datetime Format*** </span> "
   ]
  },
  {
   "cell_type": "code",
   "execution_count": 11,
   "id": "fe459197",
   "metadata": {},
   "outputs": [],
   "source": [
    "# Converting the 'Date' column to a datetime format:\n",
    "\n",
    "df['date']=df['date'].astype('datetime64[ns]')"
   ]
  },
  {
   "cell_type": "code",
   "execution_count": 12,
   "id": "7e45247f",
   "metadata": {},
   "outputs": [
    {
     "data": {
      "text/plain": [
       "dtype('<M8[ns]')"
      ]
     },
     "execution_count": 12,
     "metadata": {},
     "output_type": "execute_result"
    }
   ],
   "source": [
    "# Checking to see that our conversion was done correctly:\n",
    "\n",
    "df['date'].dtypes "
   ]
  },
  {
   "cell_type": "markdown",
   "id": "4cc87c73",
   "metadata": {},
   "source": [
    "*Note*: For this machine, data type *M8[ns]* is equivalent to *datetime64[ns]*."
   ]
  },
  {
   "cell_type": "markdown",
   "id": "a99ceef8",
   "metadata": {},
   "source": [
    "#### Question 3: <span style=\"font-size:14px; font-weight:normal;\">***Examining Numerical and Categorical Columns' Data Types and Distributions*** </span> "
   ]
  },
  {
   "cell_type": "markdown",
   "id": "794df545",
   "metadata": {},
   "source": [
    "Let us determine which columns are categorical and with columns are numerical. We will then choose two columns from each group."
   ]
  },
  {
   "cell_type": "code",
   "execution_count": 13,
   "id": "f66ad58f",
   "metadata": {},
   "outputs": [],
   "source": [
    "# Setting up to make our lists::\n",
    "\n",
    "categorical_columns=df.select_dtypes('object').columns\n",
    "numerical_columns=df.select_dtypes(exclude='object').columns"
   ]
  },
  {
   "cell_type": "code",
   "execution_count": 14,
   "id": "ae7ccfc2",
   "metadata": {},
   "outputs": [
    {
     "data": {
      "text/plain": [
       "['address_block', 'trap', 'trap_type', 'mosquito_id', 'wnv_present', 'species']"
      ]
     },
     "execution_count": 14,
     "metadata": {},
     "output_type": "execute_result"
    }
   ],
   "source": [
    "# Listing categorical columns:\n",
    "\n",
    "list(categorical_columns)"
   ]
  },
  {
   "cell_type": "code",
   "execution_count": 15,
   "id": "52effd99",
   "metadata": {},
   "outputs": [
    {
     "data": {
      "text/plain": [
       "['year', 'week', 'block', 'date', 'mosquito_count', 'lat', 'lon']"
      ]
     },
     "execution_count": 15,
     "metadata": {},
     "output_type": "execute_result"
    }
   ],
   "source": [
    "# Listing numerical columns:\n",
    "\n",
    "list(numerical_columns)"
   ]
  },
  {
   "cell_type": "markdown",
   "id": "e8df6fd2",
   "metadata": {},
   "source": [
    "##### a) The 'wnv_ present' column"
   ]
  },
  {
   "cell_type": "markdown",
   "id": "dbd5ce9a",
   "metadata": {},
   "source": [
    "The first categorical column we will use is the *wnv_present* column."
   ]
  },
  {
   "cell_type": "code",
   "execution_count": 16,
   "id": "9c93fdba",
   "metadata": {},
   "outputs": [
    {
     "data": {
      "text/plain": [
       "array(['negative', 'positive'], dtype=object)"
      ]
     },
     "execution_count": 16,
     "metadata": {},
     "output_type": "execute_result"
    }
   ],
   "source": [
    "# Looking at the unique values and data types in the 'wnv_present' column:\n",
    "\n",
    "df['wnv_present'].unique()"
   ]
  },
  {
   "cell_type": "code",
   "execution_count": 17,
   "id": "f4284138",
   "metadata": {},
   "outputs": [
    {
     "data": {
      "text/plain": [
       "negative    14501\n",
       "positive     3994\n",
       "Name: wnv_present, dtype: int64"
      ]
     },
     "execution_count": 17,
     "metadata": {},
     "output_type": "execute_result"
    }
   ],
   "source": [
    "# Calculating the count of each unique value:\n",
    "\n",
    "df['wnv_present'].value_counts()"
   ]
  },
  {
   "cell_type": "code",
   "execution_count": 18,
   "id": "e889eeaa",
   "metadata": {},
   "outputs": [
    {
     "data": {
      "text/plain": [
       "negative    0.78405\n",
       "positive    0.21595\n",
       "Name: wnv_present, dtype: float64"
      ]
     },
     "execution_count": 18,
     "metadata": {},
     "output_type": "execute_result"
    }
   ],
   "source": [
    "# Alternatively, calculating the proportion of negative and positive values:\n",
    "\n",
    "df['wnv_present'].value_counts(normalize=True)"
   ]
  },
  {
   "cell_type": "markdown",
   "id": "a10c5d2b",
   "metadata": {},
   "source": [
    "As an add on, we can present a visual displaying the percetange of positive WNV test versus negative WNV test."
   ]
  },
  {
   "cell_type": "code",
   "execution_count": 19,
   "id": "b4221723",
   "metadata": {},
   "outputs": [
    {
     "data": {
      "image/png": "[encoded data removed]",
      "text/plain": [
       "<Figure size 504x504 with 1 Axes>"
      ]
     },
     "metadata": {},
     "output_type": "display_data"
    }
   ],
   "source": [
    "# Counting the occurrences of each test result:\n",
    "result_counts=df['wnv_present'].value_counts()\n",
    "\n",
    "# Plotting the pie chart:\n",
    "plt.figure(figsize=(7, 7))\n",
    "\n",
    "#Creating the labels and colours:\n",
    "plt.pie(result_counts, labels=['Negative', 'Positive'], autopct='%1.1f%%', startangle=90, colors=['lightsteelblue', 'deepskyblue'],textprops={'fontsize': 13})\n",
    "\n",
    "#Adding the title and fonts:\n",
    "plt.title('Percentage of Positive WNV Tests, Aggregated over all Years', fontdict={'fontname': 'Microsoft JhengHei', 'fontsize': 14})\n",
    "\n",
    "plt.show()"
   ]
  },
  {
   "cell_type": "markdown",
   "id": "d861117b",
   "metadata": {},
   "source": [
    "The second categorical column we will use is the *species* column."
   ]
  },
  {
   "cell_type": "code",
   "execution_count": 20,
   "id": "8bf44202",
   "metadata": {},
   "outputs": [
    {
     "data": {
      "text/plain": [
       "array(['CULEX RESTUANS', 'CULEX TERRITANS', 'CULEX SALINARIUS',\n",
       "       'CULEX PIPIENS'], dtype=object)"
      ]
     },
     "execution_count": 20,
     "metadata": {},
     "output_type": "execute_result"
    }
   ],
   "source": [
    "# Looking at the unique values and data types in the 'species' column:\n",
    "\n",
    "df['species'].unique()"
   ]
  },
  {
   "cell_type": "code",
   "execution_count": 21,
   "id": "9ef2d600",
   "metadata": {},
   "outputs": [
    {
     "data": {
      "text/plain": [
       "CULEX RESTUANS      11866\n",
       "CULEX PIPIENS        5486\n",
       "CULEX TERRITANS       917\n",
       "CULEX SALINARIUS      226\n",
       "Name: species, dtype: int64"
      ]
     },
     "execution_count": 21,
     "metadata": {},
     "output_type": "execute_result"
    }
   ],
   "source": [
    "# Counting each of the unique values:\n",
    "\n",
    "df['species'].value_counts()"
   ]
  },
  {
   "cell_type": "code",
   "execution_count": 22,
   "id": "bb328b74",
   "metadata": {},
   "outputs": [
    {
     "name": "stdout",
     "output_type": "stream",
     "text": [
      "CULEX RESTUANS      64.157881\n",
      "CULEX PIPIENS       29.662071\n",
      "CULEX TERRITANS      4.958097\n",
      "CULEX SALINARIUS     1.221952\n",
      "Name: species, dtype: float64\n"
     ]
    }
   ],
   "source": [
    "# Calculating the frequencies, in percentages, for each species:\n",
    "\n",
    "species_counts = df['species'].value_counts()\n",
    "percentage_distribution = species_counts / len(df) * 100\n",
    "\n",
    "print(percentage_distribution)"
   ]
  },
  {
   "cell_type": "markdown",
   "id": "4a9d5111",
   "metadata": {},
   "source": [
    "As an add on, we can make a bar chart to visualize the distribution (in percentages) of the mosquito species ."
   ]
  },
  {
   "cell_type": "code",
   "execution_count": 23,
   "id": "8a0af41f",
   "metadata": {},
   "outputs": [
    {
     "data": {
      "image/png": "[encoded data removed]",
      "text/plain": [
       "<Figure size 576x504 with 1 Axes>"
      ]
     },
     "metadata": {
      "needs_background": "light"
     },
     "output_type": "display_data"
    }
   ],
   "source": [
    "# Creating a function to format y-axis labels as percentages:\n",
    "def percentage_formatter(x, pos):\n",
    "    return f'{x:.1f}%'\n",
    "\n",
    "species_counts = df['species'].value_counts()\n",
    "\n",
    "# Calculating the percentage distribution:\n",
    "percentage_distribution = species_counts / len(df) * 100\n",
    "\n",
    "# Creating a color gradient of different shades of blue:\n",
    "num_shades = len(species_counts)\n",
    "blue_gradient = plt.cm.Blues(np.linspace(0.8, 0.2, num_shades))\n",
    "\n",
    "# Plotting the bar chart:\n",
    "plt.figure(figsize=(8, 7))\n",
    "plt.bar(percentage_distribution.index, percentage_distribution, color=blue_gradient)\n",
    "\n",
    "# Adding labels and titles:\n",
    "plt.xlabel('Species', fontdict={'fontname': 'Microsoft JhengHei', 'fontsize': 13})\n",
    "plt.ylabel('Percentage of Species Type', fontdict={'fontname': 'Microsoft JhengHei', 'fontsize': 13})\n",
    "plt.title('Frequency of Mosquito Species', fontdict={'fontname': 'Microsoft JhengHei', 'fontsize': 14})\n",
    "\n",
    "plt.gca().yaxis.set_major_formatter(FuncFormatter(percentage_formatter))\n",
    "\n",
    "plt.show()"
   ]
  },
  {
   "cell_type": "markdown",
   "id": "7486e094",
   "metadata": {},
   "source": [
    "***Observations***:\n",
    "\n",
    "* The data type that the *species* column stores is an *object*. \n",
    "</br>\n",
    "\n",
    "* The *species* column indicates the four type of mosquito species in this dataset:\n",
    "    \n",
    "        ~ Culex Restuans\n",
    "        ~ Culex Territans\n",
    "        ~ Culex Salinarius\n",
    "        ~ Culex Pipiens\n",
    "\n",
    "* Since the *species* column has four possible outcomes, the data has a Multinomial Distribution.\n",
    "</br>\n",
    "\n",
    "* Approximately 65% of all captured mosquitos were of the *Culex Restuans* species. "
   ]
  },
  {
   "cell_type": "markdown",
   "id": "e421e34b",
   "metadata": {},
   "source": [
    "##### c) The 'mosquito_count' numerical column\n",
    "\n",
    "The first numerical column we will use is the *mosquito_count* column."
   ]
  },
  {
   "cell_type": "code",
   "execution_count": 24,
   "id": "fd63ade9",
   "metadata": {},
   "outputs": [
    {
     "name": "stdout",
     "output_type": "stream",
     "text": [
      "[1, 2, 3, 4, 5, 6, 7, 8, 9, 10, 11, 12, 13, 14, 15, 16, 17, 18, 19, 20, 21, 22, 23, 24, 25, 26, 27, 28, 29, 30, 31, 32, 33, 34, 35, 36, 37, 38, 39, 40, 41, 42, 43, 44, 45, 46, 47, 48, 49, 50]\n"
     ]
    }
   ],
   "source": [
    "# Looking at the unique values in the 'mosquito_count' column:\n",
    "\n",
    "sort=sorted(df['mosquito_count'].unique())\n",
    "print(sort)"
   ]
  },
  {
   "cell_type": "code",
   "execution_count": 25,
   "id": "eb7b2937",
   "metadata": {},
   "outputs": [
    {
     "data": {
      "text/plain": [
       "dtype('int64')"
      ]
     },
     "execution_count": 25,
     "metadata": {},
     "output_type": "execute_result"
    }
   ],
   "source": [
    "# Checking the data types stored in the 'mosquito_count' column:\n",
    "\n",
    "df['mosquito_count'].dtypes"
   ]
  },
  {
   "cell_type": "markdown",
   "id": "452916ee",
   "metadata": {},
   "source": [
    "We will get a better idea of the distribution once we plot a histogram below showing the frequency of the various mosquito numbers."
   ]
  },
  {
   "cell_type": "code",
   "execution_count": 26,
   "id": "8e14abae",
   "metadata": {},
   "outputs": [
    {
     "data": {
      "image/png": "[encoded data removed]",
      "text/plain": [
       "<Figure size 576x360 with 1 Axes>"
      ]
     },
     "metadata": {
      "needs_background": "light"
     },
     "output_type": "display_data"
    }
   ],
   "source": [
    "# Plotting the histogram: \n",
    "plt.figure(figsize=(8, 5))\n",
    "\n",
    "# Creating the bins:\n",
    "plt.hist(df['mosquito_count'], bins=50, color=['lightskyblue'])\n",
    "\n",
    "# Calculating the mean and mode:\n",
    "mean=df['mosquito_count'].mean()\n",
    "median=df['mosquito_count'].median()\n",
    "\n",
    "# Plotting the mean and mode:\n",
    "plt.axvline(mean, color='darkseagreen', linestyle='-')\n",
    "plt.axvline(median, color='goldenrod', linestyle='--')\n",
    "\n",
    "# Adding the legend, labels and titles:\n",
    "plt.legend({'Mean':mean,'Median':median})\n",
    "plt.ylabel('Frequency of Mosquito Numbers', fontdict={'fontname': 'Microsoft JhengHei', 'fontsize' : 13})\n",
    "plt.xlabel ('Number of Mosquitos Caught', fontdict={'fontname': 'Microsoft JhengHei', 'fontsize' : 13})\n",
    "plt.title('Histogram of the Number of Mosquitos Caught', fontdict={'fontname': 'Microsoft JhengHei', 'fontsize' : 14})\n",
    "\n",
    "# Removing the grid:\n",
    "plt.grid(False)\n",
    "\n",
    "plt.show()"
   ]
  },
  {
   "cell_type": "markdown",
   "id": "88552fe6",
   "metadata": {},
   "source": [
    "***Observations***: \n",
    "\n",
    "* The data that the *mosquito_count* column stores is *int64*.\n",
    "</br>\n",
    "\n",
    "* The *mosquito_count* counts the number of mosquitos caught in the trap. It should be noted that the maximum number of mosquitos recorded per each column entry is 50. Any number above 50 is broken into another row and column entry.\n",
    "</b>\n",
    "\n",
    "* Based on the histogram, the distribution is greatly skewed to the right. Indeed, note that the mean is much larger than the median.\n",
    "</b>\n",
    "\n",
    "\n",
    "* There is a large outlier at the 50 bin mark.\n",
    "</b>\n",
    "\n",
    "\n",
    "* The shape of the distribution, and the outlier, can be explained: we know that once the number of mosquitos exceeds 50, any remaining numbers will be put in a new row. For example, if we count 59 mosquitos in a particular trap, then 50 mosquitos are allocated to one row and the remaining 9 will be allocated to a new row. This splitting of values explains why there is a very high frequency in the 1-3 mosquito bins and the 50 bin. \n",
    "</b>\n"
   ]
  },
  {
   "cell_type": "markdown",
   "id": "efc68271",
   "metadata": {},
   "source": [
    "##### d) The 'block' numerical column"
   ]
  },
  {
   "cell_type": "markdown",
   "id": "b78043dc",
   "metadata": {},
   "source": [
    "The second numerical column we will use is the *block* column."
   ]
  },
  {
   "cell_type": "code",
   "execution_count": 27,
   "id": "b9065653",
   "metadata": {},
   "outputs": [
    {
     "name": "stdout",
     "output_type": "stream",
     "text": [
      "[1, 2, 3, 4, 5, 6, 8, 9, 10, 11, 12, 13, 14, 15, 17, 18, 20, 21, 22, 24, 25, 27, 28, 29, 30, 33, 34, 35, 36, 37, 38, 39, 40, 41, 42, 43, 45, 46, 47, 48, 49, 50, 51, 52, 53, 54, 55, 58, 60, 61, 62, 63, 64, 65, 66, 67, 68, 70, 71, 72, 73, 75, 77, 79, 80, 81, 82, 88, 89, 91, 93, 96, 98, 100, 101, 104, 105, 109, 111, 112, 115, 119, 122, 127, 129, 131, 132]\n"
     ]
    }
   ],
   "source": [
    "# Looking at the unique values in the 'block' column:\n",
    "\n",
    "sort_=sorted(df['block'].unique())\n",
    "print(sort_)"
   ]
  },
  {
   "cell_type": "code",
   "execution_count": 28,
   "id": "27c24ed4",
   "metadata": {},
   "outputs": [
    {
     "data": {
      "text/plain": [
       "dtype('int64')"
      ]
     },
     "execution_count": 28,
     "metadata": {},
     "output_type": "execute_result"
    }
   ],
   "source": [
    "# Checking the data types stored in the 'block' column:\n",
    "\n",
    "df['block'].dtypes"
   ]
  },
  {
   "cell_type": "markdown",
   "id": "bd13e108",
   "metadata": {},
   "source": [
    "We will get a better idea of the distribution once we plot a histogram showing the frequency of the blocks. "
   ]
  },
  {
   "cell_type": "code",
   "execution_count": 29,
   "id": "b74d9cf0",
   "metadata": {},
   "outputs": [
    {
     "data": {
      "image/png": "[encoded data removed]",
      "text/plain": [
       "<Figure size 576x432 with 1 Axes>"
      ]
     },
     "metadata": {
      "needs_background": "light"
     },
     "output_type": "display_data"
    }
   ],
   "source": [
    "# Plotting the histogram:\n",
    "plt.figure(figsize=(8, 6))\n",
    "\n",
    "# Creating the bins:\n",
    "plt.hist(df['block'], bins=87, color = ['steelblue'])\n",
    "\n",
    "# Adding labels and titles:\n",
    "plt.ylabel('Frequency of Blocks', fontdict={'fontname': 'Microsoft JhengHei', 'fontsize' : 14})\n",
    "plt.xlabel ('Block Number', fontdict={'fontname': 'Microsoft JhengHei', 'fontsize' : 14})\n",
    "plt.title('Block Number of Addresses Histogram', fontdict={'fontname': 'Microsoft JhengHei', 'fontsize' : 15})\n",
    "\n",
    "plt.show() "
   ]
  },
  {
   "cell_type": "markdown",
   "id": "45f68c76",
   "metadata": {},
   "source": [
    "***Observations***:\n",
    "\n",
    "* The data type that the *block* column stores is **int64**. \n",
    "</b>\n",
    "\n",
    "\n",
    "* The type of data that the *block* column stores is the block number of an address.\n",
    "</b>\n",
    "\n",
    "\n",
    "* The histogram indicates that there is no real distribution.\n",
    "</b>\n",
    "\n",
    "\n",
    "* However, we can see that the most frequently used addresses are those with block number 100."
   ]
  },
  {
   "cell_type": "markdown",
   "id": "dfe5616b",
   "metadata": {},
   "source": [
    "#### Question 4: <span style=\"font-size:14px; font-weight:normal;\"> ***Duplicate Information, Dropping Redundant Columns and Adding a month Column*** </span>"
   ]
  },
  {
   "cell_type": "markdown",
   "id": "9b7eacd5",
   "metadata": {},
   "source": [
    "###### Dropping the mosquito_id Column"
   ]
  },
  {
   "cell_type": "markdown",
   "id": "f6b9b262",
   "metadata": {},
   "source": [
    "By inspection, it would appear that the *mosquito_id* and *species* columns are duplicates. Although *mosquito_id* has shorter, and perhaps cleaner, entries because the species are abbreviated, it is still better to use the *species* column to represent the species since the species names are more detailed and accuarate. \n",
    "</b>\n",
    "\n",
    "However, before we drop the *mosquito_id* column, we need to verify that both columns are aligned and match in numbers. "
   ]
  },
  {
   "cell_type": "code",
   "execution_count": 30,
   "id": "107b5270",
   "metadata": {},
   "outputs": [
    {
     "data": {
      "text/plain": [
       "mosquito_id  species         \n",
       "Pip          CULEX PIPIENS        5486\n",
       "Res          CULEX RESTUANS      11866\n",
       "Sal          CULEX SALINARIUS      226\n",
       "Ter          CULEX TERRITANS       917\n",
       "dtype: int64"
      ]
     },
     "execution_count": 30,
     "metadata": {},
     "output_type": "execute_result"
    }
   ],
   "source": [
    "# Grouping the two columns and counting the matches:\n",
    "\n",
    "df.groupby(['mosquito_id', 'species']).size()"
   ]
  },
  {
   "cell_type": "markdown",
   "id": "2e8fb272",
   "metadata": {},
   "source": [
    "Since the *mosquito_id* and *species* columns contain identical information, we can go ahead and drop the *mosquito_id* column. "
   ]
  },
  {
   "cell_type": "code",
   "execution_count": 31,
   "id": "6e64db8c",
   "metadata": {},
   "outputs": [],
   "source": [
    "df.drop(columns='mosquito_id', inplace=True)"
   ]
  },
  {
   "cell_type": "markdown",
   "id": "fb95d41f",
   "metadata": {},
   "source": [
    "##### Decision not to drop the block column"
   ]
  },
  {
   "cell_type": "markdown",
   "id": "fb8d616a",
   "metadata": {},
   "source": [
    "By inspection, it appears that the *address_block* and *block* columns have duplicate information when it comes to specifing the block number. That is, *address_block* contains all the information that the *block* column has. However, the *block* column is numerical and the *address_block* is categorical. \n",
    "</b>\n",
    "\n",
    "The *block* column can be easier to work with because it only contains integers and we can still get information about the approximate area where the traps and mosquitos were located. For example, even though there are some address blocks that have the same block number but different addresses, the latitude and longitude coordinates indicate that those addresses are in very close proximity.  \n",
    "</b>\n",
    "\n",
    "For these reasons, we have decided to keep the both the *address_block* and *block* columns. "
   ]
  },
  {
   "cell_type": "markdown",
   "id": "dd8dd36c",
   "metadata": {},
   "source": [
    "##### Decision not to drop the *year* and *week* columns"
   ]
  },
  {
   "cell_type": "markdown",
   "id": "232aa967",
   "metadata": {},
   "source": [
    "Intuitively, the *date* column contains all the information from both the *year* and *week* columns. That is, both *year* and *week* are contained within the *date* column. However, both *year* and *week* are numerical columns that are easier to work with than having to extract them each time from *date*, which is a categorical variable. Since we will be using *year* and *week* individually in our analysis, it is best to keep them in the dataset. "
   ]
  },
  {
   "cell_type": "markdown",
   "id": "16fe09c9",
   "metadata": {},
   "source": [
    "##### Adding a month column"
   ]
  },
  {
   "cell_type": "markdown",
   "id": "d7d74248",
   "metadata": {},
   "source": [
    "As pointed out above, even though the *date* column contains the same information as the *year* and *week* columns, we kept the *year* and *week* columns to have cleaner codes. For our exploratory data analysis, we will also want to use the months. In this case, we will create a new column *month* in our data set."
   ]
  },
  {
   "cell_type": "code",
   "execution_count": 32,
   "id": "217913c4",
   "metadata": {},
   "outputs": [],
   "source": [
    "# Extracting the month from the date and adding a new column:\n",
    "\n",
    "df['month']=df['date'].dt.month"
   ]
  },
  {
   "cell_type": "code",
   "execution_count": 33,
   "id": "ac665f2c",
   "metadata": {},
   "outputs": [],
   "source": [
    "# Moving the 'month' column from the last position to the second position:\n",
    "\n",
    "df=df[['year', 'month', 'week', 'date', 'address_block', 'block', 'trap_type', 'trap', 'mosquito_count', 'species', 'wnv_present', 'lat', 'lon']]"
   ]
  },
  {
   "cell_type": "markdown",
   "id": "2ad9df93",
   "metadata": {},
   "source": [
    "#### Question 5: <span style=\"font-size:14px; font-weight:normal;\"> ***Dealing with Null Values***</span>"
   ]
  },
  {
   "cell_type": "markdown",
   "id": "2c632750",
   "metadata": {},
   "source": [
    "##### Finding Null (Missing) Values"
   ]
  },
  {
   "cell_type": "markdown",
   "id": "ba7a34a1",
   "metadata": {},
   "source": [
    "First we need to find how many null values we have and where they are located in the dataset. "
   ]
  },
  {
   "cell_type": "code",
   "execution_count": 34,
   "id": "d5ec5002",
   "metadata": {},
   "outputs": [
    {
     "data": {
      "text/plain": [
       "5848"
      ]
     },
     "execution_count": 34,
     "metadata": {},
     "output_type": "execute_result"
    }
   ],
   "source": [
    "# Finding how many null values we have in our dataframe:\n",
    "\n",
    "df.isna().sum().sum()"
   ]
  },
  {
   "cell_type": "code",
   "execution_count": 35,
   "id": "31a720a2",
   "metadata": {},
   "outputs": [
    {
     "data": {
      "text/plain": [
       "year                 0\n",
       "month                0\n",
       "week                 0\n",
       "date                 0\n",
       "address_block        0\n",
       "block                0\n",
       "trap_type            0\n",
       "trap                 0\n",
       "mosquito_count       0\n",
       "species              0\n",
       "wnv_present          0\n",
       "lat               2924\n",
       "lon               2924\n",
       "dtype: int64"
      ]
     },
     "execution_count": 35,
     "metadata": {},
     "output_type": "execute_result"
    }
   ],
   "source": [
    "# Finding which columns have null values:\n",
    "\n",
    "df.isna().sum()"
   ]
  },
  {
   "cell_type": "markdown",
   "id": "74e93c4e",
   "metadata": {},
   "source": [
    "There are 5848 null values in our dataframe, 2924 of which are in the *lat* column and 2924 in the *lon* column.Next, we want to see how much of a percentage these null values have against the non null values. "
   ]
  },
  {
   "cell_type": "code",
   "execution_count": 36,
   "id": "14513585",
   "metadata": {},
   "outputs": [
    {
     "data": {
      "text/plain": [
       "year               0.000000\n",
       "month              0.000000\n",
       "week               0.000000\n",
       "date               0.000000\n",
       "address_block      0.000000\n",
       "block              0.000000\n",
       "trap_type          0.000000\n",
       "trap               0.000000\n",
       "mosquito_count     0.000000\n",
       "species            0.000000\n",
       "wnv_present        0.000000\n",
       "lat               15.809678\n",
       "lon               15.809678\n",
       "dtype: float64"
      ]
     },
     "execution_count": 36,
     "metadata": {},
     "output_type": "execute_result"
    }
   ],
   "source": [
    "# Calculating the percentage of null values that make up the 'lat' and 'lon' columns:\n",
    "\n",
    "df.isna().sum()/df.shape[0]*100"
   ]
  },
  {
   "cell_type": "markdown",
   "id": "0fcaded9",
   "metadata": {},
   "source": [
    "Approximately 16% of rows in our dataframe have null values. 16% is a significant value and we should try and fill in these null values. We will do this by exploring descriptive statistics on both the *lat* and *lon* columns and also seeing if there are addresses with higher concentrations of null values. "
   ]
  },
  {
   "cell_type": "markdown",
   "id": "9d17fb05",
   "metadata": {},
   "source": [
    "##### Filling in the Null Values"
   ]
  },
  {
   "cell_type": "code",
   "execution_count": 37,
   "id": "71bb9121",
   "metadata": {},
   "outputs": [
    {
     "data": {
      "text/plain": [
       "count    15571.000000\n",
       "mean        41.839963\n",
       "std          0.111374\n",
       "min         41.644720\n",
       "25%         41.742670\n",
       "50%         41.845715\n",
       "75%         41.945961\n",
       "max         42.017801\n",
       "Name: lat, dtype: float64"
      ]
     },
     "execution_count": 37,
     "metadata": {},
     "output_type": "execute_result"
    }
   ],
   "source": [
    "# Getting statistics for the 'Lat' column: \n",
    "\n",
    "df['lat'].describe()"
   ]
  },
  {
   "cell_type": "code",
   "execution_count": 38,
   "id": "dcb70bab",
   "metadata": {},
   "outputs": [
    {
     "data": {
      "text/plain": [
       "41.956298856"
      ]
     },
     "execution_count": 38,
     "metadata": {},
     "output_type": "execute_result"
    }
   ],
   "source": [
    "# Getting the mode for the 'lat' column:\n",
    "\n",
    "lat_mode=df['lat'].mode()[0]\n",
    "lat_mode"
   ]
  },
  {
   "cell_type": "markdown",
   "id": "630fb656",
   "metadata": {},
   "source": [
    "Since the mean < mode, the distribution of the *lat* column is left-skewed and we could take the mode as our fill in value for the *lat* column."
   ]
  },
  {
   "cell_type": "code",
   "execution_count": 39,
   "id": "5e85fdd6",
   "metadata": {},
   "outputs": [
    {
     "data": {
      "text/plain": [
       "count    15571.000000\n",
       "mean       -87.691642\n",
       "std          0.076545\n",
       "min        -87.854473\n",
       "25%        -87.747459\n",
       "50%        -87.691698\n",
       "75%        -87.637873\n",
       "max        -87.531051\n",
       "Name: lon, dtype: float64"
      ]
     },
     "execution_count": 39,
     "metadata": {},
     "output_type": "execute_result"
    }
   ],
   "source": [
    "# Getting statistics for the 'lon' column: \n",
    "\n",
    "df['lon'].describe()"
   ]
  },
  {
   "cell_type": "code",
   "execution_count": 40,
   "id": "9d868293",
   "metadata": {},
   "outputs": [
    {
     "data": {
      "text/plain": [
       "-87.797517445"
      ]
     },
     "execution_count": 40,
     "metadata": {},
     "output_type": "execute_result"
    }
   ],
   "source": [
    "# Getting the mode for the 'lon' column:\n",
    "\n",
    "lon_mode=df['lon'].mode()[0]\n",
    "lon_mode"
   ]
  },
  {
   "cell_type": "markdown",
   "id": "6da662ba",
   "metadata": {},
   "source": [
    "Since the mean < mode, the distribution of the *lon* column is left-skewed and we could take the mode as our fill in value for the *Lon* column.\n",
    "</b>\n",
    "\n",
    "Now let us look at the address blocks with null values. "
   ]
  },
  {
   "cell_type": "code",
   "execution_count": 41,
   "id": "4b8360fe",
   "metadata": {},
   "outputs": [
    {
     "data": {
      "text/plain": [
       "100XX W OHARE AIRPORT    2039\n",
       "4XX W 127TH               301\n",
       "100XX W OHARE             226\n",
       "79XX S CHICAGO            136\n",
       "81XX S ASHLAND            122\n",
       "115XX S AVENUE L           40\n",
       "65XX N OAK PARK AVE        24\n",
       "30XX S HOYNE               15\n",
       "98XX S AVENUE G            11\n",
       "43XX N ASHLAND             10\n",
       "Name: address_block, dtype: int64"
      ]
     },
     "execution_count": 41,
     "metadata": {},
     "output_type": "execute_result"
    }
   ],
   "source": [
    "# Calculating which address blocks have null values:\n",
    "\n",
    "df['address_block'][df['lat'].isna()].value_counts()"
   ]
  },
  {
   "cell_type": "code",
   "execution_count": 42,
   "id": "cee10961",
   "metadata": {},
   "outputs": [
    {
     "data": {
      "text/plain": [
       "2039"
      ]
     },
     "execution_count": 42,
     "metadata": {},
     "output_type": "execute_result"
    }
   ],
   "source": [
    "# Calculating how many records have '100X W OHARE AIRPORT' as an address block\n",
    "\n",
    "(df['address_block']=='100XX W OHARE AIRPORT').sum()"
   ]
  },
  {
   "cell_type": "markdown",
   "id": "f8334a4a",
   "metadata": {},
   "source": [
    "It appears that 2039 records with null values for *lat* and *lon* belong to the address block *100xx W OHare Airport*. An additional 226 records with null values exist for *100xx W Ohare*. A quick Google search shows that the latitude and longitude coordinates for the O'Hare International Airport are 41.98 and -87.90, respectively.\n",
    "</b>\n",
    "\n",
    "Since we were able to find the coordinates for the address block *100xx W OHare Airport* (*100xx W OHare*), we can use these coordinates to fill in the null values of the 2039 records."
   ]
  },
  {
   "cell_type": "code",
   "execution_count": 43,
   "id": "ec99d2ce",
   "metadata": {},
   "outputs": [],
   "source": [
    "# Replacing the null 'lat' and 'lon' values belonging to address block 100XX W OHARE AIRPORT with the proper coordinates:\n",
    "\n",
    "df.loc[df['address_block']=='100XX W OHARE AIRPORT', ['lat', 'lon']]=[41.98, -87.90]"
   ]
  },
  {
   "cell_type": "code",
   "execution_count": 44,
   "id": "4e9e02f0",
   "metadata": {},
   "outputs": [],
   "source": [
    "# Replacing the null 'lat' and 'lon' values belonging to address block 100XX W OHARE with the proper coordinates:\n",
    "\n",
    "df.loc[df['address_block']=='100XX W OHARE', ['lat', 'lon']]=[41.98, -87.90]"
   ]
  },
  {
   "cell_type": "code",
   "execution_count": 45,
   "id": "1da1ab12",
   "metadata": {},
   "outputs": [
    {
     "data": {
      "text/plain": [
       "4XX W 127TH            301\n",
       "79XX S CHICAGO         136\n",
       "81XX S ASHLAND         122\n",
       "115XX S AVENUE L        40\n",
       "65XX N OAK PARK AVE     24\n",
       "30XX S HOYNE            15\n",
       "98XX S AVENUE G         11\n",
       "43XX N ASHLAND          10\n",
       "Name: address_block, dtype: int64"
      ]
     },
     "execution_count": 45,
     "metadata": {},
     "output_type": "execute_result"
    }
   ],
   "source": [
    "# Checking that the replacement was done correctly and looking at the remaining rows with null values:\n",
    "\n",
    "df['address_block'][df['lat'].isna()].value_counts()"
   ]
  },
  {
   "cell_type": "markdown",
   "id": "9e0eea81",
   "metadata": {},
   "source": [
    "Although we could search for the coordinates for each of the remaining address blocks, this could be time consuming. We would like to showcase another method for filling in the remaining null values in the *lat* and *lon* columns: using the modes of *lat* and *lon*, respectively."
   ]
  },
  {
   "cell_type": "code",
   "execution_count": 46,
   "id": "f0e19b66",
   "metadata": {},
   "outputs": [],
   "source": [
    "# Replacing the null values with the mode of 'lat':\n",
    "\n",
    "df.loc[:, 'lat']=df.loc[:, 'lat'].fillna(lat_mode)"
   ]
  },
  {
   "cell_type": "code",
   "execution_count": 47,
   "id": "944b406f",
   "metadata": {},
   "outputs": [
    {
     "data": {
      "text/plain": [
       "0"
      ]
     },
     "execution_count": 47,
     "metadata": {},
     "output_type": "execute_result"
    }
   ],
   "source": [
    "# Checking that the 'lat' column is free of null values:\n",
    "\n",
    "df['lat'].isna().sum()"
   ]
  },
  {
   "cell_type": "code",
   "execution_count": 48,
   "id": "5f49949a",
   "metadata": {},
   "outputs": [],
   "source": [
    "# Replacing the null values with the mode of 'lon':\n",
    "\n",
    "df.loc[:, 'lon'] = df.loc[:, 'lon'].fillna(lon_mode)"
   ]
  },
  {
   "cell_type": "code",
   "execution_count": 49,
   "id": "008aeb79",
   "metadata": {},
   "outputs": [
    {
     "data": {
      "text/plain": [
       "0"
      ]
     },
     "execution_count": 49,
     "metadata": {},
     "output_type": "execute_result"
    }
   ],
   "source": [
    "# Checking that the 'lon' column is free of null values:\n",
    "\n",
    "df['lon'].isna().sum()"
   ]
  },
  {
   "cell_type": "markdown",
   "id": "4a7fd410",
   "metadata": {},
   "source": [
    "### Part 2 - Basic EDA\n",
    "#### Question 1:<span style=\"font-size:14px; font-weight:normal;\"> ***Exploring the Relationship Between Mosquito Count and Date***</span>"
   ]
  },
  {
   "cell_type": "markdown",
   "id": "18b82304",
   "metadata": {},
   "source": [
    "We can begin by looking at the total number of mosquitos captured for each year.  "
   ]
  },
  {
   "cell_type": "code",
   "execution_count": 50,
   "id": "b38b86cd",
   "metadata": {},
   "outputs": [
    {
     "data": {
      "image/png": "[encoded data removed]",
      "text/plain": [
       "<Figure size 576x432 with 1 Axes>"
      ]
     },
     "metadata": {
      "needs_background": "light"
     },
     "output_type": "display_data"
    }
   ],
   "source": [
    "# Plotting a line graph:\n",
    "plt.figure(figsize=(8,6))\n",
    "\n",
    "# Calculating the total number of mosquitos captured for each year:\n",
    "df.groupby(df['year'])['mosquito_count'].sum().plot(color='royalblue', marker='o') \n",
    "\n",
    "# Adding labels and titles:\n",
    "plt.ylabel('Total Mosquito Count', fontdict={'fontname': 'Microsoft JhengHei', 'fontsize' : 13})\n",
    "plt.xlabel ('Year', fontdict = {'fontname': 'Microsoft JhengHei', 'fontsize' : 13})\n",
    "plt.title('Total Mosquito Count per Year', \n",
    "          fontdict={'fontname': 'Microsoft JhengHei', 'fontsize' : 14})\n",
    "\n",
    "plt.show()"
   ]
  },
  {
   "cell_type": "markdown",
   "id": "d6d55bd7",
   "metadata": {},
   "source": [
    "***Observations***:\n",
    "\n",
    "* There was a significant decrease in the amount of mosquitos captured from 2007 to 2008. \n",
    "</b>\n",
    "\n",
    "\n",
    "* 2016 had the largest number of mosquitos captured followed by a sharp decrease in mosquito counts in 2017. \n",
    "</b>\n",
    "\n",
    "\n",
    "* The overall trend starting in 2012 to 2019 appears to be oscillating between high mosquito counts and low mosquito counts for each subsequent year. "
   ]
  },
  {
   "cell_type": "markdown",
   "id": "7d62a49e",
   "metadata": {},
   "source": [
    "Now let's look at the total number of mosquitos captured for each month, aggregated over all the years. "
   ]
  },
  {
   "cell_type": "code",
   "execution_count": 51,
   "id": "724a8aef",
   "metadata": {},
   "outputs": [
    {
     "data": {
      "image/png": "[encoded data removed]",
      "text/plain": [
       "<Figure size 576x432 with 1 Axes>"
      ]
     },
     "metadata": {
      "needs_background": "light"
     },
     "output_type": "display_data"
    }
   ],
   "source": [
    "# Plotting a line graph:\n",
    "plt.figure(figsize=(8, 6))\n",
    "\n",
    "# Calculating the total number of mosquitos captured for each month:\n",
    "df.groupby(df['month'])['mosquito_count'].sum().plot(color='darkseagreen', marker = 'o')\n",
    "\n",
    "# Adding the labels and titles:\n",
    "plt.ylabel('Total Mosquito Count', fontdict={'fontname': 'Microsoft JhengHei', 'fontsize': 13})\n",
    "plt.xlabel('Month', fontdict={'fontname': 'Microsoft JhengHei', 'fontsize': 13})\n",
    "plt.title('Total Mosquito Count per Month, Aggregated over all Years',\n",
    "          fontdict={'fontname': 'Microsoft JhengHei', 'fontsize': 14})\n",
    "\n",
    "# Setting custom tick labels for the x-axis:\n",
    "month_names = ['May', 'Jun', 'Jul', 'Aug', 'Sep', 'Oct']\n",
    "plt.xticks(range(5, 11), month_names)\n",
    "\n",
    "plt.show()"
   ]
  },
  {
   "cell_type": "markdown",
   "id": "65c44792",
   "metadata": {},
   "source": [
    "***Observations***:\n",
    "\n",
    "* The total number of mosquitos caught increases for each month starting in May, peaks in August, with a sharp decline in September, followed by a slower decrease to October. \n",
    "</b>\n",
    "\n",
    "\n",
    "* This trend can be explained by the fact that mosquitos are most prevalent in the summer months. "
   ]
  },
  {
   "cell_type": "markdown",
   "id": "0d2a2b24",
   "metadata": {},
   "source": [
    "Now let's look at the total number of mosquitos captured for each week, aggregated over all the years. "
   ]
  },
  {
   "cell_type": "code",
   "execution_count": 52,
   "id": "f8f87e6f",
   "metadata": {},
   "outputs": [
    {
     "data": {
      "image/png": "[encoded data removed]",
      "text/plain": [
       "<Figure size 576x432 with 1 Axes>"
      ]
     },
     "metadata": {
      "needs_background": "light"
     },
     "output_type": "display_data"
    }
   ],
   "source": [
    "# Plotting a line graph:\n",
    "plt.figure(figsize=(8,6))\n",
    "\n",
    "# Calculating the total number of mosquitos captured for each week:\n",
    "df.groupby(df['week'])['mosquito_count'].sum().plot(color='slateblue', marker = 'o')\n",
    "\n",
    "# Adding labels and titles:\n",
    "plt.ylabel('Total Mosquito Count', fontdict={'fontname': 'Microsoft JhengHei', 'fontsize' : 13})\n",
    "plt.xlabel ('Week', fontdict={'fontname': 'Microsoft JhengHei', 'fontsize' : 13})\n",
    "plt.title('Total Mosquito Count per Week, Aggregated over all Years', \n",
    "          fontdict={'fontname': 'Microsoft JhengHei', 'fontsize' : 14})\n",
    "\n",
    "plt.show()"
   ]
  },
  {
   "cell_type": "markdown",
   "id": "d468c09d",
   "metadata": {},
   "source": [
    "***Observations***:\n",
    "\n",
    "* There is a steady increase in the number of mosquitos caught, with a few small dips, between weeks 20 and 31.\n",
    "</b>\n",
    "\n",
    "\n",
    "* The graph peaks at weeks 31 and 32 and then has a steady sharp decrease to week 40. \n",
    "</b>\n",
    "\n",
    "\n",
    "* This trend can be explained by the same reason for the month trend: mosquitos are more prevalent in the summer months. "
   ]
  },
  {
   "cell_type": "markdown",
   "id": "528bce15",
   "metadata": {},
   "source": [
    "Another analysis we can perform is to compare the total number of mosquitos captured, per month, for the last 4 years."
   ]
  },
  {
   "cell_type": "code",
   "execution_count": 53,
   "id": "f4d39ff0",
   "metadata": {},
   "outputs": [
    {
     "data": {
      "image/png": "[encoded data removed]",
      "text/plain": [
       "<Figure size 576x432 with 1 Axes>"
      ]
     },
     "metadata": {
      "needs_background": "light"
     },
     "output_type": "display_data"
    }
   ],
   "source": [
    "# Grouping by year and month, and then calculating the total mosquito count for each group:\n",
    "result = df.groupby(['year', 'month'])['mosquito_count'].sum().reset_index(name='total_mosquito_count')\n",
    "\n",
    "# Filtering for specific years (2016, 2017, 2018, 2019):\n",
    "selected_years = [2016, 2017, 2018, 2019]\n",
    "result_filtered = result[result['year'].isin(selected_years)]\n",
    "\n",
    "# Pivot the DataFrame to have years as columns:\n",
    "result_pivot = result_filtered.pivot_table(index='month', columns='year', values='total_mosquito_count')\n",
    "\n",
    "# Plotting:\n",
    "fig, ax = plt.subplots(figsize=(8, 6))\n",
    "\n",
    "result_pivot.plot(ax=ax, marker='o', color=['royalblue','darkseagreen', 'rebeccapurple', 'gold'])\n",
    "\n",
    "# Adding labels and titles:\n",
    "ax.set_xlabel('Month', fontdict={'fontname': 'Microsoft JhengHei', 'fontsize' : 13})\n",
    "ax.set_ylabel('Total Mosquito Count',fontdict={'fontname': 'Microsoft JhengHei', 'fontsize' : 13} )\n",
    "ax.set_title('Monthly Mosquito Count for Selected Years', fontdict={'fontname': 'Microsoft JhengHei', 'fontsize' : 14})\n",
    "ax.legend(title='Years', loc='upper left')\n",
    "\n",
    "# Setting custom tick labels for the x-axis:\n",
    "months=['Jun', 'Jul', 'Aug', 'Sep']\n",
    "ax.set_xticks(result_pivot.index)\n",
    "ax.set_xticklabels(months)\n",
    "\n",
    "plt.grid(False)\n",
    "plt.show()"
   ]
  },
  {
   "cell_type": "markdown",
   "id": "a9e97a00",
   "metadata": {},
   "source": [
    "***Observations***:\n",
    "\n",
    "* Every year, excluding 2019, had peak numbers in the month of August.\n",
    "</b>\n",
    "\n",
    "\n",
    "* Both 2016 and 2017 follow the same trend over the months.\n",
    "</b>\n",
    "\n",
    "\n",
    "* 2016 had significantly higher mosquito counts for July, August and September, when compared to the three other years. "
   ]
  },
  {
   "cell_type": "markdown",
   "id": "c6acce73",
   "metadata": {},
   "source": [
    "Finally, we can explore the total number of mosquitos captured, per week, for the last 4 years."
   ]
  },
  {
   "cell_type": "code",
   "execution_count": 54,
   "id": "3779f63e",
   "metadata": {},
   "outputs": [
    {
     "data": {
      "image/png": "[encoded data removed]",
      "text/plain": [
       "<Figure size 576x432 with 1 Axes>"
      ]
     },
     "metadata": {
      "needs_background": "light"
     },
     "output_type": "display_data"
    }
   ],
   "source": [
    "# Grouping by year and week, and then calculating the total mosquito count for each group:\n",
    "result = df.groupby(['year', 'week'])['mosquito_count'].sum().reset_index(name='total_mosquito_count')\n",
    "\n",
    "# Filtering for specific years (2016, 2017, 2018, 2019)\n",
    "selected_years = [2016, 2017, 2018, 2019]\n",
    "result_filtered = result[result['year'].isin(selected_years)]\n",
    "\n",
    "# Pivot the DataFrame to have years as columns\n",
    "result_pivot = result_filtered.pivot_table(index='week', columns='year', values='total_mosquito_count')\n",
    "\n",
    "# Plotting:\n",
    "fig, ax = plt.subplots(figsize=(8, 6))\n",
    "result_pivot.plot(ax=ax, marker='o', color=['royalblue', 'darkseagreen', 'rebeccapurple', 'gold'])\n",
    "\n",
    "# Adding labels and titles:\n",
    "ax.set_xlabel('Week', fontdict={'fontname': 'Microsoft JhengHei', 'fontsize' : 13})\n",
    "ax.set_ylabel('Total Mosquito Count', fontdict={'fontname': 'Microsoft JhengHei', 'fontsize' : 13})\n",
    "ax.set_title('Weekly Mosquito Count for Selected Years', fontdict={'fontname': 'Microsoft JhengHei', 'fontsize' : 14})\n",
    "ax.legend(title='Years', loc='upper left')\n",
    "\n",
    "# Removing the grid:\n",
    "plt.grid(False)\n",
    "\n",
    "plt.show()"
   ]
  },
  {
   "cell_type": "markdown",
   "id": "db6ead85",
   "metadata": {},
   "source": [
    "***Observations***:\n",
    "\n",
    "* 2016 had a significant increase in mosquito count between weeks 29 and 32.\n",
    "</b>\n",
    "\n",
    "\n",
    "* 2016 also had a significant decrease in mosquito count from week 32 to week 34, with a small uptick at week 36, followed by another slow, but steady, decrease to week 40. \n",
    "</b>\n",
    "\n",
    "\n",
    "* Every year, excluding 2019, has the same trend: an increase starting at week 27, peaking at weeks 30 to 34, and falling back down from weeks 34 to 40."
   ]
  },
  {
   "cell_type": "markdown",
   "id": "97546db6",
   "metadata": {},
   "source": [
    "### Part 3 - Advanced EDA \n",
    "#### Question 1:<span style=\"font-size:14px; font-weight:normal;\"> ***Mosquito Species and WNV Prevelance***</span>\n"
   ]
  },
  {
   "cell_type": "markdown",
   "id": "2dfb89ea",
   "metadata": {},
   "source": [
    "A great visual to use for exploring the relationship between mosquito species and WNV prevalence is a bar chart depicting the portion of positive WNV test results for each species. "
   ]
  },
  {
   "cell_type": "code",
   "execution_count": 55,
   "id": "8a265ae7",
   "metadata": {},
   "outputs": [
    {
     "data": {
      "image/png": "[encoded data removed]",
      "text/plain": [
       "<Figure size 576x432 with 1 Axes>"
      ]
     },
     "metadata": {
      "needs_background": "light"
     },
     "output_type": "display_data"
    }
   ],
   "source": [
    "# Creating a copy of my dataframe:\n",
    "df_copy = df.copy(deep=True)\n",
    "\n",
    "# Creating a function to format y-axis labels as percentages:\n",
    "def percentage_formatter(x, pos):\n",
    "    return f'{x:.1f}%'\n",
    "\n",
    "# Converting 'wnv_present' column to numerical values (assuming 'positive' means 1, 'negative' means 0)\n",
    "df_copy['wnv_present'] = df_copy['wnv_present'].map({'positive': 1, 'negative': 0})\n",
    "\n",
    "# Calculating the percentage of positive WNV results for each species:\n",
    "percentage_positive = df_copy.groupby('species')['wnv_present'].sum() / df_copy.groupby('species')['wnv_present'].count() * 100\n",
    "\n",
    "# Plotting:\n",
    "plt.figure(figsize=(8, 6))\n",
    "percentage_positive.plot(kind='bar', color='darkseagreen', zorder=2)\n",
    "\n",
    "# Adding labels and titles:\n",
    "plt.ylabel('Percentage of Positive WNV Results', fontdict={'fontname': 'Microsoft JhengHei', 'fontsize' : 13})\n",
    "plt.xlabel('Species', fontdict={'fontname': 'Microsoft JhengHei', 'fontsize' : 13})\n",
    "plt.title('Percentage of Positive WNV Results by Species', fontdict={'fontname': 'Microsoft JhengHei', 'fontsize' : 14})\n",
    "\n",
    "plt.gca().yaxis.set_major_formatter(FuncFormatter(percentage_formatter))\n",
    "\n",
    "# Rotating x-axis ticks by 360 degrees:\n",
    "plt.xticks(rotation=360)\n",
    "\n",
    "# Setting zorder for grid lines:\n",
    "plt.grid(zorder=1)\n",
    "plt.show()"
   ]
  },
  {
   "cell_type": "markdown",
   "id": "bae7e105",
   "metadata": {},
   "source": [
    "***Observations***:\n",
    "\n",
    "* The *Culex Pipiens* and *Culex Restuans* species have approximately a 26% and 22% chance, respectively, of carrying WNV (West Nile Virus). \n",
    "</b>\n",
    "\n",
    "\n",
    "* The *Culex Territans* species has approximately a 1% chance of carrying WNV. \n",
    "</b>\n",
    "\n",
    "\n",
    "* The fact that the *Culex Restuans* and *Culex Pipiens* mosquito species make up 94% of the mosquitos in the dataset might explain why both species have a much higher rate of WNV when compared to *Culex Territans* and *Culex Salinarius*. \n",
    "</b>\n",
    "\n",
    "\n",
    "* It is also interesting to note that the *Culex Restuans* species have more than double the count of mosquitos when compared to the *Culex Pipiens* species, but both species have almost equal rates of WNV. "
   ]
  },
  {
   "cell_type": "markdown",
   "id": "7f9ecb00",
   "metadata": {},
   "source": [
    "#### Question 2:  <span style=\"font-size:14px; font-weight:normal;\"> ***Number of Mosquitos Caught by Trap Type*** </span>\n",
    "\n",
    "With this type of data, a pie chart would be a good choice for a visual.\n",
    "\n",
    "Let us take a peak at the data (the total number of mosquitos caught per trap)\n",
    "we will be plotting."
   ]
  },
  {
   "cell_type": "code",
   "execution_count": 56,
   "id": "a1fbd827",
   "metadata": {},
   "outputs": [
    {
     "data": {
      "text/plain": [
       "GRAVID      0.959232\n",
       "CDC         0.029413\n",
       "SENTINEL    0.011300\n",
       "OVI         0.000054\n",
       "Name: trap_type, dtype: float64"
      ]
     },
     "execution_count": 56,
     "metadata": {},
     "output_type": "execute_result"
    }
   ],
   "source": [
    "df['trap_type'].value_counts(normalize = True)"
   ]
  },
  {
   "cell_type": "markdown",
   "id": "231be538",
   "metadata": {},
   "source": [
    "We see that the *Ovi* trap type has only caught 1 mosquito from the years 2007 to 2019. Therefore, we make the decision to not include the *Ovi* trap type in our pie chart. "
   ]
  },
  {
   "cell_type": "code",
   "execution_count": 57,
   "id": "35b7e3dd",
   "metadata": {},
   "outputs": [
    {
     "data": {
      "image/png": "[encoded data removed]",
      "text/plain": [
       "<Figure size 576x432 with 1 Axes>"
      ]
     },
     "metadata": {},
     "output_type": "display_data"
    }
   ],
   "source": [
    "# Filtering rows where 'mosquito_count' is greater than or equal to 0:\n",
    "df_filtered=df[df['mosquito_count']>=0]\n",
    "\n",
    "# Setting our figure size:\n",
    "plt.figure(figsize=(8,6))\n",
    "\n",
    "# Counting occurrences for each 'trap_type':\n",
    "cdc = df_filtered.loc[df_filtered['trap_type']=='CDC'].shape[0]\n",
    "gravid = df_filtered.loc[df_filtered['trap_type']=='GRAVID'].shape[0]\n",
    "senti = df_filtered.loc[df_filtered['trap_type']=='SENTINEL'].shape[0]\n",
    "\n",
    "# Adding weights and labels:\n",
    "weights = [cdc, gravid, senti]\n",
    "labels = ['CDC', 'GRAVID', 'SENTINEL']\n",
    "colors = ['palegoldenrod','lightsteelblue','palegreen']\n",
    "explode = [0.4, 0.2, 0.4]\n",
    "\n",
    "# Plotting the pie chart:\n",
    "plt.pie(weights, labels=labels, colors=colors, explode=explode, autopct='%.2f%%',\n",
    "        textprops={'fontsize': 14}, pctdistance=0.5)\n",
    "\n",
    "# Adding title:\n",
    "plt.title('Total Percentage of Mosquito Count per Trap Type', fontdict={'fontname': 'Microsoft JhengHei', 'fontsize': 14})\n",
    "\n",
    "plt.show()"
   ]
  },
  {
   "cell_type": "markdown",
   "id": "a8f761ac",
   "metadata": {},
   "source": [
    "***Observations***: \n",
    "\n",
    "* The *Gravid* trap type was responsible for capturing 96% of all the mosquitos caught. "
   ]
  },
  {
   "cell_type": "markdown",
   "id": "1afdd1e2",
   "metadata": {},
   "source": [
    "Another great visual for exploring the relationship between the number of mosquitos caught and trap type is a box plot. Again, we will be excluding the *Ovi* trap type. "
   ]
  },
  {
   "cell_type": "code",
   "execution_count": 58,
   "id": "99dd3c47",
   "metadata": {},
   "outputs": [
    {
     "data": {
      "image/png": "[encoded data removed]",
      "text/plain": [
       "<Figure size 576x432 with 1 Axes>"
      ]
     },
     "metadata": {
      "needs_background": "light"
     },
     "output_type": "display_data"
    }
   ],
   "source": [
    "# Excluding rows with 'OVI' trap type:\n",
    "filtered_df = df[df['trap_type'] != 'OVI']\n",
    "\n",
    "# Creating the boxplot:\n",
    "plt.figure(figsize=(8, 6))\n",
    "sns.boxplot(x='trap_type', y='mosquito_count', data=filtered_df, color='powderblue')\n",
    "\n",
    "# Adding labels and titles:\n",
    "plt.title('Presence of WNV by Species', \n",
    "          fontdict={'fontname': 'Microsoft JhengHei', 'fontsize': 15})\n",
    "plt.xlabel('Trap Type', fontdict={'fontname': 'Microsoft JhengHei', 'fontsize': 13})\n",
    "plt.ylabel('Total Number of Mosquitos Caught', fontdict={'fontname': 'Microsoft JhengHei', 'fontsize': 13})\n",
    "\n",
    "# Removing the grid:\n",
    "plt.grid(False)\n",
    "\n",
    "plt.show()"
   ]
  },
  {
   "cell_type": "markdown",
   "id": "884e8046",
   "metadata": {},
   "source": [
    "***Observations***:  \n",
    "\n",
    "* The *Sentinel* trap type has the highest average count of mosquitos caught.\n",
    "</b> \n",
    "\n",
    "\n",
    "* The *Gravid* trap type has the lowest average count of mosquitos caught and also has many outliers.\n",
    "</b>\n",
    "\n",
    "\n",
    "* The *Sentinel* and *CDC* trap types have no outliers. "
   ]
  },
  {
   "cell_type": "markdown",
   "id": "fe08d7c9",
   "metadata": {},
   "source": [
    "#### Question 3:  <span style=\"font-size:14px; font-weight:normal;\"> ***Additional Insights*** </span>"
   ]
  },
  {
   "cell_type": "markdown",
   "id": "bd1e46c2",
   "metadata": {},
   "source": [
    "##### WNV Prevalence Throughout the Years"
   ]
  },
  {
   "cell_type": "markdown",
   "id": "9264b171",
   "metadata": {},
   "source": [
    "A great addition insight would be to explore the proportion of postive WNV tests vs negative WNV tests throughout the years. First we will create a stacked bar chart with the years on the *y-axis*, sorted from the year with the highest proportion of positive WNV tests to the year with the lowest proportion of positive WNV tests. Then we will create a bar chart, with the years in order, showing the percentage of positive WNV tests for each year.  "
   ]
  },
  {
   "cell_type": "code",
   "execution_count": 59,
   "id": "f66fd7ff",
   "metadata": {},
   "outputs": [
    {
     "data": {
      "image/png": "[encoded data removed]",
      "text/plain": [
       "<Figure size 576x576 with 1 Axes>"
      ]
     },
     "metadata": {},
     "output_type": "display_data"
    }
   ],
   "source": [
    "# Calculating the proportion of WNV presence:\n",
    "perc_data = df.groupby(['year', 'wnv_present'])['wnv_present'].count() / df.groupby('year')['wnv_present'].count()\n",
    "\n",
    "# Plotting:\n",
    "sns.set(style=\"whitegrid\")\n",
    "my_colour=['#fc4472', '#a7def2']\n",
    "perc_data.unstack()[['positive', 'negative']].sort_values('positive').plot(kind='barh',\n",
    "                                                                         stacked=True, color=my_colour, figsize=(8, 8))\n",
    "# Adding labels and titles:\n",
    "plt.title(\"Proportion of Postive WNV Test Results per Year\", fontdict={'fontname': 'Microsoft JhengHei', 'fontsize': 15})\n",
    "plt.xlabel('Proportion of Mosquitos that Tested Positive for WNV', fontdict={'fontname': 'Microsoft JhengHei', 'fontsize': 13})\n",
    "plt.ylabel('Year', fontdict={'fontname': 'Microsoft JhengHei', 'fontsize': 13})\n",
    "\n",
    "# Removing the top and right spines:\n",
    "sns.despine()\n",
    "\n",
    "# Removing the grids:\n",
    "plt.grid(False)\n",
    "\n",
    "plt.show()"
   ]
  },
  {
   "cell_type": "code",
   "execution_count": 60,
   "id": "f75a350c",
   "metadata": {},
   "outputs": [
    {
     "data": {
      "image/png": "[encoded data removed]",
      "text/plain": [
       "<Figure size 720x432 with 1 Axes>"
      ]
     },
     "metadata": {},
     "output_type": "display_data"
    }
   ],
   "source": [
    "df_cop = df.copy(deep=True)\n",
    "\n",
    "# Creating a function to format y-axis labels as percentages:\n",
    "def percentage_formatter(x, pos):\n",
    "    return f'{x:.1f}%'\n",
    "\n",
    "# Converting 'wnv_present' column to numerical values (assuming 'positive' means 1, 'negative' means 0)\n",
    "df_cop['wnv_present'] = df_cop['wnv_present'].map({'positive': 1, 'negative': 0})\n",
    "\n",
    "# Calculating the percentage of positive WNV results for each species:\n",
    "percentage_positive_1 = df_cop.groupby('year')['wnv_present'].sum() / df_cop.groupby('year')['wnv_present'].count() * 100\n",
    "\n",
    "# Plotting:\n",
    "plt.figure(figsize=(10, 6))\n",
    "percentage_positive_1.plot(kind='bar', color='#fc4472')\n",
    "\n",
    "plt.ylabel('Percentage of Positive Tests', fontdict={'fontname': 'Microsoft JhengHei', 'fontsize': 13})\n",
    "plt.xlabel('Year', fontdict={'fontname': 'Microsoft JhengHei', 'fontsize': 13})\n",
    "plt.title('Percentage of Positive WNV Tests per Year', fontdict={'fontname': 'Microsoft JhengHei', 'fontsize': 14})\n",
    "\n",
    "plt.gca().yaxis.set_major_formatter(FuncFormatter(percentage_formatter))\n",
    "\n",
    "# Rotate x-axis ticks by 45 degrees\n",
    "plt.xticks(rotation=360)\n",
    "\n",
    "plt.show()"
   ]
  },
  {
   "cell_type": "markdown",
   "id": "8a17f867",
   "metadata": {},
   "source": [
    "***Observations***:\n",
    "\n",
    "* 2016 had the highest percentage of positive WNV tests. \n",
    "</b>\n",
    "\n",
    "\n",
    "* The years 2016 and 2018 have the top two highest percentages associated with positive WNV tests and this coincides with the fact that both years also had the highest count of mosquitos captured.\n",
    "</b>\n",
    "\n",
    "\n",
    "* 2013 has the third highest percentage of positive WNV test but 2014 had the third highest mosquito count. "
   ]
  },
  {
   "cell_type": "markdown",
   "id": "5b97b34f",
   "metadata": {},
   "source": [
    "### Summary"
   ]
  },
  {
   "cell_type": "markdown",
   "id": "1be4e179",
   "metadata": {},
   "source": [
    "1. 22% of all the tests in the dataset have positive results for WNV.\n",
    "</b>\n",
    "\n",
    "\n",
    "2. The year 2016 had the highest count of mosquitos captured followed by the year 2014.\n",
    "</b>\n",
    "\n",
    "\n",
    "3. The month August had the highest count of mosquitos captured; May and October had the lowest count.\n",
    "</b>\n",
    "\n",
    "\n",
    "4. Weeks 30 to 32 had the highest count of mosquitos captures; weeks 20 and 40 had the loswest count. \n",
    "</b>\n",
    "\n",
    "\n",
    "5. The addresses with the block number 100 were the areas most used for mosquito trappings. \n",
    "</b>\n",
    "\n",
    "\n",
    "6. The *Gravid* trap type caught 95.93% of all mosquitos captured in the dataset. \n",
    "</b>\n",
    "\n",
    "\n",
    "7. The year 2016 had the highest rate of postive WNV test followed by the year 2014. \n",
    "</b>\n",
    "\n",
    "\n",
    "8. The *Culex Restuans* species makes up 64% of the mosquitos in the dataset and the *Culex Pipiens* mosquito species makes up 30%.  \n",
    "</b>\n",
    "\n",
    "\n",
    "9. The *Culex Pipiens* and *Culex Restuans* species have approximately 26% and 22% chance, respectively, of carrying WNV.\n",
    "</b>\n",
    "\n",
    "\n",
    "10. It is also interesting to note that the *Culex Restuans* species have more than double the count of mosquitos when compared to the *Culex Pipiens* species, but both species have almost equal rates of WNV. "
   ]
  }
 ],
 "metadata": {
  "kernelspec": {
   "display_name": "Python 3 (ipykernel)",
   "language": "python",
   "name": "python3"
  },
  "language_info": {
   "codemirror_mode": {
    "name": "ipython",
    "version": 3
   },
   "file_extension": ".py",
   "mimetype": "text/x-python",
   "name": "python",
   "nbconvert_exporter": "python",
   "pygments_lexer": "ipython3",
   "version": "3.11.7"
  }
 },
 "nbformat": 4,
 "nbformat_minor": 5
}
