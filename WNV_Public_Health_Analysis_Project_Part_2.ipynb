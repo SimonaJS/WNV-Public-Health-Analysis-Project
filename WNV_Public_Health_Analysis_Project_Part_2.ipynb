{
 "cells": [
  {
   "cell_type": "markdown",
   "id": "759170f3",
   "metadata": {},
   "source": [
    "## West Nile Virus (WNV) Public Health Analysis Project 2"
   ]
  },
  {
   "cell_type": "markdown",
   "id": "50c72935",
   "metadata": {},
   "source": [
    "##### Preliminaries: <span style=\"font-size:14px; font-weight:normal;\">Importing libraries and data, peaking at the data, and eliminating capital letters and white space from our dataframe. </span>"
   ]
  },
  {
   "cell_type": "code",
   "execution_count": 244,
   "id": "f9b92c88",
   "metadata": {},
   "outputs": [],
   "source": [
    "# Importing libraries:\n",
    "\n",
    "import numpy as np\n",
    "import pandas as pd\n",
    "import matplotlib.pyplot as plt\n",
    "%matplotlib inline\n",
    "from scipy import stats\n",
    "import seaborn as sns\n",
    "import statsmodels.api as sm"
   ]
  },
  {
   "cell_type": "code",
   "execution_count": 245,
   "id": "83c64798",
   "metadata": {},
   "outputs": [],
   "source": [
    "# Importing the data: \n",
    "\n",
    "df = pd.read_csv('C:/Users/simon/Downloads/mosquito_data_part_2_2024.csv')"
   ]
  },
  {
   "cell_type": "code",
   "execution_count": 246,
   "id": "500e35e6",
   "metadata": {},
   "outputs": [
    {
     "data": {
      "text/html": [
       "<div>\n",
       "<style scoped>\n",
       "    .dataframe tbody tr th:only-of-type {\n",
       "        vertical-align: middle;\n",
       "    }\n",
       "\n",
       "    .dataframe tbody tr th {\n",
       "        vertical-align: top;\n",
       "    }\n",
       "\n",
       "    .dataframe thead th {\n",
       "        text-align: right;\n",
       "    }\n",
       "</style>\n",
       "<table border=\"1\" class=\"dataframe\">\n",
       "  <thead>\n",
       "    <tr style=\"text-align: right;\">\n",
       "      <th></th>\n",
       "      <th>Year</th>\n",
       "      <th>Week</th>\n",
       "      <th>Address Block</th>\n",
       "      <th>Trap</th>\n",
       "      <th>Trap type</th>\n",
       "      <th>Date</th>\n",
       "      <th>Mosquito number</th>\n",
       "      <th>WNV Present</th>\n",
       "      <th>Species</th>\n",
       "      <th>Lat</th>\n",
       "      <th>Lon</th>\n",
       "      <th>Month</th>\n",
       "    </tr>\n",
       "  </thead>\n",
       "  <tbody>\n",
       "    <tr>\n",
       "      <th>0</th>\n",
       "      <td>2019</td>\n",
       "      <td>39</td>\n",
       "      <td>100XX W OHARE AIRPORT</td>\n",
       "      <td>T910</td>\n",
       "      <td>GRAVID</td>\n",
       "      <td>2019-09-26 00:09:00</td>\n",
       "      <td>2</td>\n",
       "      <td>negative</td>\n",
       "      <td>CULEX RESTUANS</td>\n",
       "      <td>41.977738</td>\n",
       "      <td>-87.880969</td>\n",
       "      <td>9</td>\n",
       "    </tr>\n",
       "    <tr>\n",
       "      <th>1</th>\n",
       "      <td>2019</td>\n",
       "      <td>39</td>\n",
       "      <td>52XX S KOLMAR AVE</td>\n",
       "      <td>T114</td>\n",
       "      <td>GRAVID</td>\n",
       "      <td>2019-09-26 00:09:00</td>\n",
       "      <td>1</td>\n",
       "      <td>negative</td>\n",
       "      <td>CULEX RESTUANS</td>\n",
       "      <td>41.798211</td>\n",
       "      <td>-87.736925</td>\n",
       "      <td>9</td>\n",
       "    </tr>\n",
       "    <tr>\n",
       "      <th>2</th>\n",
       "      <td>2019</td>\n",
       "      <td>39</td>\n",
       "      <td>58XX N WESTERN AVE</td>\n",
       "      <td>T028</td>\n",
       "      <td>GRAVID</td>\n",
       "      <td>2019-09-26 00:09:00</td>\n",
       "      <td>2</td>\n",
       "      <td>negative</td>\n",
       "      <td>CULEX RESTUANS</td>\n",
       "      <td>41.987245</td>\n",
       "      <td>-87.689417</td>\n",
       "      <td>9</td>\n",
       "    </tr>\n",
       "    <tr>\n",
       "      <th>3</th>\n",
       "      <td>2019</td>\n",
       "      <td>39</td>\n",
       "      <td>39XX N SPRINGFIELD AVE</td>\n",
       "      <td>T228</td>\n",
       "      <td>GRAVID</td>\n",
       "      <td>2019-09-26 00:09:00</td>\n",
       "      <td>1</td>\n",
       "      <td>negative</td>\n",
       "      <td>CULEX RESTUANS</td>\n",
       "      <td>41.953664</td>\n",
       "      <td>-87.724987</td>\n",
       "      <td>9</td>\n",
       "    </tr>\n",
       "    <tr>\n",
       "      <th>4</th>\n",
       "      <td>2019</td>\n",
       "      <td>39</td>\n",
       "      <td>131XX S BRANDON AVE</td>\n",
       "      <td>T209</td>\n",
       "      <td>GRAVID</td>\n",
       "      <td>2019-09-26 00:09:00</td>\n",
       "      <td>9</td>\n",
       "      <td>negative</td>\n",
       "      <td>CULEX RESTUANS</td>\n",
       "      <td>41.657069</td>\n",
       "      <td>-87.546049</td>\n",
       "      <td>9</td>\n",
       "    </tr>\n",
       "  </tbody>\n",
       "</table>\n",
       "</div>"
      ],
      "text/plain": [
       "   Year  Week           Address Block  Trap Trap type                 Date  \\\n",
       "0  2019    39   100XX W OHARE AIRPORT  T910    GRAVID  2019-09-26 00:09:00   \n",
       "1  2019    39       52XX S KOLMAR AVE  T114    GRAVID  2019-09-26 00:09:00   \n",
       "2  2019    39      58XX N WESTERN AVE  T028    GRAVID  2019-09-26 00:09:00   \n",
       "3  2019    39  39XX N SPRINGFIELD AVE  T228    GRAVID  2019-09-26 00:09:00   \n",
       "4  2019    39     131XX S BRANDON AVE  T209    GRAVID  2019-09-26 00:09:00   \n",
       "\n",
       "   Mosquito number WNV Present         Species        Lat        Lon  Month  \n",
       "0                2    negative  CULEX RESTUANS  41.977738 -87.880969      9  \n",
       "1                1    negative  CULEX RESTUANS  41.798211 -87.736925      9  \n",
       "2                2    negative  CULEX RESTUANS  41.987245 -87.689417      9  \n",
       "3                1    negative  CULEX RESTUANS  41.953664 -87.724987      9  \n",
       "4                9    negative  CULEX RESTUANS  41.657069 -87.546049      9  "
      ]
     },
     "execution_count": 246,
     "metadata": {},
     "output_type": "execute_result"
    }
   ],
   "source": [
    "# Checking at the first 5 entries of our dataframe:\n",
    "\n",
    "df.head()"
   ]
  },
  {
   "cell_type": "code",
   "execution_count": 247,
   "id": "819a5f7b",
   "metadata": {},
   "outputs": [
    {
     "name": "stdout",
     "output_type": "stream",
     "text": [
      "<class 'pandas.core.frame.DataFrame'>\n",
      "RangeIndex: 18495 entries, 0 to 18494\n",
      "Data columns (total 12 columns):\n",
      " #   Column           Non-Null Count  Dtype  \n",
      "---  ------           --------------  -----  \n",
      " 0   Year             18495 non-null  int64  \n",
      " 1   Week             18495 non-null  int64  \n",
      " 2   Address Block    18495 non-null  object \n",
      " 3   Trap             18495 non-null  object \n",
      " 4   Trap type        18495 non-null  object \n",
      " 5   Date             18495 non-null  object \n",
      " 6   Mosquito number  18495 non-null  int64  \n",
      " 7   WNV Present      18495 non-null  object \n",
      " 8   Species          18495 non-null  object \n",
      " 9   Lat              18495 non-null  float64\n",
      " 10  Lon              18495 non-null  float64\n",
      " 11  Month            18495 non-null  int64  \n",
      "dtypes: float64(2), int64(4), object(6)\n",
      "memory usage: 1.7+ MB\n"
     ]
    }
   ],
   "source": [
    "# Checking which data types are stored: \n",
    "\n",
    "df.info()"
   ]
  },
  {
   "cell_type": "markdown",
   "id": "18810a44",
   "metadata": {},
   "source": [
    "*Note*: columns *address_block*, *trap*, *trap_type*, *date*, *wnv_present*, and *species* are all object type data."
   ]
  },
  {
   "cell_type": "code",
   "execution_count": 248,
   "id": "c59a0e29",
   "metadata": {},
   "outputs": [
    {
     "data": {
      "text/plain": [
       "Year               0\n",
       "Week               0\n",
       "Address Block      0\n",
       "Trap               0\n",
       "Trap type          0\n",
       "Date               0\n",
       "Mosquito number    0\n",
       "WNV Present        0\n",
       "Species            0\n",
       "Lat                0\n",
       "Lon                0\n",
       "Month              0\n",
       "dtype: int64"
      ]
     },
     "execution_count": 248,
     "metadata": {},
     "output_type": "execute_result"
    }
   ],
   "source": [
    "# Checking out how many null values each column has:\n",
    "\n",
    "df.isna().sum()"
   ]
  },
  {
   "cell_type": "markdown",
   "id": "275c6c18",
   "metadata": {},
   "source": [
    "As expected, since we are using a cleaned dataframe, none of the columns have null values stored. "
   ]
  },
  {
   "cell_type": "code",
   "execution_count": 249,
   "id": "53bc2997",
   "metadata": {},
   "outputs": [],
   "source": [
    "# Eliminating capital letters and white space in column names:\n",
    "\n",
    "df.columns=df.columns.str.strip().str.lower().str.replace(' ', '_', regex=False).str.replace('(', '', regex=False).str.replace(')', '', regex=False)"
   ]
  },
  {
   "cell_type": "markdown",
   "id": "ae5abd10",
   "metadata": {},
   "source": [
    "We eliminated capital letters and white space from our column names to facilitate with cleaner codes. However, as we create more dummy variables, we will have to continue to eliminate any new capital letters or white space that will arise from such creations."
   ]
  },
  {
   "cell_type": "markdown",
   "id": "1dedb0be",
   "metadata": {},
   "source": [
    "### Part 1 - Basic Analysis\n",
    "\n",
    "#### Question 1.1: <span style=\"font-size:14px; font-weight:normal;\"> ***Converting the wnv_present column into a binary column and creating dummy variables from the trap_type column*** </span> "
   ]
  },
  {
   "cell_type": "markdown",
   "id": "dd579753",
   "metadata": {},
   "source": [
    "We are asked to convert the *wnv_present* column into a binary column and create dummy variables from the *trap_type* column. As noted above, both the *wnv_present* and *trap_type* columns store string values. Let us first see the unique values in each of the two columns."
   ]
  },
  {
   "cell_type": "code",
   "execution_count": 250,
   "id": "41f40741",
   "metadata": {},
   "outputs": [
    {
     "name": "stdout",
     "output_type": "stream",
     "text": [
      "['negative' 'positive']\n"
     ]
    }
   ],
   "source": [
    "# Getting the unique values in 'wnv_present':\n",
    "\n",
    "unique_values_wnv_present = df['wnv_present'].unique()\n",
    "print(unique_values_wnv_present)"
   ]
  },
  {
   "cell_type": "code",
   "execution_count": 251,
   "id": "56703bd6",
   "metadata": {},
   "outputs": [
    {
     "name": "stdout",
     "output_type": "stream",
     "text": [
      "['GRAVID' 'SENTINEL' 'CDC' 'OVI']\n"
     ]
    }
   ],
   "source": [
    "# Getting the unique values in 'trap type':\n",
    "\n",
    "unique_values_trap_type = df['trap_type'].unique()\n",
    "print(unique_values_trap_type)"
   ]
  },
  {
   "cell_type": "markdown",
   "id": "58ad6fdf",
   "metadata": {},
   "source": [
    "To convert the *wnv_present* column to a binary one, we will map the *positive* values to 1 and the *negative* values to 0. Our choice for this mapping is a natural one since we are interested in exploring the presence of WNV at any particular time and location. "
   ]
  },
  {
   "cell_type": "code",
   "execution_count": 252,
   "id": "3bf95de2",
   "metadata": {},
   "outputs": [],
   "source": [
    "# Converting the 'WNV Present' to binary column:\n",
    "\n",
    "df['wnv_present'] = np.where(df['wnv_present'] == 'positive', 1, 0)"
   ]
  },
  {
   "cell_type": "markdown",
   "id": "4f1c6019",
   "metadata": {},
   "source": [
    "Now we will create dummy variables from the *trap_type* column, followed by eliminating any capital letters or white space formed by our new dummy variables.  "
   ]
  },
  {
   "cell_type": "code",
   "execution_count": 253,
   "id": "a4551d98",
   "metadata": {},
   "outputs": [],
   "source": [
    "# Creating dummy variables for 'trap_type':\n",
    "dummy_one = pd.get_dummies(df['trap_type'], prefix = 'trap', dtype=int) #Adding a prefix for clarity\n",
    "\n",
    "# Concatenating dummy variables with original DataFrame: \n",
    "df = pd.concat([df, dummy_one], axis=1)\n",
    "\n",
    "# Dropping the original 'Trap type' column:\n",
    "df.drop('trap_type', axis=1, inplace=True)"
   ]
  },
  {
   "cell_type": "code",
   "execution_count": 254,
   "id": "c9a4010d",
   "metadata": {},
   "outputs": [],
   "source": [
    "# Eliminating capital letters and white space in column names:\n",
    "\n",
    "df.columns=df.columns.str.strip().str.lower().str.replace(' ', '_', regex=False).str.replace('(', '', regex=False).str.replace(')', '', regex=False)"
   ]
  },
  {
   "cell_type": "code",
   "execution_count": 255,
   "id": "d817e8a4",
   "metadata": {},
   "outputs": [
    {
     "name": "stdout",
     "output_type": "stream",
     "text": [
      "Index(['year', 'week', 'address_block', 'trap', 'date', 'mosquito_number',\n",
      "       'wnv_present', 'species', 'lat', 'lon', 'month', 'trap_cdc',\n",
      "       'trap_gravid', 'trap_ovi', 'trap_sentinel'],\n",
      "      dtype='object')\n"
     ]
    }
   ],
   "source": [
    "# Checking that we did our conversion and elimination properly:\n",
    "\n",
    "column_names = df.columns\n",
    "print(column_names)"
   ]
  },
  {
   "cell_type": "code",
   "execution_count": 256,
   "id": "e5ddefb4",
   "metadata": {},
   "outputs": [
    {
     "name": "stdout",
     "output_type": "stream",
     "text": [
      "[0 1]\n"
     ]
    }
   ],
   "source": [
    "# Checking that *wnv_present* only has binary values: \n",
    "\n",
    "unique_values_wnv_present = df['wnv_present'].unique()\n",
    "print(unique_values_wnv_present)"
   ]
  },
  {
   "cell_type": "markdown",
   "id": "238bdd58",
   "metadata": {},
   "source": [
    "#### Question 1.2: <span style=\"font-size:14px; font-weight:normal;\"> ***Finding the average number of mosquitoes for each month and observing any trends*** </span>"
   ]
  },
  {
   "cell_type": "markdown",
   "id": "b901daa5",
   "metadata": {},
   "source": [
    "There are two ways we can approach this question. The first method is to find the expected number of mosquitoes caught, per trap, for a given month, over all years. The second method would be to find the expected total number of mosquitoes caught, across all traps, per month, over all years. Let us start with the first method. "
   ]
  },
  {
   "cell_type": "code",
   "execution_count": 257,
   "id": "1bba6021",
   "metadata": {},
   "outputs": [
    {
     "name": "stdout",
     "output_type": "stream",
     "text": [
      "month\n",
      "5      2.761905\n",
      "6     10.264442\n",
      "7     11.551879\n",
      "8     12.111321\n",
      "9      8.394973\n",
      "10     5.377778\n",
      "Name: mosquito_number, dtype: float64\n"
     ]
    }
   ],
   "source": [
    "# Calculating the average number of mosquitos caught, per trap, for a given month, over all years: \n",
    "\n",
    "average_mosquitoes_per_month_1 = df.groupby('month')['mosquito_number'].mean()\n",
    "print(average_mosquitoes_per_month_1)"
   ]
  },
  {
   "cell_type": "markdown",
   "id": "87816e7a",
   "metadata": {},
   "source": [
    "For example, in month 8 (August), we can expect that a randomly selected trap has caught 12 mosquitoes.\n",
    "\n",
    "We can use a line graph to visualize any noticeable trend. "
   ]
  },
  {
   "cell_type": "code",
   "execution_count": 258,
   "id": "dc981d0f",
   "metadata": {},
   "outputs": [
    {
     "data": {
      "image/png": "[encoded data removed]",
      "text/plain": [
       "<Figure size 576x432 with 1 Axes>"
      ]
     },
     "metadata": {
      "needs_background": "light"
     },
     "output_type": "display_data"
    }
   ],
   "source": [
    "# Plotting a line graph:\n",
    "plt.figure(figsize=(8, 6))\n",
    "plt.plot(average_mosquitoes_per_month_1.index, average_mosquitoes_per_month_1.values, color= 'steelblue', marker='o', linestyle='-')\n",
    "\n",
    "# Adding labels and titles:\n",
    "plt.title('Average Number of Mosquitoes Caught, per Trap, per Month', fontdict={'fontname': 'Microsoft JhengHei', 'fontsize' : 14})\n",
    "plt.xlabel('Month', fontdict={'fontname': 'Microsoft JhengHei', 'fontsize' : 13})\n",
    "plt.ylabel('Average Number of Mosquitoes Caught', fontdict={'fontname': 'Microsoft JhengHei', 'fontsize' : 13})\n",
    "\n",
    "# Creating custom labels to convert numerical representations of months to their names, for clarity\n",
    "custom_labels = ['May', 'June', 'July', 'August', 'September', 'October']\n",
    "plt.xticks(range(5, 11), custom_labels)  # Restricting the range to only include the months in our dataset\n",
    "plt.grid(True)\n",
    "plt.show()"
   ]
  },
  {
   "cell_type": "markdown",
   "id": "c434bf60",
   "metadata": {},
   "source": [
    "***Observations***:\n",
    "    \n",
    "It appears there is a trend when it comes to the average number of mosquitoes caught, per trap, and the months.\n",
    "Average mosquito numbers were on a steep increase between the months of May to June, with a significantly slower, but steady increase, between July and August, with the peak occuring in August followed by another steap decline in the September and October months.\n",
    "\n",
    "The graph indicates that July and August, which are both hot and humid summer months, are the top months for the highest number of mosquitoes caught, per trap."
   ]
  },
  {
   "cell_type": "markdown",
   "id": "66e05088",
   "metadata": {},
   "source": [
    "Now we will calculate the average number of mosquitoes caught, across all traps, for any given month, over all years. "
   ]
  },
  {
   "cell_type": "code",
   "execution_count": 259,
   "id": "240689b8",
   "metadata": {},
   "outputs": [
    {
     "name": "stdout",
     "output_type": "stream",
     "text": [
      "month\n",
      "5       58.00\n",
      "6     2200.54\n",
      "7     4539.00\n",
      "8     6402.23\n",
      "9     2235.00\n",
      "10     302.50\n",
      "Name: mosquito_number, dtype: float64\n"
     ]
    }
   ],
   "source": [
    "# Calculating the average number of mosquitoes caught, across all traps, per month, and over all years:\n",
    "\n",
    "average_mosquitoes_per_month_2 = df.groupby(['year','month']).sum()['mosquito_number']\n",
    "average_2 = average_mosquitoes_per_month_2.groupby(['month']).mean().round(2)\n",
    "print(average_2)"
   ]
  },
  {
   "cell_type": "markdown",
   "id": "d4dc2b4f",
   "metadata": {},
   "source": [
    "For example, in month 8 (August), we can expect an average of 6,402 mosquitoes caught, across all traps.\n",
    "\n",
    "Again, we will create a line graph to visualize any trends."
   ]
  },
  {
   "cell_type": "code",
   "execution_count": 260,
   "id": "0254c9c9",
   "metadata": {},
   "outputs": [
    {
     "data": {
      "image/png": "[encoded data removed]",
      "text/plain": [
       "<Figure size 576x432 with 1 Axes>"
      ]
     },
     "metadata": {
      "needs_background": "light"
     },
     "output_type": "display_data"
    }
   ],
   "source": [
    "# Plotting a line graph:\n",
    "plt.figure(figsize=(8, 6))\n",
    "plt.plot(average_2.index, average_2.values, color='darkseagreen', marker='o', linestyle='-')\n",
    "\n",
    "# Adding labels and titles:\n",
    "plt.title('Average Number of Mosquitoes Caught, over all Traps, per Month', fontdict={'fontname': 'Microsoft JhengHei', 'fontsize' : 14})\n",
    "plt.xlabel('Month', fontdict={'fontname': 'Microsoft JhengHei', 'fontsize' : 13})\n",
    "plt.ylabel('Average Number of Mosquitoes Caught', fontdict={'fontname': 'Microsoft JhengHei', 'fontsize' : 13})\n",
    "\n",
    "# Creating custom labels to convert numerical representations of months to their names, for clarity\n",
    "custom_labels = ['May', 'June', 'July', 'August', 'September', 'October']\n",
    "plt.xticks(range(5, 11), custom_labels)  # Restricting the range to only include the months in our dataset\n",
    "plt.grid(True)\n",
    "plt.show()"
   ]
  },
  {
   "cell_type": "markdown",
   "id": "75aeb7ec",
   "metadata": {},
   "source": [
    "***Observations***:\n",
    "\n",
    "It appears there is a trend when it comes to the average of total mosquitos caught and the months. Mosquito averages were on a steady increase between the months of May to July peak numbers occuring in August followed by a steap decline in the September and October months.\n",
    "\n",
    "For both average, the overall trends are the same: mosquito numbers climbs from May to August, peak at August, and then descend from August to October. That is, August is the month with highest expected number of mosquitoes caught, both per trap and across all traps."
   ]
  },
  {
   "cell_type": "markdown",
   "id": "8c71ed9f",
   "metadata": {},
   "source": [
    "### Part 2 - Statistical Analysis\n",
    "\n",
    "#### Question 2.1: <span style=\"font-size:14px; font-weight:normal;\"> ***Determining if there is a statistically significant difference between the different mosquito species and the occurrence of WNV*** </span> "
   ]
  },
  {
   "cell_type": "markdown",
   "id": "9803970d",
   "metadata": {},
   "source": [
    "Since the variables in question are all categorical, we will use a $\\chi^{2}$ test to run against the null hypothesis that there is no statistical difference between the mosquito species and the occurrence of WNV."
   ]
  },
  {
   "cell_type": "code",
   "execution_count": 261,
   "id": "ac8e9f8b",
   "metadata": {},
   "outputs": [
    {
     "name": "stdout",
     "output_type": "stream",
     "text": [
      "                  WNV Negative  WNV Present\n",
      "species                                    \n",
      "CULEX PIPIENS             4074         1412\n",
      "CULEX RESTUANS            9309         2557\n",
      "CULEX SALINARIUS           215           11\n",
      "CULEX TERRITANS            903           14\n"
     ]
    }
   ],
   "source": [
    "# Grouping by 'Species' and 'WNV Present' and count occurrences:\n",
    "contingency_table = df.groupby(['species', 'wnv_present'])['wnv_present'].count().unstack()\n",
    "\n",
    "# Renaming columns for clarity:\n",
    "contingency_table.columns = ['WNV Negative', 'WNV Present']\n",
    "\n",
    "# Converting the contingency table to integer type:\n",
    "contingency_table = contingency_table.astype(int)\n",
    "\n",
    "# Displaying the contingency table:\n",
    "print(contingency_table)"
   ]
  },
  {
   "cell_type": "code",
   "execution_count": 262,
   "id": "cde165e0",
   "metadata": {},
   "outputs": [
    {
     "name": "stdout",
     "output_type": "stream",
     "text": [
      "(311.10394683130164, 3.9302341764409087e-67, 3, array([[4301.29689105, 1184.70310895],\n",
      "       [9303.5342525 , 2562.4657475 ],\n",
      "       [ 177.19524196,   48.80475804],\n",
      "       [ 718.97361449,  198.02638551]]))\n"
     ]
    }
   ],
   "source": [
    "# Calculating the chi-squared test:\n",
    "\n",
    "chi_square = stats.chi2_contingency(contingency_table)\n",
    "print(chi_square)"
   ]
  },
  {
   "cell_type": "code",
   "execution_count": 263,
   "id": "134813ba",
   "metadata": {},
   "outputs": [
    {
     "name": "stdout",
     "output_type": "stream",
     "text": [
      "p-value: 3.9302341764409087e-67\n"
     ]
    }
   ],
   "source": [
    "# Getting the p-value from the chi-squared test:\n",
    "chi_square, p_value, dof, expected = stats.chi2_contingency(contingency_table)\n",
    "\n",
    "# Printing the p-value\n",
    "print(\"p-value:\", p_value)"
   ]
  },
  {
   "cell_type": "markdown",
   "id": "f4409730",
   "metadata": {},
   "source": [
    "***Conclusion***:\n",
    "\n",
    "Since the $p$-value ($\\approx$ 0) is much smaller than the significance level of $\\alpha$ = 0.05, \n",
    "we can reject the null hypothesis and conclude that there is a statistically significant difference \n",
    "between the mosquito species and the occurrence of WNV."
   ]
  },
  {
   "cell_type": "markdown",
   "id": "24165960",
   "metadata": {},
   "source": [
    "#### Question 2.2: <span style=\"font-size:14px; font-weight:normal;\"> ***Determining which columns are positively correlated and negatively correlated with the number of mosquitoes caught and which correlations are statistically significant*** </span>"
   ]
  },
  {
   "cell_type": "markdown",
   "id": "fbd74c17",
   "metadata": {},
   "source": [
    "For this question we need to determine which columns are positively correlated and negatively correlated with the number of mosquitoes caught and if these correlations are statistically significant. To do this, we will run a Pearson test which will show the correlation coefficients between all the columns against the number of mosquitos caught, along with their $p$-values.\n",
    "\n",
    "However, before we run the Pearson test, we need to make sure that each of our columns has either an integer or float data type.  Since the remaining questions will deal with columns that have numerical values, we can finish preparing our data set \n",
    "by either converting appropriate columns to binary ones, creating dummy variables or dropping columns that \n",
    "should neither be converted to binary ones nor create dummy variables from.\n",
    "\n",
    "The decision not to create dummy variables from a given column with string values (object data type) rests on the number of variables created from such a process. If there are too many unique string values in a given column then the number of variables created would be too high and would hinder our analysis. In such cases, we drop the column. \n",
    "\n",
    "In order to identify which columns we should drop, we can determine how many unique values each string valued column holds.  \n",
    "\n",
    "*Note*: We have shown in the previous question that the remaining columns with string values are *address_block*, *trap*, *date*, and *species*.   "
   ]
  },
  {
   "cell_type": "code",
   "execution_count": 264,
   "id": "56146f1e",
   "metadata": {},
   "outputs": [
    {
     "data": {
      "text/plain": [
       "154"
      ]
     },
     "execution_count": 264,
     "metadata": {},
     "output_type": "execute_result"
    }
   ],
   "source": [
    "# Checking the number of unique values in the 'Address Block' column:\n",
    "\n",
    "df['address_block'].nunique()"
   ]
  },
  {
   "cell_type": "code",
   "execution_count": 265,
   "id": "b2c61b81",
   "metadata": {},
   "outputs": [
    {
     "data": {
      "text/plain": [
       "190"
      ]
     },
     "execution_count": 265,
     "metadata": {},
     "output_type": "execute_result"
    }
   ],
   "source": [
    "# Checking the number of unique values in the 'Trap' column:\n",
    "\n",
    "df['trap'].nunique()"
   ]
  },
  {
   "cell_type": "code",
   "execution_count": 266,
   "id": "de671ee5",
   "metadata": {},
   "outputs": [
    {
     "data": {
      "text/plain": [
       "298"
      ]
     },
     "execution_count": 266,
     "metadata": {},
     "output_type": "execute_result"
    }
   ],
   "source": [
    "# Checking the number of unique values in the 'Date' column:\n",
    "\n",
    "df['date'].nunique()"
   ]
  },
  {
   "cell_type": "code",
   "execution_count": 267,
   "id": "d9871eff",
   "metadata": {},
   "outputs": [
    {
     "data": {
      "text/plain": [
       "4"
      ]
     },
     "execution_count": 267,
     "metadata": {},
     "output_type": "execute_result"
    }
   ],
   "source": [
    "# Checking the number of unique values in the 'Species' column:\n",
    "\n",
    "df['species'].nunique()"
   ]
  },
  {
   "cell_type": "markdown",
   "id": "758eca66",
   "metadata": {},
   "source": [
    "Clearly, the columns *address_block*, *trap* and *date* are not candidates for conversion to binary data or dummy variables due \n",
    "to their high count in unique values. However, the *species* column is a good candidate to create dummy variables from since the column only has 4 unique values. The cost of adding 4 extra columns to our dataframe (and dropping *species*) is far smaller than the benefit of retaining the information in the *species* column. \n",
    "\n",
    "Therefore, we will drop the *address_block*, *trap* and *date* columns and create dummy variables from the *species* column. Once the dummy variables are created, we will drop the *species* column as well and eliminate all capital letters and white space. Finally, we will rearrange the columns in our dataframe so that the columns have an organized sequence (for example, keeping year, month, and week side by side). "
   ]
  },
  {
   "cell_type": "code",
   "execution_count": 268,
   "id": "bfd92876",
   "metadata": {},
   "outputs": [],
   "source": [
    "# Dropping the columns:\n",
    "\n",
    "df.drop('address_block', axis = 1, inplace=True)\n",
    "df.drop('trap', axis = 1, inplace=True)\n",
    "df.drop('date', axis = 1, inplace=True)"
   ]
  },
  {
   "cell_type": "code",
   "execution_count": 269,
   "id": "d8db960c",
   "metadata": {},
   "outputs": [],
   "source": [
    "# Creating dummy variables for 'species':\n",
    "dummy_two = pd.get_dummies(df['species'], dtype=int)\n",
    "\n",
    "# Concatenating dummy variables with original data frame: \n",
    "df = pd.concat([df, dummy_two], axis=1)"
   ]
  },
  {
   "cell_type": "code",
   "execution_count": 270,
   "id": "c7d5303e",
   "metadata": {},
   "outputs": [],
   "source": [
    "# Dropping the original 'species' column:\n",
    "\n",
    "df.drop('species', axis=1, inplace=True)"
   ]
  },
  {
   "cell_type": "code",
   "execution_count": 271,
   "id": "dd460e40",
   "metadata": {},
   "outputs": [],
   "source": [
    "# Eliminating capital letters and white space in column names:\n",
    "\n",
    "df.columns=df.columns.str.strip().str.lower().str.replace(' ', '_', regex=False).str.replace('(', '', regex=False).str.replace(')', '', regex=False)"
   ]
  },
  {
   "cell_type": "code",
   "execution_count": 272,
   "id": "5d46dd26",
   "metadata": {},
   "outputs": [],
   "source": [
    "# Rearranging columns: \n",
    "\n",
    "df=df[['year', 'month', 'week', 'mosquito_number', 'wnv_present', 'trap_cdc', 'trap_gravid', 'trap_ovi', 'trap_sentinel', 'culex_pipiens', 'culex_restuans', 'culex_salinarius', 'culex_territans', 'lat', 'lon']]"
   ]
  },
  {
   "cell_type": "code",
   "execution_count": 273,
   "id": "4fbbfa84",
   "metadata": {},
   "outputs": [
    {
     "name": "stdout",
     "output_type": "stream",
     "text": [
      "<class 'pandas.core.frame.DataFrame'>\n",
      "RangeIndex: 18495 entries, 0 to 18494\n",
      "Data columns (total 15 columns):\n",
      " #   Column            Non-Null Count  Dtype  \n",
      "---  ------            --------------  -----  \n",
      " 0   year              18495 non-null  int64  \n",
      " 1   month             18495 non-null  int64  \n",
      " 2   week              18495 non-null  int64  \n",
      " 3   mosquito_number   18495 non-null  int64  \n",
      " 4   wnv_present       18495 non-null  int32  \n",
      " 5   trap_cdc          18495 non-null  int32  \n",
      " 6   trap_gravid       18495 non-null  int32  \n",
      " 7   trap_ovi          18495 non-null  int32  \n",
      " 8   trap_sentinel     18495 non-null  int32  \n",
      " 9   culex_pipiens     18495 non-null  int32  \n",
      " 10  culex_restuans    18495 non-null  int32  \n",
      " 11  culex_salinarius  18495 non-null  int32  \n",
      " 12  culex_territans   18495 non-null  int32  \n",
      " 13  lat               18495 non-null  float64\n",
      " 14  lon               18495 non-null  float64\n",
      "dtypes: float64(2), int32(9), int64(4)\n",
      "memory usage: 1.5 MB\n"
     ]
    }
   ],
   "source": [
    "# Checking for any remaining string values:\n",
    "\n",
    "df.info()"
   ]
  },
  {
   "cell_type": "markdown",
   "id": "b1fb1349",
   "metadata": {},
   "source": [
    "Since all of our columns now have only numerical values, we can safely run our Pearson test."
   ]
  },
  {
   "cell_type": "code",
   "execution_count": 274,
   "id": "6659a5b3",
   "metadata": {},
   "outputs": [
    {
     "name": "stdout",
     "output_type": "stream",
     "text": [
      "Positive correlations:\n",
      "The correlation between mosquito_number and year is 0.1293259454937104 with p-value 0.0.\n",
      "The correlation between mosquito_number and wnv_present is 0.40803439689029863 with p-value 0.0.\n",
      "The correlation between mosquito_number and trap_cdc is 0.09414701564247441 with p-value 0.0.\n",
      "The correlation between mosquito_number and trap_sentinel is 0.10857486046661545 with p-value 0.0.\n",
      "The correlation between mosquito_number and culex_pipiens is 0.014730275197043063 with p-value 0.0452.\n",
      "The correlation between mosquito_number and culex_restuans is 0.07099925346799665 with p-value 0.0.\n",
      "The correlation between mosquito_number and lat is 0.09681989674648903 with p-value 0.0.\n",
      "\n",
      "Negative correlations:\n",
      "The correlation between mosquito_number and month is -0.04042643719660077 with p-value 0.0.\n",
      "The correlation between mosquito_number and week is -0.03389960754496083 with p-value 0.0.\n",
      "The correlation between mosquito_number and trap_gravid is -0.13827479127699155 with p-value 0.0.\n",
      "The correlation between mosquito_number and trap_ovi is -0.0053916112318652745 with p-value 0.4634.\n",
      "The correlation between mosquito_number and culex_salinarius is -0.07285875847642855 with p-value 0.0.\n",
      "The correlation between mosquito_number and culex_territans is -0.15096200881059016 with p-value 0.0.\n",
      "The correlation between mosquito_number and lon is -0.15142112596890903 with p-value 0.0.\n"
     ]
    }
   ],
   "source": [
    "# Definining our positively and negatively correlated columns:\n",
    "\n",
    "positively_correlated = []\n",
    "negatively_correlated = []\n",
    "\n",
    "# Calculating the correlation coefficients with 'mosquito_number' column for each column:\n",
    "y = df['mosquito_number']\n",
    "for col in df.columns:\n",
    "    if col != 'mosquito_number':\n",
    "        correlation, p_value = stats.pearsonr(df[col], y)\n",
    "        if correlation > 0:\n",
    "            positively_correlated.append((col, correlation, p_value))\n",
    "        elif correlation < 0:\n",
    "            negatively_correlated.append((col, correlation, p_value))\n",
    "\n",
    "# Printing the results for positively correlated columns, along with their p-values:\n",
    "print(\"Positive correlations:\")\n",
    "for col, correlation, p_value in positively_correlated:\n",
    "    print(f\"The correlation between mosquito_number and {col} is {correlation} with p-value {round(p_value, 4)}.\")\n",
    "\n",
    "# Printing the results for negatively correlated columns, along with their p-values:\n",
    "print(\"\\nNegative correlations:\")\n",
    "for col, correlation, p_value in negatively_correlated:\n",
    "    print(f\"The correlation between mosquito_number and {col} is {correlation} with p-value {round(p_value, 4)}.\")"
   ]
  },
  {
   "cell_type": "markdown",
   "id": "ddcb3e5f",
   "metadata": {},
   "source": [
    "***Observations***:\n",
    "\n",
    "The variable with the strongest correlation with *mosquito_number* is *wnv_present* where $r$ = 0.408. \n",
    "\n",
    "*mosquito_number* has weak positive correlations with the variables *year*, *trap_cdc*, *trap_sentinel*, *culex_pipiens*, *culex_restuans*, and *lat*.\n",
    "\n",
    "*mosquito_number* has weak negative correlations with the variables *month*, *week*, *trap_gravid*, *trap_ovi*, *trap_salinarius*, *culex_territans*, and *lon*.\n",
    "\n",
    "All the variables are statistically significant (since their $p$-value < 0.05) except for *trap_ovi*, whose $p$-value = 0.4634."
   ]
  },
  {
   "cell_type": "markdown",
   "id": "824b6587",
   "metadata": {},
   "source": [
    "### Part 3 - Advanced Statistical Analysis\n",
    "\n",
    "#### Question 3.1: <span style=\"font-size:14px; font-weight:normal;\"> ***Running and analyzing a linear regression model against the number of mosquitoes caught*** </span> "
   ]
  },
  {
   "cell_type": "markdown",
   "id": "f689275d",
   "metadata": {},
   "source": [
    "This question asks us to run a linear regression model to determine how the independent (predictor) variables affect the number of mosquitoes caught. Since there will be more than one independent variable, we will be running a multiple linear regression model. \n",
    "\n",
    "Also, the question indicates that we should not be using *wnv_present* as one of our independent variables, so we will be dropping it from a copy of our dataframe. Indeed, we will be using a copy of our dataframe for this first question since we will be using the original dataframe for the next question.\n",
    "\n",
    "*Note*: we will not be dropping one of our dummy variables at the moment (even though it is standard to do so). We will drop at least one dummy variable as we iterate through our modelling process though. "
   ]
  },
  {
   "cell_type": "code",
   "execution_count": 275,
   "id": "731fc126",
   "metadata": {},
   "outputs": [],
   "source": [
    "# Making a copy of original dataframe:\n",
    "df_copy = df.copy()\n",
    "\n",
    "# Dropping 'wnv_present' from the copy:\n",
    "df_copy.drop('wnv_present', axis=1, inplace=True)"
   ]
  },
  {
   "cell_type": "markdown",
   "id": "8aa4ba3e",
   "metadata": {},
   "source": [
    "However, before we run any linear regression models, we need to check two of the four linear regression assumptions:\n",
    "\n",
    "1. There is a linear relationship between the independent and dependent variables.\n",
    "\n",
    "2. The independent (predictor) variables are independent and identically distributed. "
   ]
  },
  {
   "cell_type": "markdown",
   "id": "4bc64c18",
   "metadata": {},
   "source": [
    "##### Linear Regression Assumption 1: There is a linear relationship between the independent and dependent variables"
   ]
  },
  {
   "cell_type": "markdown",
   "id": "3cc138e0",
   "metadata": {},
   "source": [
    "To check this assumption, we are going to create scatter plots and check for a linear relationship between every indepedent variable and the dependent variable. In this case, our dependent variable is *mosquito_number*."
   ]
  },
  {
   "cell_type": "code",
   "execution_count": 276,
   "id": "3162ef79",
   "metadata": {},
   "outputs": [
    {
     "data": {
      "image/png": "[encoded data removed]",
      "text/plain": [
       "<Figure size 432x288 with 1 Axes>"
      ]
     },
     "metadata": {
      "needs_background": "light"
     },
     "output_type": "display_data"
    },
    {
     "data": {
      "image/png": "[encoded data removed]",
      "text/plain": [
       "<Figure size 432x288 with 1 Axes>"
      ]
     },
     "metadata": {
      "needs_background": "light"
     },
     "output_type": "display_data"
    },
    {
     "data": {
      "image/png": "[encoded data removed]",
      "text/plain": [
       "<Figure size 432x288 with 1 Axes>"
      ]
     },
     "metadata": {
      "needs_background": "light"
     },
     "output_type": "display_data"
    },
    {
     "data": {
      "image/png": "[encoded data removed]",
      "text/plain": [
       "<Figure size 432x288 with 1 Axes>"
      ]
     },
     "metadata": {
      "needs_background": "light"
     },
     "output_type": "display_data"
    },
    {
     "data": {
      "image/png": "[encoded data removed]",
      "text/plain": [
       "<Figure size 432x288 with 1 Axes>"
      ]
     },
     "metadata": {
      "needs_background": "light"
     },
     "output_type": "display_data"
    },
    {
     "data": {
      "image/png": "[encoded data removed]",
      "text/plain": [
       "<Figure size 432x288 with 1 Axes>"
      ]
     },
     "metadata": {
      "needs_background": "light"
     },
     "output_type": "display_data"
    },
    {
     "data": {
      "image/png": "[encoded data removed]",
      "text/plain": [
       "<Figure size 432x288 with 1 Axes>"
      ]
     },
     "metadata": {
      "needs_background": "light"
     },
     "output_type": "display_data"
    },
    {
     "data": {
      "image/png": "[encoded data removed]",
      "text/plain": [
       "<Figure size 432x288 with 1 Axes>"
      ]
     },
     "metadata": {
      "needs_background": "light"
     },
     "output_type": "display_data"
    },
    {
     "data": {
      "image/png": "[encoded data removed]",
      "text/plain": [
       "<Figure size 432x288 with 1 Axes>"
      ]
     },
     "metadata": {
      "needs_background": "light"
     },
     "output_type": "display_data"
    },
    {
     "data": {
      "image/png": "[encoded data removed]",
      "text/plain": [
       "<Figure size 432x288 with 1 Axes>"
      ]
     },
     "metadata": {
      "needs_background": "light"
     },
     "output_type": "display_data"
    },
    {
     "data": {
      "image/png": "[encoded data removed]",
      "text/plain": [
       "<Figure size 432x288 with 1 Axes>"
      ]
     },
     "metadata": {
      "needs_background": "light"
     },
     "output_type": "display_data"
    },
    {
     "data": {
      "image/png": "[encoded data removed]",
      "text/plain": [
       "<Figure size 432x288 with 1 Axes>"
      ]
     },
     "metadata": {
      "needs_background": "light"
     },
     "output_type": "display_data"
    },
    {
     "data": {
      "image/png": "[encoded data removed]",
      "text/plain": [
       "<Figure size 432x288 with 1 Axes>"
      ]
     },
     "metadata": {
      "needs_background": "light"
     },
     "output_type": "display_data"
    },
    {
     "data": {
      "image/png": "[encoded data removed]",
      "text/plain": [
       "<Figure size 432x288 with 1 Axes>"
      ]
     },
     "metadata": {
      "needs_background": "light"
     },
     "output_type": "display_data"
    }
   ],
   "source": [
    "# Creating the dependent variable:\n",
    "y = df_copy['mosquito_number']\n",
    "\n",
    "# Creating scatterplots for each independent variable:\n",
    "for col in df_copy.columns: \n",
    "    plt.figure()\n",
    "    plt.scatter(df_copy[col], y)\n",
    "    plt.ylabel('Mosquito number')\n",
    "    plt.xlabel(col)\n",
    "    plt.show();"
   ]
  },
  {
   "cell_type": "markdown",
   "id": "7850c6d3",
   "metadata": {},
   "source": [
    "***Observations***:\n",
    "\n",
    "As per our scatterplots, there are no linear relationships with any of the independent variables and the dependent variable.\n",
    "\n",
    "However, if we recall our observations from *Question 2.2*, we found that *mosquito_number* had a weak correlation with \n",
    "all the independent variables (indicating a weak linear relatoinship), where the correlations were significant, save for *trap_ovi*."
   ]
  },
  {
   "cell_type": "markdown",
   "id": "f997390b",
   "metadata": {},
   "source": [
    "##### Linear Assumption 2: The independent (predictor) variables are independent and identically distributed\n",
    " \n",
    "We will not be checking if each independent (predictor) variable is identically distributed; we will simply assume that each variable was randomly selected from their respective population.\n",
    "\n",
    "For independence, we will only be checking pairwise independence via a correlation matrix, illustarted by a heatmap. \n",
    "It should be noted that VIF analysis is not recommended for this question, so we will not perform it.\n",
    "\n",
    "It should also be noted that dropping variables from the correlation matrix does not change the pairwise correlation coefficients with the remaining variables. Therefore, this heatmap will suffice for our analysis and we will not continue to reiterate the heatmap every time an independent variable is dropped from the model."
   ]
  },
  {
   "cell_type": "code",
   "execution_count": 277,
   "id": "674ac5ec",
   "metadata": {},
   "outputs": [
    {
     "data": {
      "image/png": "[encoded data removed]",
      "text/plain": [
       "<Figure size 720x720 with 2 Axes>"
      ]
     },
     "metadata": {
      "needs_background": "light"
     },
     "output_type": "display_data"
    }
   ],
   "source": [
    "# Defining the matrix X of independent variables: \n",
    "X = df_copy[['year', 'month', 'week', 'trap_cdc','trap_gravid', 'trap_ovi', 'trap_sentinel', 'culex_pipiens', 'culex_restuans', 'culex_salinarius', 'culex_territans','lat', 'lon']]\n",
    "\n",
    "# Defining the dependent variable y:\n",
    "y = df_copy['mosquito_number']\n",
    "\n",
    "# Calculating the correlation matrix:\n",
    "corr = X.corr()\n",
    "\n",
    "# Creating the heatmap:\n",
    "plt.figure(figsize=(10, 10))\n",
    "sns.heatmap(corr.round(2), annot=True, vmax=1, vmin=-1, center=0, cmap=\"coolwarm\", mask=np.triu(corr))\n",
    "plt.show()"
   ]
  },
  {
   "cell_type": "markdown",
   "id": "16bfdc11",
   "metadata": {},
   "source": [
    "The above heatmeat suggests that quite a few variable pairs are highly correlated, and, as such, one of the two variables from each pair should be dropped from the model. Here is a list of the pairs with an absolute value of the sample correlation coefficient greater than 0.5. "
   ]
  },
  {
   "cell_type": "code",
   "execution_count": 278,
   "id": "1c724ad1",
   "metadata": {},
   "outputs": [
    {
     "name": "stdout",
     "output_type": "stream",
     "text": [
      "Variable pairs: month, week, |r|= 0.95\n",
      "Variable pairs: culex_pipiens, culex_restuans, |r|= 0.87\n",
      "Variable pairs: trap_cdc, trap_gravid, |r|= 0.84\n",
      "Variable pairs: lat, lon, |r|= 0.75\n",
      "Variable pairs: trap_gravid, trap_sentinel, |r|= 0.52\n"
     ]
    }
   ],
   "source": [
    "# Create a list to store the pairs of variables and their absolute coefficients\n",
    "pairs_with_coefficients = []\n",
    "\n",
    "# Iterate over the correlation matrix\n",
    "for i in range(len(corr.columns)):\n",
    "    for j in range(i+1, len(corr.columns)):\n",
    "        # Check if the correlation coefficient is greater than or equal to 0.3\n",
    "        if abs(corr.iloc[i, j]) >= 0.5:\n",
    "            # Append the pair of variables and their absolute coefficient to the list\n",
    "            pairs_with_coefficients.append((corr.columns[i], corr.columns[j], abs(corr.iloc[i, j])))\n",
    "\n",
    "# Sort the list based on the absolute coefficients in descending order\n",
    "sorted_pairs = sorted(pairs_with_coefficients, key=lambda x: x[2], reverse=True)\n",
    "\n",
    "# Print the pairs of variables and their absolute coefficients\n",
    "for pair in sorted_pairs:\n",
    "    print(f\"Variable pairs: {pair[0]}, {pair[1]}, |r|= {round(pair[2], 2)}\")"
   ]
  },
  {
   "cell_type": "markdown",
   "id": "dcb12e6b",
   "metadata": {},
   "source": [
    "The choice of which variable to drop from each pair may not always be a simply one. For example, our heatmap suggests that we should drop either *month* or *week* from our model, since they are almost perfectly correlated. However, the *week* variable is a lot more granulated than the *month* variable. We already dropped the *date* variable from our dataframe earlier on, which contained the most information for time, so it would be natural to want to keep the variable that carries more leveled information. \n",
    "\n",
    "But before dropping any variable, we will run an OLS regression model and compare the two $R^{2}$ values. This comparision will also play a role in determining which variables we ultimately drop. \n",
    "\n",
    "For illustrative purposes, our first model run will be the full model, with all the independent variables. From there, we will remove variables with high collinearity after running the model and comparing their $R^{2}$. This will be an iterative process with the end goal being that the remaining independent variable have no collinearity, have significant coefficients for our model, and that the $R^{2}$ value is optimized. "
   ]
  },
  {
   "cell_type": "code",
   "execution_count": 279,
   "id": "05ff2d53",
   "metadata": {},
   "outputs": [
    {
     "name": "stdout",
     "output_type": "stream",
     "text": [
      "                            OLS Regression Results                            \n",
      "==============================================================================\n",
      "Dep. Variable:        mosquito_number   R-squared:                       0.093\n",
      "Model:                            OLS   Adj. R-squared:                  0.092\n",
      "Method:                 Least Squares   F-statistic:                     171.3\n",
      "Date:                Sun, 03 Mar 2024   Prob (F-statistic):               0.00\n",
      "Time:                        19:45:44   Log-Likelihood:                -73448.\n",
      "No. Observations:               18495   AIC:                         1.469e+05\n",
      "Df Residuals:                   18483   BIC:                         1.470e+05\n",
      "Df Model:                          11                                         \n",
      "Covariance Type:            nonrobust                                         \n",
      "====================================================================================\n",
      "                       coef    std err          t      P>|t|      [0.025      0.975]\n",
      "------------------------------------------------------------------------------------\n",
      "const            -2003.4555     74.302    -26.964      0.000   -2149.094   -1857.817\n",
      "year                 0.5333      0.029     18.425      0.000       0.477       0.590\n",
      "month               -0.3356      0.311     -1.080      0.280      -0.945       0.273\n",
      "week                -0.0762      0.072     -1.065      0.287      -0.216       0.064\n",
      "trap_cdc          -493.3875     18.713    -26.366      0.000    -530.066    -456.709\n",
      "trap_gravid       -504.3811     18.778    -26.860      0.000    -541.188    -467.574\n",
      "trap_ovi          -514.3623     21.192    -24.271      0.000    -555.901    -472.824\n",
      "trap_sentinel     -491.3246     18.785    -26.154      0.000    -528.146    -454.503\n",
      "culex_pipiens     -495.7856     18.567    -26.702      0.000    -532.179    -459.392\n",
      "culex_restuans    -497.0422     18.603    -26.718      0.000    -533.506    -460.578\n",
      "culex_salinarius  -505.5478     18.584    -27.204      0.000    -541.973    -469.122\n",
      "culex_territans   -505.0798     18.567    -27.203      0.000    -541.473    -468.686\n",
      "lat                 -4.8662      1.239     -3.928      0.000      -7.294      -2.438\n",
      "lon                -24.5167      1.503    -16.314      0.000     -27.462     -21.571\n",
      "==============================================================================\n",
      "Omnibus:                     4534.845   Durbin-Watson:                   1.551\n",
      "Prob(Omnibus):                  0.000   Jarque-Bera (JB):             8986.296\n",
      "Skew:                           1.504   Prob(JB):                         0.00\n",
      "Kurtosis:                       4.618   Cond. No.                     3.71e+19\n",
      "==============================================================================\n",
      "\n",
      "Notes:\n",
      "[1] Standard Errors assume that the covariance matrix of the errors is correctly specified.\n",
      "[2] The smallest eigenvalue is 5.47e-29. This might indicate that there are\n",
      "strong multicollinearity problems or that the design matrix is singular.\n"
     ]
    }
   ],
   "source": [
    "X = df_copy[['year', 'month', 'week', 'trap_cdc','trap_gravid', 'trap_ovi', 'trap_sentinel', 'culex_pipiens', 'culex_restuans', 'culex_salinarius', 'culex_territans','lat', 'lon']]\n",
    "y = df_copy['mosquito_number']\n",
    "\n",
    "# Adding a constant term to the independent variable:\n",
    "X_withones = sm.add_constant(X)\n",
    "\n",
    "# Fitting the OLS model:\n",
    "mos_num_results = sm.OLS(y, X_withones).fit()\n",
    "\n",
    "# Printing the summary:\n",
    "print(mos_num_results.summary())"
   ]
  },
  {
   "cell_type": "markdown",
   "id": "c2110f53",
   "metadata": {},
   "source": [
    "***Observations***:\n",
    "\n",
    "As per the above results, $R^{2}$=0.93. This is a very low number since it implies that our model only explains 9.3% of \n",
    "the variation in mosquito numbers.\n",
    "\n",
    "Moreover, the predictor variables *month* and *week* have high $p$-values (> 0.05), which indicate that we should \n",
    "not reject the hypothesis, at an $\\alpha$=0.05 level, that their $\\beta_{i}$'s are zero. This implies that both variables\n",
    "are not significant in predicting the mosquito numbers. \n",
    "\n",
    "However, it would seem counterintuitive to assume that neither *month* nor *week* would be useful predictors \n",
    "for predicting the amount of mosquitoes caught. Of course, we already know that the issue lies in the fact that *month* and *week* are highly correlated.\n",
    "\n",
    "Let us begin our iterative process by first excluding *month* from our model and then excluding *month*. We will continue with the process for each of the paired variables above. "
   ]
  },
  {
   "cell_type": "code",
   "execution_count": 280,
   "id": "f864a63c",
   "metadata": {},
   "outputs": [
    {
     "name": "stdout",
     "output_type": "stream",
     "text": [
      "                            OLS Regression Results                            \n",
      "==============================================================================\n",
      "Dep. Variable:        mosquito_number   R-squared:                       0.092\n",
      "Model:                            OLS   Adj. R-squared:                  0.092\n",
      "Method:                 Least Squares   F-statistic:                     188.3\n",
      "Date:                Sun, 03 Mar 2024   Prob (F-statistic):               0.00\n",
      "Time:                        19:45:44   Log-Likelihood:                -73448.\n",
      "No. Observations:               18495   AIC:                         1.469e+05\n",
      "Df Residuals:                   18484   BIC:                         1.470e+05\n",
      "Df Model:                          10                                         \n",
      "Covariance Type:            nonrobust                                         \n",
      "====================================================================================\n",
      "                       coef    std err          t      P>|t|      [0.025      0.975]\n",
      "------------------------------------------------------------------------------------\n",
      "const            -2012.1760     73.862    -27.242      0.000   -2156.953   -1867.399\n",
      "year                 0.5399      0.028     19.075      0.000       0.484       0.595\n",
      "week                -0.1493      0.023     -6.425      0.000      -0.195      -0.104\n",
      "trap_cdc          -495.5994     18.601    -26.644      0.000    -532.058    -459.141\n",
      "trap_gravid       -506.5455     18.671    -27.130      0.000    -543.143    -469.948\n",
      "trap_ovi          -516.5275     21.097    -24.483      0.000    -557.880    -475.175\n",
      "trap_sentinel     -493.5036     18.677    -26.423      0.000    -530.112    -456.895\n",
      "culex_pipiens     -497.9705     18.457    -26.980      0.000    -534.148    -461.793\n",
      "culex_restuans    -499.2259     18.493    -26.995      0.000    -535.474    -462.978\n",
      "culex_salinarius  -507.7174     18.475    -27.482      0.000    -543.930    -471.505\n",
      "culex_territans   -507.2622     18.457    -27.483      0.000    -543.440    -471.085\n",
      "lat                 -4.8611      1.239     -3.924      0.000      -7.289      -2.433\n",
      "lon                -24.5096      1.503    -16.309      0.000     -27.455     -21.564\n",
      "==============================================================================\n",
      "Omnibus:                     4535.839   Durbin-Watson:                   1.551\n",
      "Prob(Omnibus):                  0.000   Jarque-Bera (JB):             8989.340\n",
      "Skew:                           1.504   Prob(JB):                         0.00\n",
      "Kurtosis:                       4.618   Cond. No.                     2.39e+19\n",
      "==============================================================================\n",
      "\n",
      "Notes:\n",
      "[1] Standard Errors assume that the covariance matrix of the errors is correctly specified.\n",
      "[2] The smallest eigenvalue is 1.32e-28. This might indicate that there are\n",
      "strong multicollinearity problems or that the design matrix is singular.\n"
     ]
    }
   ],
   "source": [
    "# Defining X without 'month':\n",
    "X_1 = df_copy[['year', 'week', 'trap_cdc','trap_gravid', 'trap_ovi', 'trap_sentinel','culex_pipiens','culex_restuans', 'culex_salinarius', 'culex_territans', 'lat', 'lon']]\n",
    "y = df_copy['mosquito_number']\n",
    "\n",
    "# Adding a constant term to the independent variable:\n",
    "X_1_withones = sm.add_constant(X_1)\n",
    "\n",
    "# Fitting the OLS model:\n",
    "mos_num_results_1 = sm.OLS(y, X_1_withones).fit()\n",
    "\n",
    "# Printing the summary:\n",
    "print(mos_num_results_1.summary())"
   ]
  },
  {
   "cell_type": "code",
   "execution_count": 281,
   "id": "b4db5d04",
   "metadata": {},
   "outputs": [
    {
     "name": "stdout",
     "output_type": "stream",
     "text": [
      "R-squared: 0.092\n"
     ]
    }
   ],
   "source": [
    "# Getting the R-squared value:\n",
    "r_squared = mos_num_results_1.rsquared\n",
    "\n",
    "# Printing the R-squared value:\n",
    "print(\"R-squared:\", round(r_squared, 3))"
   ]
  },
  {
   "cell_type": "code",
   "execution_count": 282,
   "id": "13ab588e",
   "metadata": {},
   "outputs": [
    {
     "name": "stdout",
     "output_type": "stream",
     "text": [
      "                            OLS Regression Results                            \n",
      "==============================================================================\n",
      "Dep. Variable:        mosquito_number   R-squared:                       0.092\n",
      "Model:                            OLS   Adj. R-squared:                  0.092\n",
      "Method:                 Least Squares   F-statistic:                     188.3\n",
      "Date:                Sun, 03 Mar 2024   Prob (F-statistic):               0.00\n",
      "Time:                        19:45:45   Log-Likelihood:                -73448.\n",
      "No. Observations:               18495   AIC:                         1.469e+05\n",
      "Df Residuals:                   18484   BIC:                         1.470e+05\n",
      "Df Model:                          10                                         \n",
      "Covariance Type:            nonrobust                                         \n",
      "====================================================================================\n",
      "                       coef    std err          t      P>|t|      [0.025      0.975]\n",
      "------------------------------------------------------------------------------------\n",
      "const            -1994.2858     73.801    -27.022      0.000   -2138.943   -1849.629\n",
      "year                 0.5263      0.028     18.674      0.000       0.471       0.582\n",
      "month               -0.6484      0.101     -6.428      0.000      -0.846      -0.451\n",
      "trap_cdc          -491.0806     18.587    -26.421      0.000    -527.513    -454.648\n",
      "trap_gravid       -502.1186     18.658    -26.912      0.000    -538.689    -465.548\n",
      "trap_ovi          -512.0215     21.078    -24.292      0.000    -553.336    -470.707\n",
      "trap_sentinel     -489.0651     18.665    -26.202      0.000    -525.651    -452.479\n",
      "culex_pipiens     -493.5042     18.443    -26.758      0.000    -529.655    -457.353\n",
      "culex_restuans    -494.7339     18.476    -26.776      0.000    -530.949    -458.518\n",
      "culex_salinarius  -503.2602     18.459    -27.264      0.000    -539.442    -467.079\n",
      "culex_territans   -502.7874     18.442    -27.263      0.000    -538.935    -466.640\n",
      "lat                 -4.8771      1.239     -3.937      0.000      -7.305      -2.449\n",
      "lon                -24.5269      1.503    -16.321      0.000     -27.472     -21.581\n",
      "==============================================================================\n",
      "Omnibus:                     4535.908   Durbin-Watson:                   1.551\n",
      "Prob(Omnibus):                  0.000   Jarque-Bera (JB):             8990.208\n",
      "Skew:                           1.504   Prob(JB):                         0.00\n",
      "Kurtosis:                       4.618   Cond. No.                     1.77e+19\n",
      "==============================================================================\n",
      "\n",
      "Notes:\n",
      "[1] Standard Errors assume that the covariance matrix of the errors is correctly specified.\n",
      "[2] The smallest eigenvalue is 2.39e-28. This might indicate that there are\n",
      "strong multicollinearity problems or that the design matrix is singular.\n"
     ]
    }
   ],
   "source": [
    "# Defining X without 'week':\n",
    "X_2 = df_copy[['year', 'month', 'trap_cdc','trap_gravid', 'trap_ovi', 'trap_sentinel','culex_pipiens','culex_restuans', 'culex_salinarius', 'culex_territans', 'lat', 'lon']]\n",
    "y = df_copy['mosquito_number']\n",
    "\n",
    "# Adding a constant term to the independent variable:\n",
    "X_2_withones = sm.add_constant(X_2)\n",
    "\n",
    "# Fitting the OLS model:\n",
    "mos_num_results_2 = sm.OLS(y, X_2_withones).fit()\n",
    "\n",
    "\n",
    "# Printing the summary:\n",
    "print(mos_num_results_2.summary())"
   ]
  },
  {
   "cell_type": "code",
   "execution_count": 283,
   "id": "b37cdfb3",
   "metadata": {},
   "outputs": [
    {
     "name": "stdout",
     "output_type": "stream",
     "text": [
      "R-squared: 0.092\n"
     ]
    }
   ],
   "source": [
    "# Getting the R-squared value:\n",
    "r_squared = mos_num_results_2.rsquared\n",
    "\n",
    "# Printing the R-squared value:\n",
    "print(\"R-squared:\", round(r_squared, 3))"
   ]
  },
  {
   "cell_type": "markdown",
   "id": "8e49f3f8",
   "metadata": {},
   "source": [
    "***Observations***:\n",
    "\n",
    "The $R^{2}$ value was the same for the model, whether we kept *month* or *week*. Moreover, the $R^{2}$ value only decreased by 0.01% when we removed either *month* or *week* from the model. Since *week* is more granulated (can detect more patterns and trends) and it does not increase the complexity of the model, we keep the *week* variable and drop the *month* variable from our model. \n",
    "\n",
    "Now we will look at the *trap_cdc* and *trap_gravid* variables. "
   ]
  },
  {
   "cell_type": "code",
   "execution_count": 284,
   "id": "b0fd677e",
   "metadata": {},
   "outputs": [
    {
     "name": "stdout",
     "output_type": "stream",
     "text": [
      "                            OLS Regression Results                            \n",
      "==============================================================================\n",
      "Dep. Variable:        mosquito_number   R-squared:                       0.092\n",
      "Model:                            OLS   Adj. R-squared:                  0.092\n",
      "Method:                 Least Squares   F-statistic:                     188.3\n",
      "Date:                Sun, 03 Mar 2024   Prob (F-statistic):               0.00\n",
      "Time:                        19:45:46   Log-Likelihood:                -73448.\n",
      "No. Observations:               18495   AIC:                         1.469e+05\n",
      "Df Residuals:                   18484   BIC:                         1.470e+05\n",
      "Df Model:                          10                                         \n",
      "Covariance Type:            nonrobust                                         \n",
      "====================================================================================\n",
      "                       coef    std err          t      P>|t|      [0.025      0.975]\n",
      "------------------------------------------------------------------------------------\n",
      "const            -2408.6556     88.553    -27.200      0.000   -2582.228   -2235.084\n",
      "year                 0.5399      0.028     19.075      0.000       0.484       0.595\n",
      "week                -0.1493      0.023     -6.425      0.000      -0.195      -0.104\n",
      "trap_gravid        -10.9461      0.582    -18.822      0.000     -12.086      -9.806\n",
      "trap_ovi           -20.9281     12.855     -1.628      0.104     -46.125       4.268\n",
      "trap_sentinel        2.0959      1.082      1.936      0.053      -0.026       4.218\n",
      "culex_pipiens     -597.0904     22.129    -26.982      0.000    -640.466    -553.715\n",
      "culex_restuans    -598.3458     22.166    -26.994      0.000    -641.792    -554.899\n",
      "culex_salinarius  -606.8373     22.145    -27.402      0.000    -650.244    -563.430\n",
      "culex_territans   -606.3821     22.129    -27.402      0.000    -649.757    -563.007\n",
      "lat                 -4.8611      1.239     -3.924      0.000      -7.289      -2.433\n",
      "lon                -24.5096      1.503    -16.309      0.000     -27.455     -21.564\n",
      "==============================================================================\n",
      "Omnibus:                     4535.839   Durbin-Watson:                   1.551\n",
      "Prob(Omnibus):                  0.000   Jarque-Bera (JB):             8989.340\n",
      "Skew:                           1.504   Prob(JB):                         0.00\n",
      "Kurtosis:                       4.618   Cond. No.                     9.76e+18\n",
      "==============================================================================\n",
      "\n",
      "Notes:\n",
      "[1] Standard Errors assume that the covariance matrix of the errors is correctly specified.\n",
      "[2] The smallest eigenvalue is 7.89e-28. This might indicate that there are\n",
      "strong multicollinearity problems or that the design matrix is singular.\n"
     ]
    }
   ],
   "source": [
    "# Defining X without 'trap_cdc':\n",
    "X_3 = df_copy[['year', 'week', 'trap_gravid', 'trap_ovi', 'trap_sentinel','culex_pipiens','culex_restuans', 'culex_salinarius', 'culex_territans', 'lat', 'lon']]\n",
    "y = df_copy['mosquito_number']\n",
    "\n",
    "# Adding a constant term to the independent variable:\n",
    "X_3_withones= sm.add_constant(X_3)\n",
    "\n",
    "# Fitting the OLS model:\n",
    "mos_num_results_3 = sm.OLS(y, X_3_withones).fit()\n",
    "\n",
    "# Printing the summary:\n",
    "print(mos_num_results_3.summary())"
   ]
  },
  {
   "cell_type": "code",
   "execution_count": 285,
   "id": "a0fbd626",
   "metadata": {},
   "outputs": [
    {
     "name": "stdout",
     "output_type": "stream",
     "text": [
      "R-squared: 0.092\n"
     ]
    }
   ],
   "source": [
    "# Getting the R-squared value:\n",
    "r_squared = mos_num_results_3.rsquared\n",
    "\n",
    "# Printing the R-squared value:\n",
    "print(\"R-squared:\", round(r_squared, 3))"
   ]
  },
  {
   "cell_type": "code",
   "execution_count": 286,
   "id": "0fe27b9a",
   "metadata": {},
   "outputs": [
    {
     "name": "stdout",
     "output_type": "stream",
     "text": [
      "                            OLS Regression Results                            \n",
      "==============================================================================\n",
      "Dep. Variable:        mosquito_number   R-squared:                       0.092\n",
      "Model:                            OLS   Adj. R-squared:                  0.092\n",
      "Method:                 Least Squares   F-statistic:                     188.3\n",
      "Date:                Sun, 03 Mar 2024   Prob (F-statistic):               0.00\n",
      "Time:                        19:45:46   Log-Likelihood:                -73448.\n",
      "No. Observations:               18495   AIC:                         1.469e+05\n",
      "Df Residuals:                   18484   BIC:                         1.470e+05\n",
      "Df Model:                          10                                         \n",
      "Covariance Type:            nonrobust                                         \n",
      "====================================================================================\n",
      "                       coef    std err          t      P>|t|      [0.025      0.975]\n",
      "------------------------------------------------------------------------------------\n",
      "const            -2417.4125     88.613    -27.281      0.000   -2591.102   -2243.723\n",
      "year                 0.5399      0.028     19.075      0.000       0.484       0.595\n",
      "week                -0.1493      0.023     -6.425      0.000      -0.195      -0.104\n",
      "trap_cdc            10.9461      0.582     18.822      0.000       9.806      12.086\n",
      "trap_ovi            -9.9820     12.844     -0.777      0.437     -35.158      15.194\n",
      "trap_sentinel       13.0420      0.905     14.412      0.000      11.268      14.816\n",
      "culex_pipiens     -599.2796     22.144    -27.062      0.000    -642.685    -555.875\n",
      "culex_restuans    -600.5350     22.180    -27.075      0.000    -644.011    -557.059\n",
      "culex_salinarius  -609.0265     22.161    -27.483      0.000    -652.463    -565.590\n",
      "culex_territans   -608.5713     22.144    -27.483      0.000    -651.975    -565.167\n",
      "lat                 -4.8611      1.239     -3.924      0.000      -7.289      -2.433\n",
      "lon                -24.5096      1.503    -16.309      0.000     -27.455     -21.564\n",
      "==============================================================================\n",
      "Omnibus:                     4535.839   Durbin-Watson:                   1.551\n",
      "Prob(Omnibus):                  0.000   Jarque-Bera (JB):             8989.340\n",
      "Skew:                           1.504   Prob(JB):                         0.00\n",
      "Kurtosis:                       4.618   Cond. No.                     1.02e+19\n",
      "==============================================================================\n",
      "\n",
      "Notes:\n",
      "[1] Standard Errors assume that the covariance matrix of the errors is correctly specified.\n",
      "[2] The smallest eigenvalue is 7.21e-28. This might indicate that there are\n",
      "strong multicollinearity problems or that the design matrix is singular.\n"
     ]
    }
   ],
   "source": [
    "# Defining X without 'trap_gravid':\n",
    "X_4 = df_copy[['year', 'week', 'trap_cdc', 'trap_ovi', 'trap_sentinel','culex_pipiens','culex_restuans', 'culex_salinarius', 'culex_territans', 'lat', 'lon']]\n",
    "y = df_copy['mosquito_number']\n",
    "\n",
    "# Adding a constant term to the independent variable:\n",
    "X_4_withones= sm.add_constant(X_4)\n",
    "\n",
    "# Fitting the OLS model:\n",
    "mos_num_results_4 = sm.OLS(y, X_4_withones).fit()\n",
    "\n",
    "# Get the R-squared value\n",
    "r_squared = mos_num_results_4.rsquared\n",
    "\n",
    "# Printing the summary:\n",
    "print(mos_num_results_4.summary())"
   ]
  },
  {
   "cell_type": "code",
   "execution_count": 287,
   "id": "610812ab",
   "metadata": {},
   "outputs": [
    {
     "name": "stdout",
     "output_type": "stream",
     "text": [
      "R-squared: 0.092\n"
     ]
    }
   ],
   "source": [
    "# Getting the R-squared value:\n",
    "r_squared = mos_num_results_4.rsquared\n",
    "\n",
    "# Printing the R-squared value:\n",
    "print(\"R-squared:\", round(r_squared, 3))"
   ]
  },
  {
   "cell_type": "markdown",
   "id": "1d67f1c1",
   "metadata": {},
   "source": [
    "***Observations***:\n",
    "\n",
    "The $R^{2}$ value remains the same at 9.2%, irrespective if we keep both *trap_cdc* and *trap_gravid* or drop one. Since *trap_cdc* and *trap_gravid* are highly correlated we do need to drop one, but the value of $R^{2}$ will not be our determining factor. Since *trap_gravid* accounts for 95% of all trap types used in our data set, and thus contains most entries, we keep the *trap_gravid* variable and drop the *trap_cdc* variable from our model.\n",
    "\n",
    "The code below verifies our claim that *trap_gravid* makes up 95% of all trap types used. "
   ]
  },
  {
   "cell_type": "code",
   "execution_count": 288,
   "id": "6e5f61fa",
   "metadata": {},
   "outputs": [
    {
     "name": "stdout",
     "output_type": "stream",
     "text": [
      "Frequency of each trap type:\n",
      "trap_cdc          2.94\n",
      "trap_gravid      95.92\n",
      "trap_ovi          0.01\n",
      "trap_sentinel     1.13\n",
      "dtype: float64\n"
     ]
    }
   ],
   "source": [
    "# Counting the frequency in each column:\n",
    "frequency_of_ones = df[['trap_cdc', 'trap_gravid', 'trap_ovi', 'trap_sentinel']].sum()\n",
    "\n",
    "# Calculating the total number of entries:\n",
    "total_entries = len(df)\n",
    "\n",
    "# Converting frequency counts to percentages and round to 2 decimal places\n",
    "percentage_of_ones = (frequency_of_ones / total_entries) * 100\n",
    "percentage_of_ones_rounded = percentage_of_ones.round(2)\n",
    "\n",
    "# Printing the results:\n",
    "print(\"Frequency of each trap type:\")\n",
    "print(percentage_of_ones_rounded)"
   ]
  },
  {
   "cell_type": "markdown",
   "id": "d00b485f",
   "metadata": {},
   "source": [
    "Next, we will look at the *culex_restuans* and *culex_pipiens* variables. "
   ]
  },
  {
   "cell_type": "code",
   "execution_count": 289,
   "id": "2915c7d5",
   "metadata": {},
   "outputs": [
    {
     "name": "stdout",
     "output_type": "stream",
     "text": [
      "                            OLS Regression Results                            \n",
      "==============================================================================\n",
      "Dep. Variable:        mosquito_number   R-squared:                       0.092\n",
      "Model:                            OLS   Adj. R-squared:                  0.092\n",
      "Method:                 Least Squares   F-statistic:                     188.3\n",
      "Date:                Sun, 03 Mar 2024   Prob (F-statistic):               0.00\n",
      "Time:                        19:45:47   Log-Likelihood:                -73448.\n",
      "No. Observations:               18495   AIC:                         1.469e+05\n",
      "Df Residuals:                   18484   BIC:                         1.470e+05\n",
      "Df Model:                          10                                         \n",
      "Covariance Type:            nonrobust                                         \n",
      "====================================================================================\n",
      "                       coef    std err          t      P>|t|      [0.025      0.975]\n",
      "------------------------------------------------------------------------------------\n",
      "const            -3007.0013    110.717    -27.159      0.000   -3224.017   -2789.985\n",
      "year                 0.5399      0.028     19.075      0.000       0.484       0.595\n",
      "week                -0.1493      0.023     -6.425      0.000      -0.195      -0.104\n",
      "trap_gravid        -10.9461      0.582    -18.822      0.000     -12.086      -9.806\n",
      "trap_ovi           -20.9281     12.855     -1.628      0.104     -46.125       4.268\n",
      "trap_sentinel        2.0959      1.082      1.936      0.053      -0.026       4.218\n",
      "culex_pipiens        1.2554      0.240      5.237      0.000       0.786       1.725\n",
      "culex_salinarius    -8.4916      0.867     -9.790      0.000     -10.192      -6.791\n",
      "culex_territans     -8.0364      0.444    -18.086      0.000      -8.907      -7.165\n",
      "lat                 -4.8611      1.239     -3.924      0.000      -7.289      -2.433\n",
      "lon                -24.5096      1.503    -16.309      0.000     -27.455     -21.564\n",
      "==============================================================================\n",
      "Omnibus:                     4535.839   Durbin-Watson:                   1.551\n",
      "Prob(Omnibus):                  0.000   Jarque-Bera (JB):             8989.340\n",
      "Skew:                           1.504   Prob(JB):                         0.00\n",
      "Kurtosis:                       4.618   Cond. No.                     2.36e+06\n",
      "==============================================================================\n",
      "\n",
      "Notes:\n",
      "[1] Standard Errors assume that the covariance matrix of the errors is correctly specified.\n",
      "[2] The condition number is large, 2.36e+06. This might indicate that there are\n",
      "strong multicollinearity or other numerical problems.\n"
     ]
    }
   ],
   "source": [
    "# Defining X without 'culex_restuans':\n",
    "X_5 = df_copy[['year', 'week', 'trap_gravid','trap_ovi', 'trap_sentinel', 'culex_pipiens','culex_salinarius', 'culex_territans',  'lat', 'lon']]\n",
    "y = df_copy['mosquito_number']\n",
    "\n",
    "# Adding a constant term to the independent variable:\n",
    "X_5_withones= sm.add_constant(X_5)\n",
    "\n",
    "# Fitting the OLS model:\n",
    "mos_num_results_5 = sm.OLS(y, X_5_withones).fit()\n",
    "\n",
    "# Printing the summary:\n",
    "print(mos_num_results_5.summary())"
   ]
  },
  {
   "cell_type": "code",
   "execution_count": 290,
   "id": "6bae9c21",
   "metadata": {},
   "outputs": [
    {
     "name": "stdout",
     "output_type": "stream",
     "text": [
      "R-squared: 0.092\n"
     ]
    }
   ],
   "source": [
    "# Getting the R-squared value:\n",
    "r_squared = mos_num_results_5.rsquared\n",
    "\n",
    "# Printing the R-squared value:\n",
    "print(\"R-squared:\", round(r_squared, 3))"
   ]
  },
  {
   "cell_type": "code",
   "execution_count": 291,
   "id": "d146525e",
   "metadata": {},
   "outputs": [
    {
     "name": "stdout",
     "output_type": "stream",
     "text": [
      "                            OLS Regression Results                            \n",
      "==============================================================================\n",
      "Dep. Variable:        mosquito_number   R-squared:                       0.092\n",
      "Model:                            OLS   Adj. R-squared:                  0.092\n",
      "Method:                 Least Squares   F-statistic:                     188.3\n",
      "Date:                Sun, 03 Mar 2024   Prob (F-statistic):               0.00\n",
      "Time:                        19:45:48   Log-Likelihood:                -73448.\n",
      "No. Observations:               18495   AIC:                         1.469e+05\n",
      "Df Residuals:                   18484   BIC:                         1.470e+05\n",
      "Df Model:                          10                                         \n",
      "Covariance Type:            nonrobust                                         \n",
      "====================================================================================\n",
      "                       coef    std err          t      P>|t|      [0.025      0.975]\n",
      "------------------------------------------------------------------------------------\n",
      "const            -3005.7460    110.681    -27.157      0.000   -3222.691   -2788.801\n",
      "year                 0.5399      0.028     19.075      0.000       0.484       0.595\n",
      "week                -0.1493      0.023     -6.425      0.000      -0.195      -0.104\n",
      "trap_gravid        -10.9461      0.582    -18.822      0.000     -12.086      -9.806\n",
      "trap_ovi           -20.9281     12.855     -1.628      0.104     -46.125       4.268\n",
      "trap_sentinel        2.0959      1.082      1.936      0.053      -0.026       4.218\n",
      "culex_restuans      -1.2554      0.240     -5.237      0.000      -1.725      -0.786\n",
      "culex_salinarius    -9.7469      0.874    -11.156      0.000     -11.459      -8.034\n",
      "culex_territans     -9.2917      0.465    -19.976      0.000     -10.203      -8.380\n",
      "lat                 -4.8611      1.239     -3.924      0.000      -7.289      -2.433\n",
      "lon                -24.5096      1.503    -16.309      0.000     -27.455     -21.564\n",
      "==============================================================================\n",
      "Omnibus:                     4535.839   Durbin-Watson:                   1.551\n",
      "Prob(Omnibus):                  0.000   Jarque-Bera (JB):             8989.340\n",
      "Skew:                           1.504   Prob(JB):                         0.00\n",
      "Kurtosis:                       4.618   Cond. No.                     2.36e+06\n",
      "==============================================================================\n",
      "\n",
      "Notes:\n",
      "[1] Standard Errors assume that the covariance matrix of the errors is correctly specified.\n",
      "[2] The condition number is large, 2.36e+06. This might indicate that there are\n",
      "strong multicollinearity or other numerical problems.\n"
     ]
    }
   ],
   "source": [
    "# Defining X without 'culex_pipiens':\n",
    "X_6 = df_copy[['year', 'week', 'trap_gravid', 'trap_ovi', 'trap_sentinel', 'culex_restuans','culex_salinarius', 'culex_territans','lat', 'lon']]\n",
    "y = df_copy['mosquito_number']\n",
    "\n",
    "# Adding a constant term to the independent variable:\n",
    "X_6_withones= sm.add_constant(X_6)\n",
    "\n",
    "# Fitting the OLS model:\n",
    "mos_num_results_6 = sm.OLS(y, X_6_withones).fit()\n",
    "\n",
    "# Printing the summary:\n",
    "print(mos_num_results_6.summary())"
   ]
  },
  {
   "cell_type": "code",
   "execution_count": 292,
   "id": "b5bcfb8c",
   "metadata": {},
   "outputs": [
    {
     "name": "stdout",
     "output_type": "stream",
     "text": [
      "R-squared: 0.092\n"
     ]
    }
   ],
   "source": [
    "# Getting the R-squared value:\n",
    "r_squared = mos_num_results_6.rsquared\n",
    "\n",
    "# Printing the R-squared value:\n",
    "print(\"R-squared:\", round(r_squared, 3))"
   ]
  },
  {
   "cell_type": "markdown",
   "id": "146bd62c",
   "metadata": {},
   "source": [
    "***Observations***:\n",
    "\n",
    "As before, the $R^{2}$ value remains the same at 9.2%, irrespective if we keep both *culex_restuans* and *culex_pipiens* or drop one. Since this question asks us to explore the number of mosquitoes caught, rather than the occurrence of WNV, we should pick the species variable that has more data points associated with it. Since *culex_restuans* accounts for 65% of all recorded species type, we keep the *culex_restuans* variable and drop the *culex_pipiens* variable from our model. \n",
    "\n",
    "The code below verifies our claim that *culex_restuans* makes up 65% of all species trapped."
   ]
  },
  {
   "cell_type": "code",
   "execution_count": 293,
   "id": "6c0f3957",
   "metadata": {},
   "outputs": [
    {
     "name": "stdout",
     "output_type": "stream",
     "text": [
      "Frequency of each species type:\n",
      "culex_pipiens       29.66\n",
      "culex_restuans      64.16\n",
      "culex_salinarius     1.22\n",
      "culex_territans      4.96\n",
      "dtype: float64\n"
     ]
    }
   ],
   "source": [
    "# Counting the frequency in each column:\n",
    "freq_of_ones = df[['culex_pipiens','culex_restuans', 'culex_salinarius', 'culex_territans']].sum()\n",
    "\n",
    "# Calculating the total number of entries:\n",
    "tot_entries = len(df)\n",
    "\n",
    "# Converting frequency counts to percentages and round to 2 decimal places\n",
    "perc_of_ones = (freq_of_ones / tot_entries) * 100\n",
    "perc_of_ones_rounded = perc_of_ones.round(2)\n",
    "\n",
    "# Printing the results:\n",
    "print(\"Frequency of each species type:\")\n",
    "print(perc_of_ones_rounded)"
   ]
  },
  {
   "cell_type": "markdown",
   "id": "5779062f",
   "metadata": {},
   "source": [
    "Next, we will look at the *lon* and *lat* variables. "
   ]
  },
  {
   "cell_type": "code",
   "execution_count": 294,
   "id": "6e371f6c",
   "metadata": {},
   "outputs": [
    {
     "name": "stdout",
     "output_type": "stream",
     "text": [
      "                            OLS Regression Results                            \n",
      "==============================================================================\n",
      "Dep. Variable:        mosquito_number   R-squared:                       0.079\n",
      "Model:                            OLS   Adj. R-squared:                  0.079\n",
      "Method:                 Least Squares   F-statistic:                     177.1\n",
      "Date:                Sun, 03 Mar 2024   Prob (F-statistic):          9.88e-324\n",
      "Time:                        19:45:49   Log-Likelihood:                -73580.\n",
      "No. Observations:               18495   AIC:                         1.472e+05\n",
      "Df Residuals:                   18485   BIC:                         1.473e+05\n",
      "Df Model:                           9                                         \n",
      "Covariance Type:            nonrobust                                         \n",
      "====================================================================================\n",
      "                       coef    std err          t      P>|t|      [0.025      0.975]\n",
      "------------------------------------------------------------------------------------\n",
      "const            -1536.5540     64.764    -23.725      0.000   -1663.497   -1409.611\n",
      "year                 0.5646      0.028     19.836      0.000       0.509       0.620\n",
      "week                -0.1520      0.023     -6.492      0.000      -0.198      -0.106\n",
      "trap_gravid        -10.8686      0.586    -18.557      0.000     -12.017      -9.721\n",
      "trap_ovi           -19.8786     12.946     -1.535      0.125     -45.255       5.497\n",
      "trap_sentinel        1.1364      1.089      1.044      0.297      -0.997       3.270\n",
      "culex_restuans      -1.3926      0.241     -5.773      0.000      -1.866      -0.920\n",
      "culex_salinarius    -9.6487      0.880    -10.966      0.000     -11.373      -7.924\n",
      "culex_territans     -9.7790      0.468    -20.917      0.000     -10.695      -8.863\n",
      "lat                 10.2147      0.831     12.297      0.000       8.587      11.843\n",
      "==============================================================================\n",
      "Omnibus:                     4547.285   Durbin-Watson:                   1.546\n",
      "Prob(Omnibus):                  0.000   Jarque-Bera (JB):             8986.291\n",
      "Skew:                           1.513   Prob(JB):                         0.00\n",
      "Kurtosis:                       4.584   Cond. No.                     1.37e+06\n",
      "==============================================================================\n",
      "\n",
      "Notes:\n",
      "[1] Standard Errors assume that the covariance matrix of the errors is correctly specified.\n",
      "[2] The condition number is large, 1.37e+06. This might indicate that there are\n",
      "strong multicollinearity or other numerical problems.\n"
     ]
    }
   ],
   "source": [
    "# Defining X without 'lon':\n",
    "X_7 = df_copy[['year', 'week', 'trap_gravid', 'trap_ovi', 'trap_sentinel', 'culex_restuans','culex_salinarius', 'culex_territans','lat']]\n",
    "y = df_copy['mosquito_number']\n",
    "\n",
    "# Adding a constant term to the independent variable:\n",
    "X_7_withones= sm.add_constant(X_7)\n",
    "\n",
    "# Fitting the OLS model:\n",
    "mos_num_results_7 = sm.OLS(y, X_7_withones).fit()\n",
    "\n",
    "# Printing the summary:\n",
    "print(mos_num_results_7.summary())"
   ]
  },
  {
   "cell_type": "code",
   "execution_count": 295,
   "id": "ebffcc65",
   "metadata": {},
   "outputs": [
    {
     "name": "stdout",
     "output_type": "stream",
     "text": [
      "R-squared: 0.079\n"
     ]
    }
   ],
   "source": [
    "# Getting the R-squared value:\n",
    "r_squared = mos_num_results_7.rsquared\n",
    "\n",
    "# Printing the R-squared value:\n",
    "print(\"R-squared:\", round(r_squared, 3))"
   ]
  },
  {
   "cell_type": "code",
   "execution_count": 296,
   "id": "9aebd251",
   "metadata": {},
   "outputs": [
    {
     "name": "stdout",
     "output_type": "stream",
     "text": [
      "                            OLS Regression Results                            \n",
      "==============================================================================\n",
      "Dep. Variable:        mosquito_number   R-squared:                       0.092\n",
      "Model:                            OLS   Adj. R-squared:                  0.091\n",
      "Method:                 Least Squares   F-statistic:                     207.4\n",
      "Date:                Sun, 03 Mar 2024   Prob (F-statistic):               0.00\n",
      "Time:                        19:45:49   Log-Likelihood:                -73456.\n",
      "No. Observations:               18495   AIC:                         1.469e+05\n",
      "Df Residuals:                   18485   BIC:                         1.470e+05\n",
      "Df Model:                           9                                         \n",
      "Covariance Type:            nonrobust                                         \n",
      "====================================================================================\n",
      "                       coef    std err          t      P>|t|      [0.025      0.975]\n",
      "------------------------------------------------------------------------------------\n",
      "const            -2822.0890    100.337    -28.126      0.000   -3018.758   -2625.420\n",
      "year                 0.5394      0.028     19.050      0.000       0.484       0.595\n",
      "week                -0.1507      0.023     -6.481      0.000      -0.196      -0.105\n",
      "trap_gravid        -11.0001      0.582    -18.913      0.000     -12.140      -9.860\n",
      "trap_ovi           -20.8945     12.860     -1.625      0.104     -46.101       4.312\n",
      "trap_sentinel        1.9289      1.082      1.783      0.075      -0.192       4.050\n",
      "culex_restuans      -1.2992      0.240     -5.424      0.000      -1.769      -0.830\n",
      "culex_salinarius    -9.7442      0.874    -11.149      0.000     -11.457      -8.031\n",
      "culex_territans     -9.3243      0.465    -20.041      0.000     -10.236      -8.412\n",
      "lon                -20.1095      1.001    -20.091      0.000     -22.071     -18.148\n",
      "==============================================================================\n",
      "Omnibus:                     4526.658   Durbin-Watson:                   1.550\n",
      "Prob(Omnibus):                  0.000   Jarque-Bera (JB):             8954.943\n",
      "Skew:                           1.502   Prob(JB):                         0.00\n",
      "Kurtosis:                       4.610   Cond. No.                     2.14e+06\n",
      "==============================================================================\n",
      "\n",
      "Notes:\n",
      "[1] Standard Errors assume that the covariance matrix of the errors is correctly specified.\n",
      "[2] The condition number is large, 2.14e+06. This might indicate that there are\n",
      "strong multicollinearity or other numerical problems.\n"
     ]
    }
   ],
   "source": [
    "# Defining X without 'lat':\n",
    "X_8 = df_copy[['year', 'week', 'trap_gravid', 'trap_ovi', 'trap_sentinel', 'culex_restuans','culex_salinarius', 'culex_territans','lon']]\n",
    "y = df_copy['mosquito_number']\n",
    "\n",
    "# Adding a constant term to the independent variable:\n",
    "X_8_withones= sm.add_constant(X_8)\n",
    "\n",
    "# Fitting the OLS model:\n",
    "mos_num_results_8 = sm.OLS(y, X_8_withones).fit()\n",
    "\n",
    "# Printing the summary:\n",
    "print(mos_num_results_8.summary())"
   ]
  },
  {
   "cell_type": "code",
   "execution_count": 297,
   "id": "fb00b5e7",
   "metadata": {},
   "outputs": [
    {
     "name": "stdout",
     "output_type": "stream",
     "text": [
      "R-squared: 0.092\n"
     ]
    }
   ],
   "source": [
    "# Getting the R-squared value:\n",
    "r_squared = mos_num_results_8.rsquared\n",
    "\n",
    "# Printing the R-squared value:\n",
    "print(\"R-squared:\", round(r_squared, 3))"
   ]
  },
  {
   "cell_type": "markdown",
   "id": "a2b61cba",
   "metadata": {},
   "source": [
    "The $R^{2}$ value dropped to 7.9% when we removed *lon* from our model, but $R^{2}$ remained the same at 9.2% when we removed *lat* (but kept the *lon* variable). This clearly suggests that we keep the *lon* variable and drop the *lat* variable in our model.\n",
    "\n",
    "Now we look at the *trap_gravid* and *trap_sentinel* variables. However, we only need to remove *trap_sentinel* from the analysis. "
   ]
  },
  {
   "cell_type": "code",
   "execution_count": 298,
   "id": "0aedc88f",
   "metadata": {},
   "outputs": [
    {
     "name": "stdout",
     "output_type": "stream",
     "text": [
      "                            OLS Regression Results                            \n",
      "==============================================================================\n",
      "Dep. Variable:        mosquito_number   R-squared:                       0.092\n",
      "Model:                            OLS   Adj. R-squared:                  0.091\n",
      "Method:                 Least Squares   F-statistic:                     232.8\n",
      "Date:                Sun, 03 Mar 2024   Prob (F-statistic):               0.00\n",
      "Time:                        19:45:50   Log-Likelihood:                -73457.\n",
      "No. Observations:               18495   AIC:                         1.469e+05\n",
      "Df Residuals:                   18486   BIC:                         1.470e+05\n",
      "Df Model:                           8                                         \n",
      "Covariance Type:            nonrobust                                         \n",
      "====================================================================================\n",
      "                       coef    std err          t      P>|t|      [0.025      0.975]\n",
      "------------------------------------------------------------------------------------\n",
      "const            -2837.3755     99.975    -28.381      0.000   -3033.336   -2641.414\n",
      "year                 0.5501      0.028     19.886      0.000       0.496       0.604\n",
      "week                -0.1488      0.023     -6.406      0.000      -0.194      -0.103\n",
      "trap_gravid        -11.5688      0.486    -23.787      0.000     -12.522     -10.616\n",
      "trap_ovi           -21.3625     12.858     -1.661      0.097     -46.565       3.840\n",
      "culex_restuans      -1.2733      0.239     -5.326      0.000      -1.742      -0.805\n",
      "culex_salinarius    -9.7449      0.874    -11.149      0.000     -11.458      -8.032\n",
      "culex_territans     -9.3132      0.465    -20.018      0.000     -10.225      -8.401\n",
      "lon                -20.0424      1.000    -20.037      0.000     -22.003     -18.082\n",
      "==============================================================================\n",
      "Omnibus:                     4514.200   Durbin-Watson:                   1.551\n",
      "Prob(Omnibus):                  0.000   Jarque-Bera (JB):             8910.669\n",
      "Skew:                           1.500   Prob(JB):                         0.00\n",
      "Kurtosis:                       4.601   Cond. No.                     2.13e+06\n",
      "==============================================================================\n",
      "\n",
      "Notes:\n",
      "[1] Standard Errors assume that the covariance matrix of the errors is correctly specified.\n",
      "[2] The condition number is large, 2.13e+06. This might indicate that there are\n",
      "strong multicollinearity or other numerical problems.\n"
     ]
    }
   ],
   "source": [
    "# Defining X without 'trap_sentinel':\n",
    "X_9 = df_copy[['year', 'week', 'trap_gravid', 'trap_ovi', 'culex_restuans','culex_salinarius', 'culex_territans','lon']]\n",
    "y = df_copy['mosquito_number']\n",
    "\n",
    "# Adding a constant term to the independent variable:\n",
    "X_9_withones= sm.add_constant(X_9)\n",
    "\n",
    "# Fitting the OLS model:\n",
    "mos_num_results_9 = sm.OLS(y, X_9_withones).fit()\n",
    "\n",
    "# Printing the summary:\n",
    "print(mos_num_results_9.summary())"
   ]
  },
  {
   "cell_type": "code",
   "execution_count": 299,
   "id": "727144e7",
   "metadata": {},
   "outputs": [
    {
     "name": "stdout",
     "output_type": "stream",
     "text": [
      "R-squared: 0.092\n"
     ]
    }
   ],
   "source": [
    "# Getting the R-squared value:\n",
    "r_squared = mos_num_results_9.rsquared\n",
    "\n",
    "# Printing the R-squared value:\n",
    "print(\"R-squared:\", round(r_squared, 3))"
   ]
  },
  {
   "cell_type": "markdown",
   "id": "4c7b1b56",
   "metadata": {},
   "source": [
    "***Obersavtions***:\n",
    "\n",
    "The $R^{2}$ value stayed the same without the *trap_sentinel* variable. Since *trap_sentinel* and *trap_gravid* are still correlated ($r$=-0.52), *trap_sentinel* only makes up 1% of all traps used and, all things being equal, a model with less variables is more desirable, we will drop the *trap_sentinel* variable from our model.  \n",
    "\n",
    "At this point, we have covered all the variables that have pairwise sample correlation coefficients whose absolute values are greater than 0.5 (0.5<$|r|$). But can we do even better with our model? Do we need *trap_ovi* in our model seeing as *trap_ovi* only contributes to 0.01% of all traps used? \n",
    "\n",
    "Moreoever, *culex_restuans* and *culex_territans* have a sample correlation coefficient of $r$=-0.31. Similarily, *culex_restuans* and *culex_salinarius* have a sample correlation coefficient of $r$=-0.15. \n",
    "\n",
    "Let us check out what would happen if we remove *trap_ovi*, and *culex_territans*, *culex_salinarius*. "
   ]
  },
  {
   "cell_type": "code",
   "execution_count": 300,
   "id": "64209397",
   "metadata": {},
   "outputs": [
    {
     "name": "stdout",
     "output_type": "stream",
     "text": [
      "                            OLS Regression Results                            \n",
      "==============================================================================\n",
      "Dep. Variable:        mosquito_number   R-squared:                       0.091\n",
      "Model:                            OLS   Adj. R-squared:                  0.091\n",
      "Method:                 Least Squares   F-statistic:                     265.7\n",
      "Date:                Sun, 03 Mar 2024   Prob (F-statistic):               0.00\n",
      "Time:                        19:45:51   Log-Likelihood:                -73459.\n",
      "No. Observations:               18495   AIC:                         1.469e+05\n",
      "Df Residuals:                   18487   BIC:                         1.470e+05\n",
      "Df Model:                           7                                         \n",
      "Covariance Type:            nonrobust                                         \n",
      "====================================================================================\n",
      "                       coef    std err          t      P>|t|      [0.025      0.975]\n",
      "------------------------------------------------------------------------------------\n",
      "const            -2836.5736     99.979    -28.372      0.000   -3032.542   -2640.606\n",
      "year                 0.5503      0.028     19.889      0.000       0.496       0.604\n",
      "week                -0.1481      0.023     -6.376      0.000      -0.194      -0.103\n",
      "trap_gravid        -11.5407      0.486    -23.743      0.000     -12.493     -10.588\n",
      "culex_restuans      -1.2688      0.239     -5.307      0.000      -1.737      -0.800\n",
      "culex_salinarius    -9.7386      0.874    -11.141      0.000     -11.452      -8.025\n",
      "culex_territans     -9.3106      0.465    -20.011      0.000     -10.223      -8.399\n",
      "lon                -20.0299      1.000    -20.024      0.000     -21.990     -18.069\n",
      "==============================================================================\n",
      "Omnibus:                     4514.692   Durbin-Watson:                   1.551\n",
      "Prob(Omnibus):                  0.000   Jarque-Bera (JB):             8911.997\n",
      "Skew:                           1.500   Prob(JB):                         0.00\n",
      "Kurtosis:                       4.601   Cond. No.                     2.13e+06\n",
      "==============================================================================\n",
      "\n",
      "Notes:\n",
      "[1] Standard Errors assume that the covariance matrix of the errors is correctly specified.\n",
      "[2] The condition number is large, 2.13e+06. This might indicate that there are\n",
      "strong multicollinearity or other numerical problems.\n"
     ]
    }
   ],
   "source": [
    "# Defining X without 'trap_ovi':\n",
    "X_10 = df_copy[['year', 'week', 'trap_gravid', 'culex_restuans','culex_salinarius', 'culex_territans','lon']]\n",
    "y = df_copy['mosquito_number']\n",
    "\n",
    "# Adding a constant term to the independent variable:\n",
    "X_10_withones= sm.add_constant(X_10)\n",
    "\n",
    "# Fitting the OLS model:\n",
    "mos_num_results_10 = sm.OLS(y, X_10_withones).fit()\n",
    "\n",
    "# Printing the summary:\n",
    "print(mos_num_results_10.summary())"
   ]
  },
  {
   "cell_type": "code",
   "execution_count": 301,
   "id": "3b28b51a",
   "metadata": {},
   "outputs": [
    {
     "name": "stdout",
     "output_type": "stream",
     "text": [
      "R-squared: 0.091\n"
     ]
    }
   ],
   "source": [
    "# Getting the R-squared value:\n",
    "r_squared = mos_num_results_10.rsquared\n",
    "\n",
    "# Printing the R-squared value:\n",
    "print(\"R-squared:\", round(r_squared, 3))"
   ]
  },
  {
   "cell_type": "markdown",
   "id": "daa627e3",
   "metadata": {},
   "source": [
    "***Obersavtions***:\n",
    "\n",
    "The $R^{2}$ value actually went down by 0.1%, which is rather negligible. Moreover, we do not know the actual cost of keeping the *trap_ovi* variable. For example, perhaps the OVI traps are expensive to implement and maintain. In this case, the decrease in $R^{2}$ is worth keeping in order to drop the *trap_ovi* variable and avoid the costs associated with keeping the variable.\n",
    "\n",
    "Since we do not have any additional information on *trap_ovi*, our justification for dropping, or keeping, *trap_ovi* is not concrete. It is our opinion that the price of the 0.1% decrease in $R^{2}$ is worth dropping *trap_ovi* because we are of the belief that, all things being equal, a linear model with minimal independent variables is better. Also, *trap_ovi* only accounts for 0.01% of all traps.     \n",
    "\n",
    "Now let us look at the *culex_restuans* and *culex_salinarius* variables. \n"
   ]
  },
  {
   "cell_type": "code",
   "execution_count": 302,
   "id": "ada095e6",
   "metadata": {},
   "outputs": [
    {
     "name": "stdout",
     "output_type": "stream",
     "text": [
      "                            OLS Regression Results                            \n",
      "==============================================================================\n",
      "Dep. Variable:        mosquito_number   R-squared:                       0.085\n",
      "Model:                            OLS   Adj. R-squared:                  0.085\n",
      "Method:                 Least Squares   F-statistic:                     287.4\n",
      "Date:                Sun, 03 Mar 2024   Prob (F-statistic):               0.00\n",
      "Time:                        19:45:52   Log-Likelihood:                -73521.\n",
      "No. Observations:               18495   AIC:                         1.471e+05\n",
      "Df Residuals:                   18488   BIC:                         1.471e+05\n",
      "Df Model:                           6                                         \n",
      "Covariance Type:            nonrobust                                         \n",
      "===================================================================================\n",
      "                      coef    std err          t      P>|t|      [0.025      0.975]\n",
      "-----------------------------------------------------------------------------------\n",
      "const           -2828.0486    100.308    -28.194      0.000   -3024.662   -2631.435\n",
      "year                0.5501      0.028     19.818      0.000       0.496       0.605\n",
      "week               -0.1305      0.023     -5.613      0.000      -0.176      -0.085\n",
      "trap_gravid       -11.4760      0.488    -23.533      0.000     -12.432     -10.520\n",
      "culex_restuans     -0.8322      0.237     -3.517      0.000      -1.296      -0.368\n",
      "culex_territans    -8.9087      0.465    -19.142      0.000      -9.821      -7.996\n",
      "lon               -19.9244      1.004    -19.854      0.000     -21.891     -17.957\n",
      "==============================================================================\n",
      "Omnibus:                     4545.804   Durbin-Watson:                   1.546\n",
      "Prob(Omnibus):                  0.000   Jarque-Bera (JB):             9009.204\n",
      "Skew:                           1.508   Prob(JB):                         0.00\n",
      "Kurtosis:                       4.610   Cond. No.                     2.13e+06\n",
      "==============================================================================\n",
      "\n",
      "Notes:\n",
      "[1] Standard Errors assume that the covariance matrix of the errors is correctly specified.\n",
      "[2] The condition number is large, 2.13e+06. This might indicate that there are\n",
      "strong multicollinearity or other numerical problems.\n"
     ]
    }
   ],
   "source": [
    "# Defining X without 'culex_salinarius':\n",
    "X_11 = df_copy[['year', 'week', 'trap_gravid', 'culex_restuans','culex_territans','lon']]\n",
    "y = df_copy['mosquito_number']\n",
    "\n",
    "# Adding a constant term to the independent variable:\n",
    "X_11_withones= sm.add_constant(X_11)\n",
    "\n",
    "# Fitting the OLS model:\n",
    "mos_num_results_11 = sm.OLS(y, X_11_withones).fit()\n",
    "\n",
    "# Printing the summary:\n",
    "print(mos_num_results_11.summary())"
   ]
  },
  {
   "cell_type": "code",
   "execution_count": 303,
   "id": "f822ae77",
   "metadata": {},
   "outputs": [
    {
     "name": "stdout",
     "output_type": "stream",
     "text": [
      "R-squared: 0.085\n"
     ]
    }
   ],
   "source": [
    "# Getting the R-squared value:\n",
    "r_squared = mos_num_results_11.rsquared\n",
    "\n",
    "# Printing the R-squared value:\n",
    "print(\"R-squared:\", round(r_squared, 3))"
   ]
  },
  {
   "cell_type": "markdown",
   "id": "98e20a21",
   "metadata": {},
   "source": [
    "***Observations***:\n",
    "    \n",
    "In this case, our $R^{2}$ decreased to 8.5%. This decrease is not worth discarding the *culex_salinarius* variable, so we will keep it our model.\n",
    "\n",
    "Now let us see what happens when we drop *culex_territans* from our model. "
   ]
  },
  {
   "cell_type": "code",
   "execution_count": 304,
   "id": "a3f05dc7",
   "metadata": {},
   "outputs": [
    {
     "name": "stdout",
     "output_type": "stream",
     "text": [
      "                            OLS Regression Results                            \n",
      "==============================================================================\n",
      "Dep. Variable:        mosquito_number   R-squared:                       0.072\n",
      "Model:                            OLS   Adj. R-squared:                  0.071\n",
      "Method:                 Least Squares   F-statistic:                     238.1\n",
      "Date:                Sun, 03 Mar 2024   Prob (F-statistic):          3.51e-294\n",
      "Time:                        19:45:52   Log-Likelihood:                -73657.\n",
      "No. Observations:               18495   AIC:                         1.473e+05\n",
      "Df Residuals:                   18488   BIC:                         1.474e+05\n",
      "Df Model:                           6                                         \n",
      "Covariance Type:            nonrobust                                         \n",
      "====================================================================================\n",
      "                       coef    std err          t      P>|t|      [0.025      0.975]\n",
      "------------------------------------------------------------------------------------\n",
      "const            -2830.2341    101.053    -28.007      0.000   -3028.307   -2632.161\n",
      "year                 0.4788      0.028     17.265      0.000       0.424       0.533\n",
      "week                -0.1099      0.023     -4.700      0.000      -0.156      -0.064\n",
      "trap_gravid        -12.0098      0.491    -24.474      0.000     -12.972     -11.048\n",
      "culex_restuans       0.3672      0.227      1.617      0.106      -0.078       0.812\n",
      "culex_salinarius    -8.3825      0.881     -9.516      0.000     -10.109      -6.656\n",
      "lon                -21.5729      1.008    -21.401      0.000     -23.549     -19.597\n",
      "==============================================================================\n",
      "Omnibus:                     4597.275   Durbin-Watson:                   1.534\n",
      "Prob(Omnibus):                  0.000   Jarque-Bera (JB):             9169.434\n",
      "Skew:                           1.522   Prob(JB):                         0.00\n",
      "Kurtosis:                       4.623   Cond. No.                     2.13e+06\n",
      "==============================================================================\n",
      "\n",
      "Notes:\n",
      "[1] Standard Errors assume that the covariance matrix of the errors is correctly specified.\n",
      "[2] The condition number is large, 2.13e+06. This might indicate that there are\n",
      "strong multicollinearity or other numerical problems.\n"
     ]
    }
   ],
   "source": [
    "# Defining X without 'culex_territans':\n",
    "X_12 = df_copy[['year', 'week', 'trap_gravid', 'culex_restuans','culex_salinarius','lon']]\n",
    "y = df_copy['mosquito_number']\n",
    "\n",
    "# Adding a constant term to the independent variable:\n",
    "X_12_withones= sm.add_constant(X_12)\n",
    "\n",
    "# Fitting the OLS model:\n",
    "mos_num_results_12 = sm.OLS(y, X_12_withones).fit()\n",
    "\n",
    "# Printing the summary:\n",
    "print(mos_num_results_12.summary())"
   ]
  },
  {
   "cell_type": "code",
   "execution_count": 305,
   "id": "cbbabd52",
   "metadata": {},
   "outputs": [
    {
     "name": "stdout",
     "output_type": "stream",
     "text": [
      "R-squared: 0.072\n"
     ]
    }
   ],
   "source": [
    "# Getting the R-squared value:\n",
    "r_squared = mos_num_results_12.rsquared\n",
    "\n",
    "# Printing the R-squared value:\n",
    "print(\"R-squared:\", round(r_squared, 3))"
   ]
  },
  {
   "cell_type": "markdown",
   "id": "47183e46",
   "metadata": {},
   "source": [
    "***Observations***:\n",
    "    \n",
    "Again, our $R^{2}$ decreased to 7.2%, which is rather significant considering our model is already weak. This last analysis indicates that we should keep the *culex_territans* variable. \n",
    "\n",
    "At this point, it appears that the best iteration of our model occurs at the 10th iteration. Note that the model has dropped at least one dummy variable from each instance of us creating dummy variables from specific columns. That is, there are no dependent variables within each batch of dummy variables. \n",
    "\n",
    "Let us run the 10th iteration one more time and rename it to *final*:"
   ]
  },
  {
   "cell_type": "code",
   "execution_count": 306,
   "id": "2c07a093",
   "metadata": {},
   "outputs": [
    {
     "name": "stdout",
     "output_type": "stream",
     "text": [
      "                            OLS Regression Results                            \n",
      "==============================================================================\n",
      "Dep. Variable:        mosquito_number   R-squared:                       0.091\n",
      "Model:                            OLS   Adj. R-squared:                  0.091\n",
      "Method:                 Least Squares   F-statistic:                     265.7\n",
      "Date:                Sun, 03 Mar 2024   Prob (F-statistic):               0.00\n",
      "Time:                        19:45:53   Log-Likelihood:                -73459.\n",
      "No. Observations:               18495   AIC:                         1.469e+05\n",
      "Df Residuals:                   18487   BIC:                         1.470e+05\n",
      "Df Model:                           7                                         \n",
      "Covariance Type:            nonrobust                                         \n",
      "====================================================================================\n",
      "                       coef    std err          t      P>|t|      [0.025      0.975]\n",
      "------------------------------------------------------------------------------------\n",
      "const            -2836.5736     99.979    -28.372      0.000   -3032.542   -2640.606\n",
      "year                 0.5503      0.028     19.889      0.000       0.496       0.604\n",
      "week                -0.1481      0.023     -6.376      0.000      -0.194      -0.103\n",
      "trap_gravid        -11.5407      0.486    -23.743      0.000     -12.493     -10.588\n",
      "culex_restuans      -1.2688      0.239     -5.307      0.000      -1.737      -0.800\n",
      "culex_salinarius    -9.7386      0.874    -11.141      0.000     -11.452      -8.025\n",
      "culex_territans     -9.3106      0.465    -20.011      0.000     -10.223      -8.399\n",
      "lon                -20.0299      1.000    -20.024      0.000     -21.990     -18.069\n",
      "==============================================================================\n",
      "Omnibus:                     4514.692   Durbin-Watson:                   1.551\n",
      "Prob(Omnibus):                  0.000   Jarque-Bera (JB):             8911.997\n",
      "Skew:                           1.500   Prob(JB):                         0.00\n",
      "Kurtosis:                       4.601   Cond. No.                     2.13e+06\n",
      "==============================================================================\n",
      "\n",
      "Notes:\n",
      "[1] Standard Errors assume that the covariance matrix of the errors is correctly specified.\n",
      "[2] The condition number is large, 2.13e+06. This might indicate that there are\n",
      "strong multicollinearity or other numerical problems.\n"
     ]
    }
   ],
   "source": [
    "X_final = df_copy[['year', 'week', 'trap_gravid', 'culex_restuans','culex_salinarius', 'culex_territans','lon']]\n",
    "y = df_copy['mosquito_number']\n",
    "\n",
    "# Adding a constant term to the independent variable:\n",
    "X_final_withones= sm.add_constant(X_final)\n",
    "\n",
    "# Fitting the OLS model:\n",
    "mos_num_results_final = sm.OLS(y, X_final_withones).fit()\n",
    "\n",
    "# Printing the summary:\n",
    "print(mos_num_results_final.summary())"
   ]
  },
  {
   "cell_type": "markdown",
   "id": "b7c4a09c",
   "metadata": {},
   "source": [
    "***Observations***:\n",
    "\n",
    "Great! Our final model is at $R^{2}$ = 0.91 (only a 0.02 decrease from our first model run which kept all the intital varaibles), all the multicollinearity ($|r|$ > 0.5) between the predictor variables has been removed and all the remaining coefficients are significant ($p$-value = 0). \n",
    "\n",
    "\n",
    "***Fitting the linear regression model***:\n",
    "\n",
    "To fit our model, let us get the coefficients from the above summary: "
   ]
  },
  {
   "cell_type": "code",
   "execution_count": 307,
   "id": "80819360",
   "metadata": {},
   "outputs": [
    {
     "name": "stdout",
     "output_type": "stream",
     "text": [
      "Coefficients:\n",
      "const              -2836.5736\n",
      "year                   0.5503\n",
      "week                  -0.1481\n",
      "trap_gravid          -11.5407\n",
      "culex_restuans        -1.2688\n",
      "culex_salinarius      -9.7386\n",
      "culex_territans       -9.3106\n",
      "lon                  -20.0299\n",
      "dtype: float64\n"
     ]
    }
   ],
   "source": [
    "# Extracting coefficients:\n",
    "coefficients = mos_num_results_final.params.round(4)\n",
    "\n",
    "# Printing coefficients:\n",
    "print(\"Coefficients:\")\n",
    "print(coefficients)"
   ]
  },
  {
   "cell_type": "markdown",
   "id": "73cbde25",
   "metadata": {},
   "source": [
    "Therefore, our linear regression model is:\n",
    "\n",
    "Therefore, our model is\n",
    "\n",
    "$$ y = -2836.5736 + 0.5503x_{1}-0.1481x_{2}-11.5407x_{3} -1.2688x_{4} -9.7386x_{5}  -9.3106x_{6}  -20.0299x_{7}, $$  \n",
    "\n",
    "where,\n",
    "\n",
    "$ X_{1} \\sim $ *year*\n",
    "\n",
    "$ X_{2} \\sim $ *week*\n",
    "\n",
    "$ X_{3} \\sim $ *trap_gravid*\n",
    "\n",
    "$ X_{4} \\sim $ *culex_restuans*\n",
    "\n",
    "$ X_{5} \\sim $ *culex_salinarius*\n",
    "\n",
    "$ X_{6} \\sim $ *culex_territans*\n",
    "\n",
    "$X_{7} \\sim $ *lon*."
   ]
  },
  {
   "cell_type": "markdown",
   "id": "6c329204",
   "metadata": {},
   "source": [
    "Now that we have fitted our linear regression model, we need to check the remaining linear regression assumptions for our model:\n",
    "\n",
    "3. Residuals are normally distributed\n",
    "\n",
    "4. Homoscedasticity"
   ]
  },
  {
   "cell_type": "markdown",
   "id": "48ba2a60",
   "metadata": {},
   "source": [
    "##### Linear Regression Assumption 3: Residuals are normally distributed"
   ]
  },
  {
   "cell_type": "markdown",
   "id": "2b9dc878",
   "metadata": {},
   "source": [
    "To check if the residuals are normally distributed we will create a histogram of the residuals and check if the histogram resembles a normal distribution. \n",
    "\n",
    "We will also run a Shapiro-Wilk test which will gauge how well the data conforms to a normal distribution.\n",
    "\n",
    "Finally, we will create Q-Q Plot which will compare residual values to those expected from a normal distribution. "
   ]
  },
  {
   "cell_type": "code",
   "execution_count": 308,
   "id": "97c5ebb4",
   "metadata": {},
   "outputs": [
    {
     "data": {
      "image/png": "[encoded data removed]",
      "text/plain": [
       "<Figure size 576x432 with 1 Axes>"
      ]
     },
     "metadata": {
      "needs_background": "light"
     },
     "output_type": "display_data"
    },
    {
     "data": {
      "image/png": "[encoded data removed]",
      "text/plain": [
       "<Figure size 576x432 with 1 Axes>"
      ]
     },
     "metadata": {
      "needs_background": "light"
     },
     "output_type": "display_data"
    }
   ],
   "source": [
    "# Get the residuals from the fitted model\n",
    "residuals = mos_num_results_final.resid\n",
    "\n",
    "# Plot a histogram of the residuals\n",
    "plt.figure(figsize=(8, 6))\n",
    "plt.hist(residuals, bins=30, color='skyblue', edgecolor='black')\n",
    "plt.xlabel('Residuals')\n",
    "plt.ylabel('Frequency')\n",
    "plt.title('Histogram of Residuals')\n",
    "plt.grid(True)\n",
    "plt.show()\n",
    "\n",
    "# Plot a density plot of the residuals\n",
    "plt.figure(figsize=(8, 6))\n",
    "sns.kdeplot(residuals, color='skyblue', fill=True)\n",
    "plt.xlabel('Residuals')\n",
    "plt.ylabel('Density')\n",
    "plt.title('Density Plot of Residuals')\n",
    "plt.grid(True)\n",
    "plt.show()"
   ]
  },
  {
   "cell_type": "markdown",
   "id": "bbc6a10d",
   "metadata": {},
   "source": [
    "***Observations***:\n",
    "\n",
    "The distribution of the residuals looks somewhat like an extremely skewed normal distribution with a heavier right tail.\n",
    "\n",
    "Let us use the Shapiro-Wilk test to confirm if this distribution is indeed normal. Recall that the Shapiro-Wilk test tests the null hypothesis that the data points are coming from a normal distribution. "
   ]
  },
  {
   "cell_type": "code",
   "execution_count": 309,
   "id": "36270ced",
   "metadata": {},
   "outputs": [
    {
     "name": "stdout",
     "output_type": "stream",
     "text": [
      "Shapiro-Wilk Test Statistic: 0.8275230526924133\n",
      "p-value: 0.0\n"
     ]
    },
    {
     "name": "stderr",
     "output_type": "stream",
     "text": [
      "C:\\Users\\simon\\anaconda3\\lib\\site-packages\\scipy\\stats\\morestats.py:1760: UserWarning: p-value may not be accurate for N > 5000.\n",
      "  warnings.warn(\"p-value may not be accurate for N > 5000.\")\n"
     ]
    }
   ],
   "source": [
    "from scipy.stats import shapiro\n",
    "\n",
    "# Getting the residuals from the fitted model:\n",
    "residuals = mos_num_results_final.resid\n",
    "\n",
    "# Running the Shapiro-Wilk test on the residuals:\n",
    "statistic, p_value = shapiro(residuals)\n",
    "\n",
    "# Printing the test statistic and p-value:\n",
    "print(\"Shapiro-Wilk Test Statistic:\", statistic)\n",
    "print(\"p-value:\", p_value)"
   ]
  },
  {
   "cell_type": "markdown",
   "id": "c4570bbf",
   "metadata": {},
   "source": [
    "Since the $p$-value = 0, we can reject the null hypothesis and conclude that residuals do not follow a normal distribution.\n",
    "\n",
    "Let us now create a Q-Q Plot and see if it gives us any new information on the residuals. "
   ]
  },
  {
   "cell_type": "code",
   "execution_count": 310,
   "id": "e3154ba4",
   "metadata": {},
   "outputs": [
    {
     "data": {
      "image/png": "[encoded data removed]",
      "text/plain": [
       "<Figure size 432x288 with 1 Axes>"
      ]
     },
     "metadata": {
      "needs_background": "light"
     },
     "output_type": "display_data"
    }
   ],
   "source": [
    "# Getting the residuals from the fitted model:\n",
    "residuals = mos_num_results_final.resid\n",
    "\n",
    "# Creating a normal Q-Q plot:\n",
    "stats.probplot(residuals, dist=\"norm\", plot=plt)\n",
    "plt.title('Normal Q-Q Plot of Residuals')\n",
    "plt.xlabel('Theoretical Quantiles')\n",
    "plt.ylabel('Sample Quantiles')\n",
    "\n",
    "# Customizing the line colour:\n",
    "plt.gca().get_lines()[0].set_color('skyblue')\n",
    "\n",
    "plt.show()"
   ]
  },
  {
   "cell_type": "markdown",
   "id": "04cededa",
   "metadata": {},
   "source": [
    "***Observations***:\n",
    "\n",
    "As expected, the Q-Q Plot indicates that the residuals are not from a normal distribution since there are too many deviations (and large ones) from the diagonal line, which represents where the residuals should be plotted if they came from a normal distribution. "
   ]
  },
  {
   "cell_type": "markdown",
   "id": "8c164a01",
   "metadata": {},
   "source": [
    "##### Linear Regression Assumption 4: Homoscedasticity"
   ]
  },
  {
   "cell_type": "markdown",
   "id": "ba3fef16",
   "metadata": {},
   "source": [
    "For this assumption, we need to check that our residuals have constant variance across all ranges of predicted values. To do this, we can plot our residuals against the values predicted by our model (fitted values)."
   ]
  },
  {
   "cell_type": "code",
   "execution_count": 311,
   "id": "702fb434",
   "metadata": {},
   "outputs": [
    {
     "data": {
      "image/png": "[encoded data removed]",
      "text/plain": [
       "<Figure size 576x432 with 1 Axes>"
      ]
     },
     "metadata": {
      "needs_background": "light"
     },
     "output_type": "display_data"
    }
   ],
   "source": [
    "# Get the fitted values and residuals from the fitted model\n",
    "model_fittedvals = mos_num_results_final.fittedvalues\n",
    "model_resids = mos_num_results_final.resid\n",
    "\n",
    "# Checking for homoscedasticity\n",
    "plt.figure(figsize=(8, 6))\n",
    "sns.scatterplot(x=model_fittedvals, y=model_resids)\n",
    "plt.axhline(y=0, color='red', linestyle='--', linewidth=1)  # Add horizontal line at y=0\n",
    "plt.xlabel('Fitted Values')\n",
    "plt.ylabel('Residuals')\n",
    "plt.title('Homoscedasticity Check')\n",
    "plt.grid(True)\n",
    "plt.show()"
   ]
  },
  {
   "cell_type": "markdown",
   "id": "7198daf5",
   "metadata": {},
   "source": [
    "***Observations***: \n",
    "    \n",
    "The above graph indicates that the variances of the residuals are not constant through all the ranges of the predicated values. Therefore, our model is not homoscedastic.   "
   ]
  },
  {
   "cell_type": "markdown",
   "id": "4dd947f0",
   "metadata": {},
   "source": [
    "***Summary***:\n",
    "\n",
    "Although we were able to fit a linear regression model that was able to explain 9.1% of the variation in mosquito numbers, all four of the linear regression model assumptions failed: our model's independent variables do not have linear relationships with the dependent variable, our independent variables are not perfectly uncorrelated (or independent from each other), the residuals do not follow a normal distribution and the residuals do not exhibit constant variance (homoscedasticity). "
   ]
  },
  {
   "cell_type": "markdown",
   "id": "556f99d7",
   "metadata": {},
   "source": [
    "#### Question 3.2: <span style=\"font-size:14px; font-weight:normal;\"> ***Running and analyzing a logistic regression model against the occurrence of WNV*** </span> "
   ]
  },
  {
   "cell_type": "markdown",
   "id": "5c84c760",
   "metadata": {},
   "source": [
    "This question asks us to run a logistic regression model to determine how the independent variables affect WNV presence. In this case, *wnv_present* will be our dependent variable. \n",
    "\n",
    "Let us now define our independent variables and run a recap of the correlation matrix.\n",
    "\n",
    "*Note*: we are bringing back all of our independent variables, with the inclusion of *mosquito_number*, from the beginning of *Question 3.1* (those that were in our first iteration of our linear regression model).  "
   ]
  },
  {
   "cell_type": "code",
   "execution_count": 312,
   "id": "cbe59d69",
   "metadata": {},
   "outputs": [],
   "source": [
    "# Define matrix of independent variables:\n",
    "W = df[['year', 'month', 'week', 'mosquito_number', 'trap_cdc', 'trap_gravid', 'trap_ovi', 'trap_sentinel', 'culex_pipiens', 'culex_restuans', 'culex_salinarius', 'culex_territans', 'lat', 'lon']]"
   ]
  },
  {
   "cell_type": "code",
   "execution_count": 313,
   "id": "75306215",
   "metadata": {},
   "outputs": [
    {
     "data": {
      "image/png": "[encoded data removed]",
      "text/plain": [
       "<Figure size 720x720 with 2 Axes>"
      ]
     },
     "metadata": {
      "needs_background": "light"
     },
     "output_type": "display_data"
    }
   ],
   "source": [
    "# Calculating the correlation matrix:\n",
    "corr = W.corr()\n",
    "\n",
    "# Creating the heatmap:\n",
    "plt.figure(figsize=(10, 10))\n",
    "sns.heatmap(corr.round(2), annot=True, vmax=1, vmin=-1, center=0, cmap=\"coolwarm\", mask=np.triu(corr))\n",
    "plt.show()"
   ]
  },
  {
   "cell_type": "markdown",
   "id": "eb755d9a",
   "metadata": {},
   "source": [
    "We see that the sample correlation coefficients are the same as in the last question and that the *mosquito_number* variable is not highly correlated to any of the other independent variables.\n",
    "\n",
    "We will use the same iterative process as we did with the last question: we will drop independent variables from our model as we run it. However, these model summaries will not provide us with an $R^{2}$ value. Rather, we will be looking at whether the maximum likelihood optimization was a success and that the coefficients are significant. After we are satisfied, we will fit our logistic model and then run it for accuracy measurements. \n",
    "\n",
    "Let us start with the first iteration, which includes all independent variables and our dependent variable *wnv_present*. "
   ]
  },
  {
   "cell_type": "code",
   "execution_count": 314,
   "id": "d6be89da",
   "metadata": {},
   "outputs": [
    {
     "name": "stdout",
     "output_type": "stream",
     "text": [
      "Warning: Maximum number of iterations has been exceeded.\n",
      "         Current function value: 0.405443\n",
      "         Iterations: 35\n",
      "                           Logit Regression Results                           \n",
      "==============================================================================\n",
      "Dep. Variable:            wnv_present   No. Observations:                18495\n",
      "Model:                          Logit   Df Residuals:                    18482\n",
      "Method:                           MLE   Df Model:                           12\n",
      "Date:                Sun, 03 Mar 2024   Pseudo R-squ.:                  0.2229\n",
      "Time:                        19:46:00   Log-Likelihood:                -7498.7\n",
      "converged:                      False   LL-Null:                       -9649.5\n",
      "Covariance Type:            nonrobust   LLR p-value:                     0.000\n",
      "====================================================================================\n",
      "                       coef    std err          z      P>|z|      [0.025      0.975]\n",
      "------------------------------------------------------------------------------------\n",
      "const             -348.0177        nan        nan        nan         nan         nan\n",
      "year                 0.1130      0.007     16.467      0.000       0.100       0.126\n",
      "month                0.2202      0.069      3.192      0.001       0.085       0.355\n",
      "week                 0.1002      0.016      6.243      0.000       0.069       0.132\n",
      "mosquito_number      0.0651      0.001     44.694      0.000       0.062       0.068\n",
      "trap_cdc           -83.6867        nan        nan        nan         nan         nan\n",
      "trap_gravid        -83.5310        nan        nan        nan         nan         nan\n",
      "trap_ovi           -96.8751        nan        nan        nan         nan         nan\n",
      "trap_sentinel      -83.9250        nan        nan        nan         nan         nan\n",
      "culex_pipiens      -86.0706        nan        nan        nan         nan         nan\n",
      "culex_restuans     -86.3208        nan        nan        nan         nan         nan\n",
      "culex_salinarius   -87.0658        nan        nan        nan         nan         nan\n",
      "culex_territans    -88.5606        nan        nan        nan         nan         nan\n",
      "lat                 -0.6595      0.287     -2.301      0.021      -1.221      -0.098\n",
      "lon                 -3.5432      0.335    -10.580      0.000      -4.200      -2.887\n",
      "====================================================================================\n"
     ]
    },
    {
     "name": "stderr",
     "output_type": "stream",
     "text": [
      "C:\\Users\\simon\\anaconda3\\lib\\site-packages\\statsmodels\\base\\model.py:604: ConvergenceWarning: Maximum Likelihood optimization failed to converge. Check mle_retvals\n",
      "  warnings.warn(\"Maximum Likelihood optimization failed to \"\n"
     ]
    }
   ],
   "source": [
    "# Define independent variables:\n",
    "W = df[['year', 'month', 'week', 'mosquito_number', 'trap_cdc', 'trap_gravid', 'trap_ovi', 'trap_sentinel', 'culex_pipiens', 'culex_restuans', 'culex_salinarius', 'culex_territans', 'lat', 'lon']]\n",
    "\n",
    "# Define dependent variable\n",
    "v = df['wnv_present']\n",
    "\n",
    "# Adding a constant term to the independent variable\n",
    "W_with_const = sm.add_constant(W)\n",
    "\n",
    "# Fit the logistic regression model\n",
    "logit_model = sm.Logit(v, W_with_const)\n",
    "logit_result = logit_model.fit()\n",
    "\n",
    "# Print summary of the logistic regression model\n",
    "print(logit_result.summary())"
   ]
  },
  {
   "cell_type": "markdown",
   "id": "df173492",
   "metadata": {},
   "source": [
    "***Observations***\n",
    "\n",
    "As expected, this analysis was not successful. Notice all the null values in place of the coefficients for our independent variables. The reason for this is due to the high collinearity between the independent variables.\n",
    "\n",
    "We will begin by dropping the *month* variable and running the model. We will continue to drop the same variables as the last question and run the model at every instance until we get a successful optimization."
   ]
  },
  {
   "cell_type": "code",
   "execution_count": 315,
   "id": "dfdb2ad7",
   "metadata": {},
   "outputs": [
    {
     "name": "stdout",
     "output_type": "stream",
     "text": [
      "Warning: Maximum number of iterations has been exceeded.\n",
      "         Current function value: 0.405718\n",
      "         Iterations: 35\n",
      "                           Logit Regression Results                           \n",
      "==============================================================================\n",
      "Dep. Variable:            wnv_present   No. Observations:                18495\n",
      "Model:                          Logit   Df Residuals:                    18483\n",
      "Method:                           MLE   Df Model:                           11\n",
      "Date:                Sun, 03 Mar 2024   Pseudo R-squ.:                  0.2224\n",
      "Time:                        19:46:00   Log-Likelihood:                -7503.8\n",
      "converged:                      False   LL-Null:                       -9649.5\n",
      "Covariance Type:            nonrobust   LLR p-value:                     0.000\n",
      "====================================================================================\n",
      "                       coef    std err          z      P>|z|      [0.025      0.975]\n",
      "------------------------------------------------------------------------------------\n",
      "const             -342.7148        nan        nan        nan         nan         nan\n",
      "year                 0.1092      0.007     16.147      0.000       0.096       0.122\n",
      "week                 0.1482      0.006     26.212      0.000       0.137       0.159\n",
      "mosquito_number      0.0650      0.001     44.685      0.000       0.062       0.068\n",
      "trap_cdc           -82.8936        nan        nan        nan         nan         nan\n",
      "trap_gravid        -82.7633        nan        nan        nan         nan         nan\n",
      "trap_ovi           -93.9072        nan        nan        nan         nan         nan\n",
      "trap_sentinel      -83.1507        nan        nan        nan         nan         nan\n",
      "culex_pipiens      -84.7437        nan        nan        nan         nan         nan\n",
      "culex_restuans     -84.9934        nan        nan        nan         nan         nan\n",
      "culex_salinarius   -85.7451        nan        nan        nan         nan         nan\n",
      "culex_territans    -87.2325        nan        nan        nan         nan         nan\n",
      "lat                 -0.6587      0.286     -2.299      0.021      -1.220      -0.097\n",
      "lon                 -3.5483      0.335    -10.603      0.000      -4.204      -2.892\n",
      "====================================================================================\n"
     ]
    },
    {
     "name": "stderr",
     "output_type": "stream",
     "text": [
      "C:\\Users\\simon\\anaconda3\\lib\\site-packages\\statsmodels\\base\\model.py:604: ConvergenceWarning: Maximum Likelihood optimization failed to converge. Check mle_retvals\n",
      "  warnings.warn(\"Maximum Likelihood optimization failed to \"\n"
     ]
    }
   ],
   "source": [
    "# Defining W without 'month':\n",
    "W_1 = df[['year', 'week', 'mosquito_number', 'trap_cdc', 'trap_gravid', 'trap_ovi', 'trap_sentinel', 'culex_pipiens', 'culex_restuans', 'culex_salinarius', 'culex_territans', 'lat', 'lon']]\n",
    "v = df['wnv_present']\n",
    "\n",
    "# Adding a constant term to the independent variable:\n",
    "W_with_const_1 = sm.add_constant(W_1)\n",
    "\n",
    "# Fitting the logistic regression model:\n",
    "logit_model_1 = sm.Logit(v, W_with_const_1)\n",
    "logit_result_1 = logit_model_1.fit()\n",
    "\n",
    "# Printing summary of the logistic regression model:\n",
    "print(logit_result_1.summary())"
   ]
  },
  {
   "cell_type": "code",
   "execution_count": 316,
   "id": "6de871a6",
   "metadata": {},
   "outputs": [
    {
     "name": "stdout",
     "output_type": "stream",
     "text": [
      "Warning: Maximum number of iterations has been exceeded.\n",
      "         Current function value: 0.405718\n",
      "         Iterations: 35\n",
      "                           Logit Regression Results                           \n",
      "==============================================================================\n",
      "Dep. Variable:            wnv_present   No. Observations:                18495\n",
      "Model:                          Logit   Df Residuals:                    18483\n",
      "Method:                           MLE   Df Model:                           11\n",
      "Date:                Sun, 03 Mar 2024   Pseudo R-squ.:                  0.2224\n",
      "Time:                        19:46:00   Log-Likelihood:                -7503.8\n",
      "converged:                      False   LL-Null:                       -9649.5\n",
      "Covariance Type:            nonrobust   LLR p-value:                     0.000\n",
      "====================================================================================\n",
      "                       coef    std err          z      P>|z|      [0.025      0.975]\n",
      "------------------------------------------------------------------------------------\n",
      "const             -409.0298        nan        nan        nan         nan         nan\n",
      "year                 0.1092      0.007     16.147      0.000       0.096       0.122\n",
      "week                 0.1482      0.006     26.212      0.000       0.137       0.159\n",
      "mosquito_number      0.0650      0.001     44.685      0.000       0.062       0.068\n",
      "trap_gravid          0.1303      0.131      0.991      0.322      -0.127       0.388\n",
      "trap_ovi           -13.8185   6890.170     -0.002      0.998   -1.35e+04    1.35e+04\n",
      "trap_sentinel       -0.2571      0.214     -1.199      0.231      -0.677       0.163\n",
      "culex_pipiens     -101.3224        nan        nan        nan         nan         nan\n",
      "culex_restuans    -101.5721        nan        nan        nan         nan         nan\n",
      "culex_salinarius  -102.3238        nan        nan        nan         nan         nan\n",
      "culex_territans   -103.8112        nan        nan        nan         nan         nan\n",
      "lat                 -0.6587      0.286     -2.299      0.021      -1.220      -0.097\n",
      "lon                 -3.5483      0.335    -10.603      0.000      -4.204      -2.892\n",
      "====================================================================================\n"
     ]
    },
    {
     "name": "stderr",
     "output_type": "stream",
     "text": [
      "C:\\Users\\simon\\anaconda3\\lib\\site-packages\\statsmodels\\base\\model.py:604: ConvergenceWarning: Maximum Likelihood optimization failed to converge. Check mle_retvals\n",
      "  warnings.warn(\"Maximum Likelihood optimization failed to \"\n"
     ]
    }
   ],
   "source": [
    "# Defining W without 'trap_cdc':\n",
    "W_2 = df[['year', 'week', 'mosquito_number', 'trap_gravid', 'trap_ovi', 'trap_sentinel', 'culex_pipiens', 'culex_restuans', 'culex_salinarius', 'culex_territans', 'lat', 'lon']]\n",
    "v = df['wnv_present']\n",
    "\n",
    "# Adding a constant term to the independent variable:\n",
    "W_with_const_2 = sm.add_constant(W_2)\n",
    "\n",
    "# Fitting the logistic regression model:\n",
    "logit_model_2 = sm.Logit(v, W_with_const_2)\n",
    "logit_result_2 = logit_model_2.fit()\n",
    "\n",
    "# Printing summary of the logistic regression model:\n",
    "print(logit_result_2.summary())"
   ]
  },
  {
   "cell_type": "code",
   "execution_count": 317,
   "id": "2548d9a2",
   "metadata": {},
   "outputs": [
    {
     "name": "stdout",
     "output_type": "stream",
     "text": [
      "Warning: Maximum number of iterations has been exceeded.\n",
      "         Current function value: 0.405718\n",
      "         Iterations: 35\n",
      "                           Logit Regression Results                           \n",
      "==============================================================================\n",
      "Dep. Variable:            wnv_present   No. Observations:                18495\n",
      "Model:                          Logit   Df Residuals:                    18483\n",
      "Method:                           MLE   Df Model:                           11\n",
      "Date:                Sun, 03 Mar 2024   Pseudo R-squ.:                  0.2224\n",
      "Time:                        19:46:01   Log-Likelihood:                -7503.8\n",
      "converged:                      False   LL-Null:                       -9649.5\n",
      "Covariance Type:            nonrobust   LLR p-value:                     0.000\n",
      "====================================================================================\n",
      "                       coef    std err          z      P>|z|      [0.025      0.975]\n",
      "------------------------------------------------------------------------------------\n",
      "const             -510.3521     25.065    -20.362      0.000    -559.478    -461.226\n",
      "year                 0.1092      0.007     16.147      0.000       0.096       0.122\n",
      "week                 0.1482      0.006     26.212      0.000       0.137       0.159\n",
      "mosquito_number      0.0650      0.001     44.685      0.000       0.062       0.068\n",
      "trap_gravid          0.1303      0.131      0.991      0.322      -0.127       0.388\n",
      "trap_ovi           -13.8185   6890.166     -0.002      0.998   -1.35e+04    1.35e+04\n",
      "trap_sentinel       -0.2571      0.214     -1.199      0.231      -0.677       0.163\n",
      "culex_restuans      -0.2497      0.051     -4.869      0.000      -0.350      -0.149\n",
      "culex_salinarius    -1.0015      0.322     -3.112      0.002      -1.632      -0.371\n",
      "culex_territans     -2.4888      0.274     -9.068      0.000      -3.027      -1.951\n",
      "lat                 -0.6587      0.286     -2.299      0.021      -1.220      -0.097\n",
      "lon                 -3.5483      0.335    -10.603      0.000      -4.204      -2.892\n",
      "====================================================================================\n"
     ]
    },
    {
     "name": "stderr",
     "output_type": "stream",
     "text": [
      "C:\\Users\\simon\\anaconda3\\lib\\site-packages\\statsmodels\\base\\model.py:604: ConvergenceWarning: Maximum Likelihood optimization failed to converge. Check mle_retvals\n",
      "  warnings.warn(\"Maximum Likelihood optimization failed to \"\n"
     ]
    }
   ],
   "source": [
    "# Defining W without 'culex_pipiens':\n",
    "W_3 = df[['year', 'week', 'mosquito_number', 'trap_gravid', 'trap_ovi', 'trap_sentinel', 'culex_restuans', 'culex_salinarius', 'culex_territans', 'lat', 'lon']]\n",
    "v = df['wnv_present']\n",
    "\n",
    "# Adding a constant term to the independent variable:\n",
    "W_with_const_3 = sm.add_constant(W_3)\n",
    "\n",
    "# Fitting the logistic regression model:\n",
    "logit_model_3 = sm.Logit(v, W_with_const_3)\n",
    "logit_result_3 = logit_model_3.fit()\n",
    "\n",
    "# Printing summary of the logistic regression model:\n",
    "print(logit_result_3.summary())"
   ]
  },
  {
   "cell_type": "code",
   "execution_count": 318,
   "id": "8b8b4138",
   "metadata": {},
   "outputs": [
    {
     "name": "stdout",
     "output_type": "stream",
     "text": [
      "Warning: Maximum number of iterations has been exceeded.\n",
      "         Current function value: 0.405861\n",
      "         Iterations: 35\n",
      "                           Logit Regression Results                           \n",
      "==============================================================================\n",
      "Dep. Variable:            wnv_present   No. Observations:                18495\n",
      "Model:                          Logit   Df Residuals:                    18484\n",
      "Method:                           MLE   Df Model:                           10\n",
      "Date:                Sun, 03 Mar 2024   Pseudo R-squ.:                  0.2221\n",
      "Time:                        19:46:01   Log-Likelihood:                -7506.4\n",
      "converged:                      False   LL-Null:                       -9649.5\n",
      "Covariance Type:            nonrobust   LLR p-value:                     0.000\n",
      "====================================================================================\n",
      "                       coef    std err          z      P>|z|      [0.025      0.975]\n",
      "------------------------------------------------------------------------------------\n",
      "const             -486.1037     22.708    -21.407      0.000    -530.610    -441.598\n",
      "year                 0.1092      0.007     16.142      0.000       0.096       0.122\n",
      "week                 0.1479      0.006     26.177      0.000       0.137       0.159\n",
      "mosquito_number      0.0650      0.001     44.697      0.000       0.062       0.068\n",
      "trap_gravid          0.1152      0.131      0.879      0.379      -0.142       0.372\n",
      "trap_ovi           -13.8227   6890.561     -0.002      0.998   -1.35e+04    1.35e+04\n",
      "trap_sentinel       -0.2870      0.214     -1.343      0.179      -0.706       0.132\n",
      "culex_restuans      -0.2543      0.051     -4.961      0.000      -0.355      -0.154\n",
      "culex_salinarius    -0.9982      0.322     -3.103      0.002      -1.629      -0.368\n",
      "culex_territans     -2.4940      0.274     -9.087      0.000      -3.032      -1.956\n",
      "lon                 -2.9586      0.214    -13.816      0.000      -3.378      -2.539\n",
      "====================================================================================\n"
     ]
    },
    {
     "name": "stderr",
     "output_type": "stream",
     "text": [
      "C:\\Users\\simon\\anaconda3\\lib\\site-packages\\statsmodels\\base\\model.py:604: ConvergenceWarning: Maximum Likelihood optimization failed to converge. Check mle_retvals\n",
      "  warnings.warn(\"Maximum Likelihood optimization failed to \"\n"
     ]
    }
   ],
   "source": [
    "# Defining W without 'lat':\n",
    "W_4 = df[['year', 'week', 'mosquito_number', 'trap_gravid', 'trap_ovi', 'trap_sentinel', 'culex_restuans', 'culex_salinarius', 'culex_territans', 'lon']]\n",
    "v = df['wnv_present']\n",
    "\n",
    "# Adding a constant term to the independent variable:\n",
    "W_with_const_4 = sm.add_constant(W_4)\n",
    "\n",
    "# Fitting the logistic regression model:\n",
    "logit_model_4 = sm.Logit(v, W_with_const_4)\n",
    "logit_result_4 = logit_model_4.fit()\n",
    "\n",
    "# Printing summary of the logistic regression model:\n",
    "print(logit_result_4.summary())"
   ]
  },
  {
   "cell_type": "code",
   "execution_count": 319,
   "id": "cf9e9262",
   "metadata": {},
   "outputs": [
    {
     "name": "stdout",
     "output_type": "stream",
     "text": [
      "Warning: Maximum number of iterations has been exceeded.\n",
      "         Current function value: 0.405910\n",
      "         Iterations: 35\n",
      "                           Logit Regression Results                           \n",
      "==============================================================================\n",
      "Dep. Variable:            wnv_present   No. Observations:                18495\n",
      "Model:                          Logit   Df Residuals:                    18485\n",
      "Method:                           MLE   Df Model:                            9\n",
      "Date:                Sun, 03 Mar 2024   Pseudo R-squ.:                  0.2220\n",
      "Time:                        19:46:01   Log-Likelihood:                -7507.3\n",
      "converged:                      False   LL-Null:                       -9649.5\n",
      "Covariance Type:            nonrobust   LLR p-value:                     0.000\n",
      "====================================================================================\n",
      "                       coef    std err          z      P>|z|      [0.025      0.975]\n",
      "------------------------------------------------------------------------------------\n",
      "const             -482.2018     22.507    -21.424      0.000    -526.315    -438.088\n",
      "year                 0.1070      0.007     16.326      0.000       0.094       0.120\n",
      "week                 0.1476      0.006     26.143      0.000       0.137       0.159\n",
      "mosquito_number      0.0651      0.001     44.705      0.000       0.062       0.068\n",
      "trap_gravid          0.2228      0.105      2.122      0.034       0.017       0.428\n",
      "trap_ovi           -13.7347   6886.911     -0.002      0.998   -1.35e+04    1.35e+04\n",
      "culex_restuans      -0.2588      0.051     -5.060      0.000      -0.359      -0.159\n",
      "culex_salinarius    -1.0024      0.322     -3.112      0.002      -1.634      -0.371\n",
      "culex_territans     -2.4946      0.274     -9.090      0.000      -3.033      -1.957\n",
      "lon                 -2.9639      0.214    -13.837      0.000      -3.384      -2.544\n",
      "====================================================================================\n"
     ]
    },
    {
     "name": "stderr",
     "output_type": "stream",
     "text": [
      "C:\\Users\\simon\\anaconda3\\lib\\site-packages\\statsmodels\\base\\model.py:604: ConvergenceWarning: Maximum Likelihood optimization failed to converge. Check mle_retvals\n",
      "  warnings.warn(\"Maximum Likelihood optimization failed to \"\n"
     ]
    }
   ],
   "source": [
    "# Defining W without 'trap_sentinel':\n",
    "W_5 = df[['year', 'week', 'mosquito_number', 'trap_gravid', 'trap_ovi', 'culex_restuans', 'culex_salinarius', 'culex_territans', 'lon']]\n",
    "v = df['wnv_present']\n",
    "\n",
    "# Adding a constant term to the independent variable:\n",
    "W_with_const_5 = sm.add_constant(W_5)\n",
    "\n",
    "# Fitting the logistic regression model:\n",
    "logit_model_5 = sm.Logit(v, W_with_const_5)\n",
    "logit_result_5 = logit_model_5.fit()\n",
    "\n",
    "# Printing summary of the logistic regression model:\n",
    "print(logit_result_5.summary())"
   ]
  },
  {
   "cell_type": "code",
   "execution_count": 320,
   "id": "84049ca6",
   "metadata": {},
   "outputs": [
    {
     "name": "stdout",
     "output_type": "stream",
     "text": [
      "Optimization terminated successfully.\n",
      "         Current function value: 0.405911\n",
      "         Iterations 8\n",
      "                           Logit Regression Results                           \n",
      "==============================================================================\n",
      "Dep. Variable:            wnv_present   No. Observations:                18495\n",
      "Model:                          Logit   Df Residuals:                    18486\n",
      "Method:                           MLE   Df Model:                            8\n",
      "Date:                Sun, 03 Mar 2024   Pseudo R-squ.:                  0.2220\n",
      "Time:                        19:46:01   Log-Likelihood:                -7507.3\n",
      "converged:                       True   LL-Null:                       -9649.5\n",
      "Covariance Type:            nonrobust   LLR p-value:                     0.000\n",
      "====================================================================================\n",
      "                       coef    std err          z      P>|z|      [0.025      0.975]\n",
      "------------------------------------------------------------------------------------\n",
      "const             -482.1972     22.507    -21.424      0.000    -526.311    -438.083\n",
      "year                 0.1070      0.007     16.326      0.000       0.094       0.120\n",
      "week                 0.1476      0.006     26.146      0.000       0.137       0.159\n",
      "mosquito_number      0.0651      0.001     44.707      0.000       0.062       0.068\n",
      "trap_gravid          0.2230      0.105      2.124      0.034       0.017       0.429\n",
      "culex_restuans      -0.2587      0.051     -5.059      0.000      -0.359      -0.158\n",
      "culex_salinarius    -1.0023      0.322     -3.112      0.002      -1.634      -0.371\n",
      "culex_territans     -2.4946      0.274     -9.090      0.000      -3.032      -1.957\n",
      "lon                 -2.9638      0.214    -13.837      0.000      -3.384      -2.544\n",
      "====================================================================================\n"
     ]
    }
   ],
   "source": [
    "# Defining W without 'trap_ovi':\n",
    "W_6 = df[['year', 'week', 'mosquito_number', 'trap_gravid', 'culex_restuans', 'culex_salinarius', 'culex_territans', 'lon']]\n",
    "v = df['wnv_present']\n",
    "\n",
    "# Adding a constant term to the independent variable:\n",
    "W_with_const_6 = sm.add_constant(W_6)\n",
    "\n",
    "# Fitting the logistic regression model:\n",
    "logit_model_6 = sm.Logit(v, W_with_const_6)\n",
    "logit_result_6 = logit_model_6.fit()\n",
    "\n",
    "# Printing summary of the logistic regression model:\n",
    "print(logit_result_6.summary())"
   ]
  },
  {
   "cell_type": "markdown",
   "id": "c3d267f1",
   "metadata": {},
   "source": [
    "***Observations***:\n",
    "\n",
    "Our model has finally terminated successfully. Our coefficients are significant ($p$-value <0.05) and we can continue our iterative process by checking our model for accuracy. \n",
    "\n",
    "Recall that our linear regression model gives us the *estimated expected value* for our dependent variable whereas our logistic model gives us the *probability* that our dependent variable will occur. \n",
    "\n",
    "To determine the accuracy for our model, we set the model probability prediction level at the standard 0.5.\n"
   ]
  },
  {
   "cell_type": "code",
   "execution_count": 321,
   "id": "4a572072",
   "metadata": {},
   "outputs": [
    {
     "name": "stdout",
     "output_type": "stream",
     "text": [
      "Mean Accuracy: 0.8108\n"
     ]
    }
   ],
   "source": [
    "# Getting probabilistic predictions:\n",
    "model_predictions_prob_6 = logit_result_6.predict(W_with_const_6)\n",
    "\n",
    "# Converting probabilistic predictions to binary predictions:\n",
    "model_predictions_binary_6 = (model_predictions_prob_6 >= 0.5).astype(int)\n",
    "\n",
    "# Calculating rounded mean accuracy:\n",
    "accuracy = np.mean(model_predictions_binary_6 == v)\n",
    "rounded_accuracy = round(accuracy, 4)\n",
    "print(\"Mean Accuracy:\", rounded_accuracy)"
   ]
  },
  {
   "cell_type": "markdown",
   "id": "749442ce",
   "metadata": {},
   "source": [
    "***Observations***:\n",
    "\n",
    "The mean accuracy of 0.8108 tells us that our model predicted 81% of our data points correctly.\n",
    "\n",
    "Let us see if we can increase this accuracy by dropping some variables. Again, we will use an iterative process, and our evaluation standard will be the mean accuracy of the model.  \n"
   ]
  },
  {
   "cell_type": "code",
   "execution_count": 322,
   "id": "b5dec06a",
   "metadata": {},
   "outputs": [
    {
     "name": "stdout",
     "output_type": "stream",
     "text": [
      "Optimization terminated successfully.\n",
      "         Current function value: 0.406253\n",
      "         Iterations 8\n",
      "Mean Accuracy: 0.8103\n"
     ]
    }
   ],
   "source": [
    "# Defining W without 'culex_salinarius':\n",
    "W_7 = df[['year', 'week', 'mosquito_number', 'trap_gravid', 'culex_restuans', 'culex_territans', 'lon']]\n",
    "v = df['wnv_present']\n",
    "\n",
    "# Adding a constant term to the independent variable:\n",
    "W_with_const_7 = sm.add_constant(W_7)\n",
    "\n",
    "# Fitting the logistic regression model:\n",
    "logit_model_7 = sm.Logit(v, W_with_const_7)\n",
    "logit_result_7 = logit_model_7.fit()\n",
    "\n",
    "# Getting probabilistic predictions:\n",
    "model_predictions_prob_7 = logit_result_7.predict(W_with_const_7)\n",
    "\n",
    "# Converting probabilistic predictions to binary predictions:\n",
    "model_predictions_binary_7 = (model_predictions_prob_7 >= 0.5).astype(int)\n",
    "\n",
    "# Calculating rounded mean accuracy:\n",
    "accuracy = np.mean(model_predictions_binary_7 == v)\n",
    "rounded_accuracy = round(accuracy, 4)\n",
    "print(\"Mean Accuracy:\", rounded_accuracy)"
   ]
  },
  {
   "cell_type": "code",
   "execution_count": 323,
   "id": "859b0aa1",
   "metadata": {},
   "outputs": [
    {
     "name": "stdout",
     "output_type": "stream",
     "text": [
      "Optimization terminated successfully.\n",
      "         Current function value: 0.411064\n",
      "         Iterations 8\n",
      "Mean Accuracy: 0.8105\n"
     ]
    }
   ],
   "source": [
    "# Defining W without 'culex_territans':\n",
    "W_8 = df[['year', 'week', 'mosquito_number', 'trap_gravid', 'culex_restuans',  'lon']]\n",
    "v = df['wnv_present']\n",
    "\n",
    "# Adding a constant term to the independent variable:\n",
    "W_with_const_8 = sm.add_constant(W_8)\n",
    "\n",
    "# Fitting the logistic regression model:\n",
    "logit_model_8 = sm.Logit(v, W_with_const_8)\n",
    "logit_result_8 = logit_model_8.fit()\n",
    "\n",
    "# Getting probabilistic predictions:\n",
    "model_predictions_prob_8 = logit_result_8.predict(W_with_const_8)\n",
    "\n",
    "# Converting probabilistic predictions to binary predictions:\n",
    "model_predictions_binary_8 = (model_predictions_prob_8 >= 0.5).astype(int)\n",
    "\n",
    "# Calculating rounded mean accuracy:\n",
    "accuracy = np.mean(model_predictions_binary_8 == v)\n",
    "rounded_accuracy = round(accuracy, 4)\n",
    "print(\"Mean Accuracy:\", rounded_accuracy)"
   ]
  },
  {
   "cell_type": "code",
   "execution_count": 324,
   "id": "266f76e5",
   "metadata": {},
   "outputs": [
    {
     "name": "stdout",
     "output_type": "stream",
     "text": [
      "Optimization terminated successfully.\n",
      "         Current function value: 0.417421\n",
      "         Iterations 7\n",
      "Mean Accuracy: 0.8075\n"
     ]
    }
   ],
   "source": [
    "# Defining W without 'year':\n",
    "W_9 = df[['week', 'mosquito_number', 'trap_gravid', 'culex_restuans',  'lon']]\n",
    "v = df['wnv_present']\n",
    "\n",
    "# Adding a constant term to the independent variable:\n",
    "W_with_const_9 = sm.add_constant(W_9)\n",
    "\n",
    "# Fitting the logistic regression model:\n",
    "logit_model_9 = sm.Logit(v, W_with_const_9)\n",
    "logit_result_9 = logit_model_9.fit()\n",
    "\n",
    "# Getting probabilistic predictions:\n",
    "model_predictions_prob_9 = logit_result_9.predict(W_with_const_9)\n",
    "\n",
    "# Converting probabilistic predictions to binary predictions:\n",
    "model_predictions_binary_9 = (model_predictions_prob_9 >= 0.5).astype(int)\n",
    "\n",
    "# Calculating rounded mean accuracy:\n",
    "accuracy = np.mean(model_predictions_binary == v)\n",
    "rounded_accuracy = round(accuracy, 4)\n",
    "print(\"Mean Accuracy:\", rounded_accuracy)"
   ]
  },
  {
   "cell_type": "code",
   "execution_count": 325,
   "id": "88c5b38d",
   "metadata": {},
   "outputs": [
    {
     "name": "stdout",
     "output_type": "stream",
     "text": [
      "Optimization terminated successfully.\n",
      "         Current function value: 0.411129\n",
      "         Iterations 8\n",
      "Mean Accuracy: 0.811\n"
     ]
    }
   ],
   "source": [
    "# Defining W without 'culex_restuans', but with 'year' added:\n",
    "W_10 = df[['year', 'week', 'mosquito_number', 'trap_gravid', 'lon']]\n",
    "v = df['wnv_present']\n",
    "\n",
    "# Adding a constant term to the independent variable:\n",
    "W_with_const_10 = sm.add_constant(W_10)\n",
    "\n",
    "# Fitting the logistic regression model:\n",
    "logit_model_10 = sm.Logit(v, W_with_const_10)\n",
    "logit_result_10 = logit_model_10.fit()\n",
    "\n",
    "# Getting probabilistic predictions:\n",
    "model_predictions_prob_10 = logit_result_10.predict(W_with_const_10)\n",
    "\n",
    "# Converting probabilistic predictions to binary predictions:\n",
    "model_predictions_binary_10 = (model_predictions_prob_10 >= 0.5).astype(int)\n",
    "\n",
    "# Calculating rounded mean accuracy:\n",
    "accuracy = np.mean(model_predictions_binary_10 == v)\n",
    "rounded_accuracy = round(accuracy, 4)\n",
    "print(\"Mean Accuracy:\", rounded_accuracy)"
   ]
  },
  {
   "cell_type": "code",
   "execution_count": 326,
   "id": "90898b84",
   "metadata": {},
   "outputs": [
    {
     "name": "stdout",
     "output_type": "stream",
     "text": [
      "Optimization terminated successfully.\n",
      "         Current function value: 0.411232\n",
      "         Iterations 8\n",
      "Mean Accuracy: 0.8107\n"
     ]
    }
   ],
   "source": [
    "# Defining W without 'trap_gravid':\n",
    "W_11 = df[['year', 'week', 'mosquito_number', 'lon']]\n",
    "v = df['wnv_present']\n",
    "\n",
    "# Adding a constant term to the independent variable:\n",
    "W_with_const_11 = sm.add_constant(W_11)\n",
    "\n",
    "# Fitting the logistic regression model:\n",
    "logit_model_11 = sm.Logit(v, W_with_const_11)\n",
    "logit_result_11 = logit_model_11.fit()\n",
    "\n",
    "# Getting probabilistic predictions:\n",
    "model_predictions_prob_11 = logit_result_11.predict(W_with_const_11)\n",
    "\n",
    "# Converting probabilistic predictions to binary predictions:\n",
    "model_predictions_binary_11 = (model_predictions_prob_11 >= 0.5).astype(int)\n",
    "\n",
    "# Calculating rounded mean accuracy:\n",
    "accuracy = np.mean(model_predictions_binary_11 == v)\n",
    "rounded_accuracy = round(accuracy, 4)\n",
    "print(\"Mean Accuracy:\", rounded_accuracy)"
   ]
  },
  {
   "cell_type": "markdown",
   "id": "fd57ddd3",
   "metadata": {},
   "source": [
    "It seems that the 10th iteration's mean accurancy is at 0.811 versus our 6th iteration's mean accuracy of 0.8108. However, if we print the summary for our 10th iteration logistic model (see below), we will see that *trap_gravid* is not a significant predictor. In which case, our 11th iteration above, that does not include *trap_gravid*, has a mean accuracy of 0.8107, which is a little smaller than our 6th iteration's mean accuracy. "
   ]
  },
  {
   "cell_type": "code",
   "execution_count": 327,
   "id": "5b3f5d98",
   "metadata": {},
   "outputs": [
    {
     "name": "stdout",
     "output_type": "stream",
     "text": [
      "Optimization terminated successfully.\n",
      "         Current function value: 0.411129\n",
      "         Iterations 8\n",
      "                           Logit Regression Results                           \n",
      "==============================================================================\n",
      "Dep. Variable:            wnv_present   No. Observations:                18495\n",
      "Model:                          Logit   Df Residuals:                    18489\n",
      "Method:                           MLE   Df Model:                            5\n",
      "Date:                Sun, 03 Mar 2024   Pseudo R-squ.:                  0.2120\n",
      "Time:                        19:46:04   Log-Likelihood:                -7603.8\n",
      "converged:                       True   LL-Null:                       -9649.5\n",
      "Covariance Type:            nonrobust   LLR p-value:                     0.000\n",
      "===================================================================================\n",
      "                      coef    std err          z      P>|z|      [0.025      0.975]\n",
      "-----------------------------------------------------------------------------------\n",
      "const            -459.7126     21.585    -21.297      0.000    -502.019    -417.406\n",
      "year                0.0930      0.006     15.830      0.000       0.082       0.105\n",
      "week                0.1551      0.005     29.062      0.000       0.145       0.166\n",
      "mosquito_number     0.0678      0.001     46.842      0.000       0.065       0.071\n",
      "trap_gravid         0.2033      0.105      1.933      0.053      -0.003       0.409\n",
      "lon                -3.0221      0.213    -14.176      0.000      -3.440      -2.604\n",
      "===================================================================================\n"
     ]
    }
   ],
   "source": [
    "# Defining W without 'culex_restuans', but with 'year' added:\n",
    "W_10 = df[['year', 'week', 'mosquito_number', 'trap_gravid', 'lon']]\n",
    "v = df['wnv_present']\n",
    "\n",
    "# Adding a constant term to the independent variable:\n",
    "W_with_const_10 = sm.add_constant(W_10)\n",
    "\n",
    "# Fitting the logistic regression model:\n",
    "logit_model_10 = sm.Logit(v, W_with_const_10)\n",
    "logit_result_10 = logit_model_10.fit()\n",
    "\n",
    "# Printing summary of the logistic regression model:\n",
    "print(logit_result_10.summary())"
   ]
  },
  {
   "cell_type": "markdown",
   "id": "eeec0250",
   "metadata": {},
   "source": [
    "***Fitting the model***"
   ]
  },
  {
   "cell_type": "markdown",
   "id": "c6153bf2",
   "metadata": {},
   "source": [
    "This where our analysis gets a little controversial. As stated earlier, it is our belief that, all things being equal, a model with less independent variables is better. So far, the 6th iteration of our logistic models gives us the highest mean accuracy with all predictor variables being significant. \n",
    "\n",
    "However, if we round our mean accuracy to 2, all of the mean accuracies will be at 0.81 (81%). If we are looking for a model with minimal variables and a mean accuracy of 81%, consider the following iteration, along with the correlation matrix:"
   ]
  },
  {
   "cell_type": "code",
   "execution_count": 328,
   "id": "8b2f9656",
   "metadata": {},
   "outputs": [
    {
     "name": "stdout",
     "output_type": "stream",
     "text": [
      "Optimization terminated successfully.\n",
      "         Current function value: 0.418660\n",
      "         Iterations 7\n",
      "                           Logit Regression Results                           \n",
      "==============================================================================\n",
      "Dep. Variable:            wnv_present   No. Observations:                18495\n",
      "Model:                          Logit   Df Residuals:                    18491\n",
      "Method:                           MLE   Df Model:                            3\n",
      "Date:                Sun, 03 Mar 2024   Pseudo R-squ.:                  0.1976\n",
      "Time:                        19:46:05   Log-Likelihood:                -7743.1\n",
      "converged:                       True   LL-Null:                       -9649.5\n",
      "Covariance Type:            nonrobust   LLR p-value:                     0.000\n",
      "===================================================================================\n",
      "                      coef    std err          z      P>|z|      [0.025      0.975]\n",
      "-----------------------------------------------------------------------------------\n",
      "const            -306.4327     18.331    -16.717      0.000    -342.361    -270.505\n",
      "week                0.1487      0.005     28.332      0.000       0.138       0.159\n",
      "mosquito_number     0.0679      0.001     48.710      0.000       0.065       0.071\n",
      "lon                -3.4143      0.209    -16.352      0.000      -3.824      -3.005\n",
      "===================================================================================\n"
     ]
    }
   ],
   "source": [
    "W_min = df[['week', 'mosquito_number', 'lon']]\n",
    "\n",
    "# Define dependent variable\n",
    "v = df['wnv_present']\n",
    "\n",
    "# Adding a constant term to the independent variable\n",
    "W_with_const_min = sm.add_constant(W_min)\n",
    "\n",
    "# Fit the logistic regression model\n",
    "logit_model_min = sm.Logit(v, W_with_const_min)\n",
    "logit_result_min = logit_model_min.fit()\n",
    "\n",
    "# Print summary of the logistic regression model\n",
    "print(logit_result_min.summary())"
   ]
  },
  {
   "cell_type": "code",
   "execution_count": 329,
   "id": "050dc6e1",
   "metadata": {},
   "outputs": [
    {
     "name": "stdout",
     "output_type": "stream",
     "text": [
      "Mean Accuracy: 0.81\n"
     ]
    }
   ],
   "source": [
    "# Getting probabilistic predictions\n",
    "model_predictions_prob_min = logit_result_min.predict(W_with_const_min)\n",
    "\n",
    "# Converting probabilistic predictions to binary predictions\n",
    "model_predictions_binary = (model_predictions_prob_min >= 0.5).astype(int)\n",
    "\n",
    "# Calculating mean accuracy\n",
    "accuracy = np.mean(model_predictions_binary == v)\n",
    "rounded_accuracy = round(accuracy, 2)\n",
    "print(\"Mean Accuracy:\", rounded_accuracy)"
   ]
  },
  {
   "cell_type": "code",
   "execution_count": 330,
   "id": "ec9f8df7",
   "metadata": {},
   "outputs": [
    {
     "data": {
      "image/png": "[encoded data removed]",
      "text/plain": [
       "<Figure size 288x288 with 2 Axes>"
      ]
     },
     "metadata": {
      "needs_background": "light"
     },
     "output_type": "display_data"
    }
   ],
   "source": [
    "# Calculating the correlation matrix:\n",
    "corr = W_min.corr()\n",
    "\n",
    "# Creating the heatmap:\n",
    "plt.figure(figsize=(4, 4))\n",
    "sns.heatmap(corr.round(2), annot=True, vmax=1, vmin=-1, center=0, cmap=\"coolwarm\", mask=np.triu(corr))\n",
    "plt.show()"
   ]
  },
  {
   "cell_type": "markdown",
   "id": "201b7076",
   "metadata": {},
   "source": [
    "***Observations***: For the model with independent variables *week*, *mosquito_number* and *lon*, all of our independent variables are significant, they are close to being almost perfectly uncorrelated, and the mean accuracy for the logisitic model is 81%.\n",
    "\n",
    "For the 6th iteration's correlation matrix, where the independent variable are *year*, *week*, *mosquito_number*, *trap_gravid*, *culex_restuans*, *culex_salinarius*, *culex_territans* and *lon*, we get:"
   ]
  },
  {
   "cell_type": "code",
   "execution_count": 339,
   "id": "f7b3c218",
   "metadata": {},
   "outputs": [
    {
     "data": {
      "image/png": "[encoded data removed]",
      "text/plain": [
       "<Figure size 432x432 with 2 Axes>"
      ]
     },
     "metadata": {
      "needs_background": "light"
     },
     "output_type": "display_data"
    }
   ],
   "source": [
    "# Calculating the correlation matrix:\n",
    "corr = W_6.corr()\n",
    "\n",
    "# Creating the heatmap:\n",
    "plt.figure(figsize=(6, 6))\n",
    "sns.heatmap(corr.round(2), annot=True, vmax=1, vmin=-1, center=0, cmap=\"coolwarm\", mask=np.triu(corr))\n",
    "plt.show()"
   ]
  },
  {
   "cell_type": "markdown",
   "id": "9c9a0c49",
   "metadata": {},
   "source": [
    "Since this deliverable is also an exercise in experimentation, let us fit both models (W_min and W_6) and then evaluate the models using residual analysis. We will start with the smaller model first. "
   ]
  },
  {
   "cell_type": "markdown",
   "id": "cb0f028f",
   "metadata": {},
   "source": [
    "***Fitting and performing residual analysis on model 1***"
   ]
  },
  {
   "cell_type": "code",
   "execution_count": 333,
   "id": "32b483c8",
   "metadata": {},
   "outputs": [
    {
     "name": "stdout",
     "output_type": "stream",
     "text": [
      "Coefficients:\n",
      "const             -306.4327\n",
      "week                 0.1487\n",
      "mosquito_number      0.0679\n",
      "lon                 -3.4143\n",
      "dtype: float64\n"
     ]
    }
   ],
   "source": [
    "# Extracting coefficients:\n",
    "coef = logit_result_min.params.round(4)\n",
    "\n",
    "# Printing coefficients:\n",
    "print(\"Coefficients:\")\n",
    "print(coef)"
   ]
  },
  {
   "cell_type": "markdown",
   "id": "cd57cd81",
   "metadata": {},
   "source": [
    "Since $ f(\\overrightarrow{x}) =   -306.4327 + 0.1487x_{1} +  0.0679x_{2} - 3.4143x_{3}$\n",
    "our model becomes:\n",
    "\n",
    "$ \\sigma(f(\\overrightarrow{x})) = \\displaystyle{\\frac{1}{1+e^{-f(\\overrightarrow{x})}}} = \\displaystyle{\\frac{1}{1+e^{( -306.4327 + 0.1487x_{1} +  0.0679x_{2} - 3.4143x_{3})}}}$\n",
    "\n",
    "where,\n",
    "\n",
    "$ X_{1} \\sim $ *week*\n",
    "\n",
    "$ X_{2} \\sim $ *mosquito_number*\n",
    "\n",
    "$ X_{3} \\sim $ *lon*."
   ]
  },
  {
   "cell_type": "markdown",
   "id": "cfb7c314",
   "metadata": {},
   "source": [
    "Let us now evaluate the model using residual analysis. While logistic regression doesn't have residuals in the same way as linear regression, we can still examine residuals by plotting predicted probabilities against observed outcomes or using deviance residuals to assess model fit."
   ]
  },
  {
   "cell_type": "code",
   "execution_count": 334,
   "id": "72093e5a",
   "metadata": {},
   "outputs": [
    {
     "data": {
      "image/png": "[encoded data removed]",
      "text/plain": [
       "<Figure size 432x288 with 1 Axes>"
      ]
     },
     "metadata": {
      "needs_background": "light"
     },
     "output_type": "display_data"
    }
   ],
   "source": [
    "# Getting the predicted probabilities from the model:\n",
    "predicted_probs = logit_result_min.predict(W_with_const_min)\n",
    "\n",
    "# Calculating the residuals:\n",
    "residuals = v - predicted_probs\n",
    "\n",
    "# Creating a residuals plot:\n",
    "plt.scatter(predicted_probs, residuals, alpha=0.5)\n",
    "plt.axhline(y=0, color='red', linestyle='--')\n",
    "plt.xlabel('Predicted Probabilities')\n",
    "plt.ylabel('Residuals')\n",
    "plt.title('Residuals Plot')\n",
    "plt.show()"
   ]
  },
  {
   "cell_type": "markdown",
   "id": "9a8e3967",
   "metadata": {},
   "source": [
    "***Observations***:\n",
    "\n",
    "The two linear lines indicate that the residuals are not randomly distributed around the horizontal line at 0. This pattern in the residuals could imply that the model is missing some important information or that the underlying relationship between the predictors and the dependent variable is not well captured by the model. Moreover, the lines suggest that there could be a bias in the residuals and that the variance is not constant (heteroscedasticity). "
   ]
  },
  {
   "cell_type": "markdown",
   "id": "ac58f43a",
   "metadata": {},
   "source": [
    "***Fitting and performing residual analysis on model 2***"
   ]
  },
  {
   "cell_type": "code",
   "execution_count": 335,
   "id": "0092ee33",
   "metadata": {},
   "outputs": [
    {
     "name": "stdout",
     "output_type": "stream",
     "text": [
      "Coefficients:\n",
      "const              -482.1972\n",
      "year                  0.1070\n",
      "week                  0.1476\n",
      "mosquito_number       0.0651\n",
      "trap_gravid           0.2230\n",
      "culex_restuans       -0.2587\n",
      "culex_salinarius     -1.0023\n",
      "culex_territans      -2.4946\n",
      "lon                  -2.9638\n",
      "dtype: float64\n"
     ]
    }
   ],
   "source": [
    "# Extracting coefficients:\n",
    "coef = logit_result_6.params.round(4)\n",
    "\n",
    "# Printing coefficients:\n",
    "print(\"Coefficients:\")\n",
    "print(coef)"
   ]
  },
  {
   "cell_type": "markdown",
   "id": "7b395cf3",
   "metadata": {},
   "source": [
    "Since $ f(\\overrightarrow{x}) =   -482.1972 + 0.1070x_{1} +  0.1476x_{2} - 0.0651x_{3} + 0.2230x_{4} - 0.2587x_{5} - 1.0023x_{6} -2.4946x_{7} - 2.9638x_{8} $,\n",
    "\n",
    "our model becomes:\n",
    "\n",
    "$ \\sigma(f(\\overrightarrow{x})) = \\displaystyle{\\frac{1}{1+e^{-f(\\overrightarrow{x})}}} = \\displaystyle{\\frac{1}{1+e^{(-482.1972 + 0.1070x_{1} +  0.1476x_{2} - 0.0651x_{3} + 0.2230x_{4} - 0.2587x_{5} - 1.0023x_{6} -2.4946x_{7} - 2.9638x_{8})}}} $,\n",
    "\n",
    "where,\n",
    "\n",
    "$ X_{1} \\sim $ *year*\n",
    "\n",
    "$ X_{2} \\sim $ *week*\n",
    "\n",
    "$ X_{3} \\sim $ *mosquito_number*\n",
    "\n",
    "$ X_{4} \\sim $ *trap_gravid*\n",
    "\n",
    "$ X_{5} \\sim $ *culex_restuans*\n",
    "\n",
    "$ X_{6} \\sim $ *culex_salinarius*\n",
    "\n",
    "$ X_{7} \\sim $ *culex_territans*\n",
    "\n",
    "$X_{8} \\sim $ *lon*."
   ]
  },
  {
   "cell_type": "code",
   "execution_count": 336,
   "id": "12d2c33c",
   "metadata": {},
   "outputs": [
    {
     "data": {
      "image/png": "[encoded data removed]",
      "text/plain": [
       "<Figure size 432x288 with 1 Axes>"
      ]
     },
     "metadata": {
      "needs_background": "light"
     },
     "output_type": "display_data"
    }
   ],
   "source": [
    "# Getting the predicted probabilities from the model:\n",
    "predicted_probs_6 = logit_result_6.predict(W_with_const_6)\n",
    "\n",
    "# Calculating the residuals:\n",
    "residuals_6 = v - predicted_probs_6\n",
    "\n",
    "# Creating a residuals plot:\n",
    "plt.scatter(predicted_probs_6, residuals_6, alpha=0.5)\n",
    "plt.axhline(y=0, color='red', linestyle='--')\n",
    "plt.xlabel('Predicted Probabilities')\n",
    "plt.ylabel('Residuals')\n",
    "plt.title('Residuals Plot')\n",
    "plt.show()"
   ]
  },
  {
   "cell_type": "markdown",
   "id": "04b8dd81",
   "metadata": {},
   "source": [
    "***Observations***:\n",
    "\n",
    "The residual analysis for model 2 is almost identical to that of model 1: the analysis suggest that there could be a bias in the residuals and that there is heteroscedasticity. \n",
    "\n",
    "***Calibration curves***\n",
    "\n",
    "Without going beyond the scope of this deliverable, we can do one more simple analysis on both our models: we can plot a calibration curve for both. This involves plotting the observed outcome frequency against the predicted probabilities to assess how well the model's predicted probabilities align with the actual outcome probabilities.We plot the calibration curve, along with the perfectly calibrated line (the diagonal line) and this line represents perfect calibration, where predicted probabilities match the actual fraction of positives. If the calibration curve deviates from the perfectly calibrated line, it indicates that the model's predicted probabilities are not well-calibrated. Let us run plots for both models, starting with the smaller model first.\n",
    "\n",
    "*Note*: for this, we have to import *calibration_curve* from *sklearn.calibration*. "
   ]
  },
  {
   "cell_type": "code",
   "execution_count": 337,
   "id": "32f20321",
   "metadata": {},
   "outputs": [
    {
     "data": {
      "image/png": "[encoded data removed]",
      "text/plain": [
       "<Figure size 576x432 with 1 Axes>"
      ]
     },
     "metadata": {
      "needs_background": "light"
     },
     "output_type": "display_data"
    }
   ],
   "source": [
    "from sklearn.calibration import calibration_curve\n",
    "\n",
    "# Get the predicted probabilities from the logistic regression model\n",
    "predicted_probs = logit_result_min.predict(W_with_const_min)\n",
    "\n",
    "# Calculate the calibration curve\n",
    "prob_true, prob_pred = calibration_curve(v, predicted_probs, n_bins=10, strategy='uniform')\n",
    "\n",
    "# Plot the calibration curve\n",
    "plt.figure(figsize=(8, 6))\n",
    "plt.plot(prob_pred, prob_true, marker='o', linestyle='-', color='steelblue')\n",
    "plt.plot([0, 1], [0, 1], linestyle='--', color='red')  # Perfectly calibrated line\n",
    "plt.xlabel('Mean Predicted Probability')\n",
    "plt.ylabel('Fraction of Positives')\n",
    "plt.title('Calibration Curve')\n",
    "plt.grid(True)\n",
    "plt.show()"
   ]
  },
  {
   "cell_type": "code",
   "execution_count": 338,
   "id": "b4de176f",
   "metadata": {},
   "outputs": [
    {
     "data": {
      "image/png": "[encoded data removed]",
      "text/plain": [
       "<Figure size 576x432 with 1 Axes>"
      ]
     },
     "metadata": {
      "needs_background": "light"
     },
     "output_type": "display_data"
    }
   ],
   "source": [
    "# Get the predicted probabilities from the logistic regression model\n",
    "predicted_probs_6 = logit_result_6.predict(W_with_const_6)\n",
    "\n",
    "# Calculate the calibration curve\n",
    "prob_true, prob_pred = calibration_curve(v, predicted_probs_6, n_bins=10, strategy='uniform')\n",
    "\n",
    "# Plot the calibration curve\n",
    "plt.figure(figsize=(8, 6))\n",
    "plt.plot(prob_pred, prob_true, marker='o', linestyle='-', color='steelblue')\n",
    "plt.plot([0, 1], [0, 1], linestyle='--', color='red')  # Perfectly calibrated line\n",
    "plt.xlabel('Mean Predicted Probability')\n",
    "plt.ylabel('Fraction of Positives')\n",
    "plt.title('Calibration Curve')\n",
    "plt.grid(True)\n",
    "plt.show()"
   ]
  },
  {
   "cell_type": "markdown",
   "id": "78b9c577",
   "metadata": {},
   "source": [
    "***Observations***\n",
    "\n",
    "Both models have almost identical calibration curves. For both models, there is some over and underestimation, which indicates bias. For both models, the curve drastically drops and deviates from the perfectly calibrated line after the mean predicted probability of 0.81. "
   ]
  },
  {
   "cell_type": "markdown",
   "id": "38635d77",
   "metadata": {},
   "source": [
    "***Summary***\n",
    "\n",
    "Since both models have mean accuracy of 81%, have significant predictor variables, and have the same results when running a few evalution tests, it is our opinion that the reader can chose which of the two models they prefer:\n",
    "\n",
    "$ \\sigma_{1}(f_{1}) =\\displaystyle{\\frac{1}{1+e^{( -306.4327 + 0.1487x_{2} +  0.0679x_{3} - 3.4143x_{8})}}}$, "
   ]
  },
  {
   "cell_type": "markdown",
   "id": "8ebb6002",
   "metadata": {},
   "source": [
    "or"
   ]
  },
  {
   "cell_type": "markdown",
   "id": "f830625a",
   "metadata": {},
   "source": [
    "$ \\sigma_{2}(f_{2}) = \\displaystyle{\\frac{1}{1+e^{(-482.1972 + 0.1070x_{1} +  0.1476x_{2} - 0.0651x_{3} + 0.2230x_{4} - 0.2587x_{5} - 1.0023x_{6} -2.4946x_{7} - 2.9638x_{8})}}} $,"
   ]
  },
  {
   "cell_type": "markdown",
   "id": "e66b0293",
   "metadata": {},
   "source": [
    "where \n",
    "\n",
    "$f_{1}=  -306.4327 + 0.1487x_{2} +  0.0679x_{3} - 3.4143x_{8}$,\n",
    "\n",
    "$f_{2}= -482.1972 + 0.1070x_{1} +  0.1476x_{2} - 0.0651x_{3} + 0.2230x_{4} - 0.2587x_{5} - 1.0023x_{6} -2.4946x_{7} - 2.9638x_{8} $,\n",
    "\n",
    "and\n",
    "\n",
    "$ X_{1} \\sim $ *year*\n",
    "\n",
    "$ X_{2} \\sim $ *week*\n",
    "\n",
    "$ X_{3} \\sim $ *mosquito_number*\n",
    "\n",
    "$ X_{4} \\sim $ *trap_gravid*\n",
    "\n",
    "$ X_{5} \\sim $ *culex_restuans*\n",
    "\n",
    "$ X_{6} \\sim $ *culex_salinarius*\n",
    "\n",
    "$ X_{7} \\sim $ *culex_territans*\n",
    "\n",
    "$X_{8} \\sim $ *lon*."
   ]
  }
 ],
 "metadata": {
  "kernelspec": {
   "display_name": "Python 3 (ipykernel)",
   "language": "python",
   "name": "python3"
  },
  "language_info": {
   "codemirror_mode": {
    "name": "ipython",
    "version": 3
   },
   "file_extension": ".py",
   "mimetype": "text/x-python",
   "name": "python",
   "nbconvert_exporter": "python",
   "pygments_lexer": "ipython3",
   "version": "3.11.7"
  }
 },
 "nbformat": 4,
 "nbformat_minor": 5
}
